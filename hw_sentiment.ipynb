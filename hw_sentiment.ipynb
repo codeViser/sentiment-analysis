{
 "nbformat": 4,
 "nbformat_minor": 0,
 "metadata": {
  "accelerator": "GPU",
  "colab": {
   "name": "hw_sentiment.ipynb",
   "provenance": [],
   "collapsed_sections": [
    "SfRgudZNE4p8",
    "zcnS2g5GE4p-",
    "mXGiUhxnE4qB",
    "41k3pje5E4qD",
    "Q0gli5RcE4qE",
    "R3wVQ5zvE4qH",
    "BWiV502zE4qI",
    "PD12-AfbE4qI",
    "qxiIeHlzE4qJ",
    "EPSxqJvuU7nY",
    "Q5TTnjiJ4-V5",
    "47XJkLFv4-V5",
    "zxrE_LdR4-V7",
    "tlPoXVwxkOW6",
    "2fvF8_t_6HKy",
    "iX4-wPZ36CQ9",
    "irwlEMoimmzq",
    "ck4WfpyQrUgs",
    "MMUUEslQ-ymc",
    "DehwZWKrTaWf",
    "HSprTVYrxJUA",
    "_W575sEC0WhT",
    "mPsEjWbeJt25",
    "uxzJdE6_9zk_"
   ],
   "machine_shape": "hm"
  },
  "interpreter": {
   "hash": "e8565501620aab79e4b3b5ff526196cdd0e893328ab762a727f20a8f71d3c77c"
  },
  "kernelspec": {
   "display_name": "Python 3",
   "language": "python",
   "name": "python3"
  },
  "language_info": {
   "codemirror_mode": {
    "name": "ipython",
    "version": 3
   },
   "file_extension": ".py",
   "mimetype": "text/x-python",
   "name": "python",
   "nbconvert_exporter": "python",
   "pygments_lexer": "ipython3",
   "version": "3.8.8"
  },
  "widgets": {
   "application/vnd.jupyter.widget-state+json": {
    "ef4a007d34654e5ca79c41ee9b68a0e7": {
     "model_module": "@jupyter-widgets/controls",
     "model_name": "HBoxModel",
     "model_module_version": "1.5.0",
     "state": {
      "_view_name": "HBoxView",
      "_dom_classes": [],
      "_model_name": "HBoxModel",
      "_view_module": "@jupyter-widgets/controls",
      "_model_module_version": "1.5.0",
      "_view_count": null,
      "_view_module_version": "1.5.0",
      "box_style": "",
      "layout": "IPY_MODEL_5a2cb095058141eba555ee09cd54dc37",
      "_model_module": "@jupyter-widgets/controls",
      "children": [
       "IPY_MODEL_41d8d04b55cb41ab8bdd29a66ebcfc6c",
       "IPY_MODEL_7e40ae05da1240eaacc15696aee51b4b",
       "IPY_MODEL_6189d115bc424bad888f484a4d202e29"
      ]
     }
    },
    "5a2cb095058141eba555ee09cd54dc37": {
     "model_module": "@jupyter-widgets/base",
     "model_name": "LayoutModel",
     "model_module_version": "1.2.0",
     "state": {
      "_view_name": "LayoutView",
      "grid_template_rows": null,
      "right": null,
      "justify_content": null,
      "_view_module": "@jupyter-widgets/base",
      "overflow": null,
      "_model_module_version": "1.2.0",
      "_view_count": null,
      "flex_flow": null,
      "width": null,
      "min_width": null,
      "border": null,
      "align_items": null,
      "bottom": null,
      "_model_module": "@jupyter-widgets/base",
      "top": null,
      "grid_column": null,
      "overflow_y": null,
      "overflow_x": null,
      "grid_auto_flow": null,
      "grid_area": null,
      "grid_template_columns": null,
      "flex": null,
      "_model_name": "LayoutModel",
      "justify_items": null,
      "grid_row": null,
      "max_height": null,
      "align_content": null,
      "visibility": null,
      "align_self": null,
      "height": null,
      "min_height": null,
      "padding": null,
      "grid_auto_rows": null,
      "grid_gap": null,
      "max_width": null,
      "order": null,
      "_view_module_version": "1.2.0",
      "grid_template_areas": null,
      "object_position": null,
      "object_fit": null,
      "grid_auto_columns": null,
      "margin": null,
      "display": null,
      "left": null
     }
    },
    "41d8d04b55cb41ab8bdd29a66ebcfc6c": {
     "model_module": "@jupyter-widgets/controls",
     "model_name": "HTMLModel",
     "model_module_version": "1.5.0",
     "state": {
      "_view_name": "HTMLView",
      "style": "IPY_MODEL_23a84edf2e434170a18fbb7d20b9b0d8",
      "_dom_classes": [],
      "description": "",
      "_model_name": "HTMLModel",
      "placeholder": "​",
      "_view_module": "@jupyter-widgets/controls",
      "_model_module_version": "1.5.0",
      "value": "Downloading: 100%",
      "_view_count": null,
      "_view_module_version": "1.5.0",
      "description_tooltip": null,
      "_model_module": "@jupyter-widgets/controls",
      "layout": "IPY_MODEL_70d076bfceb8438db5114c8f22365372"
     }
    },
    "7e40ae05da1240eaacc15696aee51b4b": {
     "model_module": "@jupyter-widgets/controls",
     "model_name": "FloatProgressModel",
     "model_module_version": "1.5.0",
     "state": {
      "_view_name": "ProgressView",
      "style": "IPY_MODEL_4ea06e598be84919b76e093853b8d62a",
      "_dom_classes": [],
      "description": "",
      "_model_name": "FloatProgressModel",
      "bar_style": "success",
      "max": 231508,
      "_view_module": "@jupyter-widgets/controls",
      "_model_module_version": "1.5.0",
      "value": 231508,
      "_view_count": null,
      "_view_module_version": "1.5.0",
      "orientation": "horizontal",
      "min": 0,
      "description_tooltip": null,
      "_model_module": "@jupyter-widgets/controls",
      "layout": "IPY_MODEL_ce557dad1b5e4218827fefef3df55e92"
     }
    },
    "6189d115bc424bad888f484a4d202e29": {
     "model_module": "@jupyter-widgets/controls",
     "model_name": "HTMLModel",
     "model_module_version": "1.5.0",
     "state": {
      "_view_name": "HTMLView",
      "style": "IPY_MODEL_998792a222224ce5aab18724e34bd1a2",
      "_dom_classes": [],
      "description": "",
      "_model_name": "HTMLModel",
      "placeholder": "​",
      "_view_module": "@jupyter-widgets/controls",
      "_model_module_version": "1.5.0",
      "value": " 232k/232k [00:00&lt;00:00, 2.68MB/s]",
      "_view_count": null,
      "_view_module_version": "1.5.0",
      "description_tooltip": null,
      "_model_module": "@jupyter-widgets/controls",
      "layout": "IPY_MODEL_652f2f6add42459db51ada269a8c5203"
     }
    },
    "23a84edf2e434170a18fbb7d20b9b0d8": {
     "model_module": "@jupyter-widgets/controls",
     "model_name": "DescriptionStyleModel",
     "model_module_version": "1.5.0",
     "state": {
      "_view_name": "StyleView",
      "_model_name": "DescriptionStyleModel",
      "description_width": "",
      "_view_module": "@jupyter-widgets/base",
      "_model_module_version": "1.5.0",
      "_view_count": null,
      "_view_module_version": "1.2.0",
      "_model_module": "@jupyter-widgets/controls"
     }
    },
    "70d076bfceb8438db5114c8f22365372": {
     "model_module": "@jupyter-widgets/base",
     "model_name": "LayoutModel",
     "model_module_version": "1.2.0",
     "state": {
      "_view_name": "LayoutView",
      "grid_template_rows": null,
      "right": null,
      "justify_content": null,
      "_view_module": "@jupyter-widgets/base",
      "overflow": null,
      "_model_module_version": "1.2.0",
      "_view_count": null,
      "flex_flow": null,
      "width": null,
      "min_width": null,
      "border": null,
      "align_items": null,
      "bottom": null,
      "_model_module": "@jupyter-widgets/base",
      "top": null,
      "grid_column": null,
      "overflow_y": null,
      "overflow_x": null,
      "grid_auto_flow": null,
      "grid_area": null,
      "grid_template_columns": null,
      "flex": null,
      "_model_name": "LayoutModel",
      "justify_items": null,
      "grid_row": null,
      "max_height": null,
      "align_content": null,
      "visibility": null,
      "align_self": null,
      "height": null,
      "min_height": null,
      "padding": null,
      "grid_auto_rows": null,
      "grid_gap": null,
      "max_width": null,
      "order": null,
      "_view_module_version": "1.2.0",
      "grid_template_areas": null,
      "object_position": null,
      "object_fit": null,
      "grid_auto_columns": null,
      "margin": null,
      "display": null,
      "left": null
     }
    },
    "4ea06e598be84919b76e093853b8d62a": {
     "model_module": "@jupyter-widgets/controls",
     "model_name": "ProgressStyleModel",
     "model_module_version": "1.5.0",
     "state": {
      "_view_name": "StyleView",
      "_model_name": "ProgressStyleModel",
      "description_width": "",
      "_view_module": "@jupyter-widgets/base",
      "_model_module_version": "1.5.0",
      "_view_count": null,
      "_view_module_version": "1.2.0",
      "bar_color": null,
      "_model_module": "@jupyter-widgets/controls"
     }
    },
    "ce557dad1b5e4218827fefef3df55e92": {
     "model_module": "@jupyter-widgets/base",
     "model_name": "LayoutModel",
     "model_module_version": "1.2.0",
     "state": {
      "_view_name": "LayoutView",
      "grid_template_rows": null,
      "right": null,
      "justify_content": null,
      "_view_module": "@jupyter-widgets/base",
      "overflow": null,
      "_model_module_version": "1.2.0",
      "_view_count": null,
      "flex_flow": null,
      "width": null,
      "min_width": null,
      "border": null,
      "align_items": null,
      "bottom": null,
      "_model_module": "@jupyter-widgets/base",
      "top": null,
      "grid_column": null,
      "overflow_y": null,
      "overflow_x": null,
      "grid_auto_flow": null,
      "grid_area": null,
      "grid_template_columns": null,
      "flex": null,
      "_model_name": "LayoutModel",
      "justify_items": null,
      "grid_row": null,
      "max_height": null,
      "align_content": null,
      "visibility": null,
      "align_self": null,
      "height": null,
      "min_height": null,
      "padding": null,
      "grid_auto_rows": null,
      "grid_gap": null,
      "max_width": null,
      "order": null,
      "_view_module_version": "1.2.0",
      "grid_template_areas": null,
      "object_position": null,
      "object_fit": null,
      "grid_auto_columns": null,
      "margin": null,
      "display": null,
      "left": null
     }
    },
    "998792a222224ce5aab18724e34bd1a2": {
     "model_module": "@jupyter-widgets/controls",
     "model_name": "DescriptionStyleModel",
     "model_module_version": "1.5.0",
     "state": {
      "_view_name": "StyleView",
      "_model_name": "DescriptionStyleModel",
      "description_width": "",
      "_view_module": "@jupyter-widgets/base",
      "_model_module_version": "1.5.0",
      "_view_count": null,
      "_view_module_version": "1.2.0",
      "_model_module": "@jupyter-widgets/controls"
     }
    },
    "652f2f6add42459db51ada269a8c5203": {
     "model_module": "@jupyter-widgets/base",
     "model_name": "LayoutModel",
     "model_module_version": "1.2.0",
     "state": {
      "_view_name": "LayoutView",
      "grid_template_rows": null,
      "right": null,
      "justify_content": null,
      "_view_module": "@jupyter-widgets/base",
      "overflow": null,
      "_model_module_version": "1.2.0",
      "_view_count": null,
      "flex_flow": null,
      "width": null,
      "min_width": null,
      "border": null,
      "align_items": null,
      "bottom": null,
      "_model_module": "@jupyter-widgets/base",
      "top": null,
      "grid_column": null,
      "overflow_y": null,
      "overflow_x": null,
      "grid_auto_flow": null,
      "grid_area": null,
      "grid_template_columns": null,
      "flex": null,
      "_model_name": "LayoutModel",
      "justify_items": null,
      "grid_row": null,
      "max_height": null,
      "align_content": null,
      "visibility": null,
      "align_self": null,
      "height": null,
      "min_height": null,
      "padding": null,
      "grid_auto_rows": null,
      "grid_gap": null,
      "max_width": null,
      "order": null,
      "_view_module_version": "1.2.0",
      "grid_template_areas": null,
      "object_position": null,
      "object_fit": null,
      "grid_auto_columns": null,
      "margin": null,
      "display": null,
      "left": null
     }
    },
    "ee842f353f674722abbcc59c98458b9c": {
     "model_module": "@jupyter-widgets/controls",
     "model_name": "HBoxModel",
     "model_module_version": "1.5.0",
     "state": {
      "_view_name": "HBoxView",
      "_dom_classes": [],
      "_model_name": "HBoxModel",
      "_view_module": "@jupyter-widgets/controls",
      "_model_module_version": "1.5.0",
      "_view_count": null,
      "_view_module_version": "1.5.0",
      "box_style": "",
      "layout": "IPY_MODEL_d9f69fdba32349b5bf093f31044ab4c4",
      "_model_module": "@jupyter-widgets/controls",
      "children": [
       "IPY_MODEL_bfd5358bb23940d9bc5b6897c1c1b303",
       "IPY_MODEL_376e1466d12b4541a0bb2df06741a14a",
       "IPY_MODEL_9c4a0324473d4305a1f54406cbd91c8b"
      ]
     }
    },
    "d9f69fdba32349b5bf093f31044ab4c4": {
     "model_module": "@jupyter-widgets/base",
     "model_name": "LayoutModel",
     "model_module_version": "1.2.0",
     "state": {
      "_view_name": "LayoutView",
      "grid_template_rows": null,
      "right": null,
      "justify_content": null,
      "_view_module": "@jupyter-widgets/base",
      "overflow": null,
      "_model_module_version": "1.2.0",
      "_view_count": null,
      "flex_flow": null,
      "width": null,
      "min_width": null,
      "border": null,
      "align_items": null,
      "bottom": null,
      "_model_module": "@jupyter-widgets/base",
      "top": null,
      "grid_column": null,
      "overflow_y": null,
      "overflow_x": null,
      "grid_auto_flow": null,
      "grid_area": null,
      "grid_template_columns": null,
      "flex": null,
      "_model_name": "LayoutModel",
      "justify_items": null,
      "grid_row": null,
      "max_height": null,
      "align_content": null,
      "visibility": null,
      "align_self": null,
      "height": null,
      "min_height": null,
      "padding": null,
      "grid_auto_rows": null,
      "grid_gap": null,
      "max_width": null,
      "order": null,
      "_view_module_version": "1.2.0",
      "grid_template_areas": null,
      "object_position": null,
      "object_fit": null,
      "grid_auto_columns": null,
      "margin": null,
      "display": null,
      "left": null
     }
    },
    "bfd5358bb23940d9bc5b6897c1c1b303": {
     "model_module": "@jupyter-widgets/controls",
     "model_name": "HTMLModel",
     "model_module_version": "1.5.0",
     "state": {
      "_view_name": "HTMLView",
      "style": "IPY_MODEL_0bde278e2a014c0dab704b8fdee6bd2a",
      "_dom_classes": [],
      "description": "",
      "_model_name": "HTMLModel",
      "placeholder": "​",
      "_view_module": "@jupyter-widgets/controls",
      "_model_module_version": "1.5.0",
      "value": "Downloading: 100%",
      "_view_count": null,
      "_view_module_version": "1.5.0",
      "description_tooltip": null,
      "_model_module": "@jupyter-widgets/controls",
      "layout": "IPY_MODEL_915234df03ae4c9db2b04fd5d6f75a8e"
     }
    },
    "376e1466d12b4541a0bb2df06741a14a": {
     "model_module": "@jupyter-widgets/controls",
     "model_name": "FloatProgressModel",
     "model_module_version": "1.5.0",
     "state": {
      "_view_name": "ProgressView",
      "style": "IPY_MODEL_4763ed0be807452f94473ddb98428a21",
      "_dom_classes": [],
      "description": "",
      "_model_name": "FloatProgressModel",
      "bar_style": "success",
      "max": 570,
      "_view_module": "@jupyter-widgets/controls",
      "_model_module_version": "1.5.0",
      "value": 570,
      "_view_count": null,
      "_view_module_version": "1.5.0",
      "orientation": "horizontal",
      "min": 0,
      "description_tooltip": null,
      "_model_module": "@jupyter-widgets/controls",
      "layout": "IPY_MODEL_630b7f7df2234cb98c196f4caf28f281"
     }
    },
    "9c4a0324473d4305a1f54406cbd91c8b": {
     "model_module": "@jupyter-widgets/controls",
     "model_name": "HTMLModel",
     "model_module_version": "1.5.0",
     "state": {
      "_view_name": "HTMLView",
      "style": "IPY_MODEL_5abe0b0d066b41d19cb20dafd3b02139",
      "_dom_classes": [],
      "description": "",
      "_model_name": "HTMLModel",
      "placeholder": "​",
      "_view_module": "@jupyter-widgets/controls",
      "_model_module_version": "1.5.0",
      "value": " 570/570 [00:00&lt;00:00, 22.9kB/s]",
      "_view_count": null,
      "_view_module_version": "1.5.0",
      "description_tooltip": null,
      "_model_module": "@jupyter-widgets/controls",
      "layout": "IPY_MODEL_48700b430ab8421aab0ce8c8a8283234"
     }
    },
    "0bde278e2a014c0dab704b8fdee6bd2a": {
     "model_module": "@jupyter-widgets/controls",
     "model_name": "DescriptionStyleModel",
     "model_module_version": "1.5.0",
     "state": {
      "_view_name": "StyleView",
      "_model_name": "DescriptionStyleModel",
      "description_width": "",
      "_view_module": "@jupyter-widgets/base",
      "_model_module_version": "1.5.0",
      "_view_count": null,
      "_view_module_version": "1.2.0",
      "_model_module": "@jupyter-widgets/controls"
     }
    },
    "915234df03ae4c9db2b04fd5d6f75a8e": {
     "model_module": "@jupyter-widgets/base",
     "model_name": "LayoutModel",
     "model_module_version": "1.2.0",
     "state": {
      "_view_name": "LayoutView",
      "grid_template_rows": null,
      "right": null,
      "justify_content": null,
      "_view_module": "@jupyter-widgets/base",
      "overflow": null,
      "_model_module_version": "1.2.0",
      "_view_count": null,
      "flex_flow": null,
      "width": null,
      "min_width": null,
      "border": null,
      "align_items": null,
      "bottom": null,
      "_model_module": "@jupyter-widgets/base",
      "top": null,
      "grid_column": null,
      "overflow_y": null,
      "overflow_x": null,
      "grid_auto_flow": null,
      "grid_area": null,
      "grid_template_columns": null,
      "flex": null,
      "_model_name": "LayoutModel",
      "justify_items": null,
      "grid_row": null,
      "max_height": null,
      "align_content": null,
      "visibility": null,
      "align_self": null,
      "height": null,
      "min_height": null,
      "padding": null,
      "grid_auto_rows": null,
      "grid_gap": null,
      "max_width": null,
      "order": null,
      "_view_module_version": "1.2.0",
      "grid_template_areas": null,
      "object_position": null,
      "object_fit": null,
      "grid_auto_columns": null,
      "margin": null,
      "display": null,
      "left": null
     }
    },
    "4763ed0be807452f94473ddb98428a21": {
     "model_module": "@jupyter-widgets/controls",
     "model_name": "ProgressStyleModel",
     "model_module_version": "1.5.0",
     "state": {
      "_view_name": "StyleView",
      "_model_name": "ProgressStyleModel",
      "description_width": "",
      "_view_module": "@jupyter-widgets/base",
      "_model_module_version": "1.5.0",
      "_view_count": null,
      "_view_module_version": "1.2.0",
      "bar_color": null,
      "_model_module": "@jupyter-widgets/controls"
     }
    },
    "630b7f7df2234cb98c196f4caf28f281": {
     "model_module": "@jupyter-widgets/base",
     "model_name": "LayoutModel",
     "model_module_version": "1.2.0",
     "state": {
      "_view_name": "LayoutView",
      "grid_template_rows": null,
      "right": null,
      "justify_content": null,
      "_view_module": "@jupyter-widgets/base",
      "overflow": null,
      "_model_module_version": "1.2.0",
      "_view_count": null,
      "flex_flow": null,
      "width": null,
      "min_width": null,
      "border": null,
      "align_items": null,
      "bottom": null,
      "_model_module": "@jupyter-widgets/base",
      "top": null,
      "grid_column": null,
      "overflow_y": null,
      "overflow_x": null,
      "grid_auto_flow": null,
      "grid_area": null,
      "grid_template_columns": null,
      "flex": null,
      "_model_name": "LayoutModel",
      "justify_items": null,
      "grid_row": null,
      "max_height": null,
      "align_content": null,
      "visibility": null,
      "align_self": null,
      "height": null,
      "min_height": null,
      "padding": null,
      "grid_auto_rows": null,
      "grid_gap": null,
      "max_width": null,
      "order": null,
      "_view_module_version": "1.2.0",
      "grid_template_areas": null,
      "object_position": null,
      "object_fit": null,
      "grid_auto_columns": null,
      "margin": null,
      "display": null,
      "left": null
     }
    },
    "5abe0b0d066b41d19cb20dafd3b02139": {
     "model_module": "@jupyter-widgets/controls",
     "model_name": "DescriptionStyleModel",
     "model_module_version": "1.5.0",
     "state": {
      "_view_name": "StyleView",
      "_model_name": "DescriptionStyleModel",
      "description_width": "",
      "_view_module": "@jupyter-widgets/base",
      "_model_module_version": "1.5.0",
      "_view_count": null,
      "_view_module_version": "1.2.0",
      "_model_module": "@jupyter-widgets/controls"
     }
    },
    "48700b430ab8421aab0ce8c8a8283234": {
     "model_module": "@jupyter-widgets/base",
     "model_name": "LayoutModel",
     "model_module_version": "1.2.0",
     "state": {
      "_view_name": "LayoutView",
      "grid_template_rows": null,
      "right": null,
      "justify_content": null,
      "_view_module": "@jupyter-widgets/base",
      "overflow": null,
      "_model_module_version": "1.2.0",
      "_view_count": null,
      "flex_flow": null,
      "width": null,
      "min_width": null,
      "border": null,
      "align_items": null,
      "bottom": null,
      "_model_module": "@jupyter-widgets/base",
      "top": null,
      "grid_column": null,
      "overflow_y": null,
      "overflow_x": null,
      "grid_auto_flow": null,
      "grid_area": null,
      "grid_template_columns": null,
      "flex": null,
      "_model_name": "LayoutModel",
      "justify_items": null,
      "grid_row": null,
      "max_height": null,
      "align_content": null,
      "visibility": null,
      "align_self": null,
      "height": null,
      "min_height": null,
      "padding": null,
      "grid_auto_rows": null,
      "grid_gap": null,
      "max_width": null,
      "order": null,
      "_view_module_version": "1.2.0",
      "grid_template_areas": null,
      "object_position": null,
      "object_fit": null,
      "grid_auto_columns": null,
      "margin": null,
      "display": null,
      "left": null
     }
    },
    "0806d8df1976451ca0873742920b7576": {
     "model_module": "@jupyter-widgets/controls",
     "model_name": "HBoxModel",
     "model_module_version": "1.5.0",
     "state": {
      "_view_name": "HBoxView",
      "_dom_classes": [],
      "_model_name": "HBoxModel",
      "_view_module": "@jupyter-widgets/controls",
      "_model_module_version": "1.5.0",
      "_view_count": null,
      "_view_module_version": "1.5.0",
      "box_style": "",
      "layout": "IPY_MODEL_a8d91ebfeda046a6a9eaf9884139cb26",
      "_model_module": "@jupyter-widgets/controls",
      "children": [
       "IPY_MODEL_6f6a325bee1646d9ad96259ab43e74d0",
       "IPY_MODEL_2aa98d0fe827422a99c309a869a64757",
       "IPY_MODEL_125e937fad444112a69da38c5a1d4522"
      ]
     }
    },
    "a8d91ebfeda046a6a9eaf9884139cb26": {
     "model_module": "@jupyter-widgets/base",
     "model_name": "LayoutModel",
     "model_module_version": "1.2.0",
     "state": {
      "_view_name": "LayoutView",
      "grid_template_rows": null,
      "right": null,
      "justify_content": null,
      "_view_module": "@jupyter-widgets/base",
      "overflow": null,
      "_model_module_version": "1.2.0",
      "_view_count": null,
      "flex_flow": null,
      "width": null,
      "min_width": null,
      "border": null,
      "align_items": null,
      "bottom": null,
      "_model_module": "@jupyter-widgets/base",
      "top": null,
      "grid_column": null,
      "overflow_y": null,
      "overflow_x": null,
      "grid_auto_flow": null,
      "grid_area": null,
      "grid_template_columns": null,
      "flex": null,
      "_model_name": "LayoutModel",
      "justify_items": null,
      "grid_row": null,
      "max_height": null,
      "align_content": null,
      "visibility": null,
      "align_self": null,
      "height": null,
      "min_height": null,
      "padding": null,
      "grid_auto_rows": null,
      "grid_gap": null,
      "max_width": null,
      "order": null,
      "_view_module_version": "1.2.0",
      "grid_template_areas": null,
      "object_position": null,
      "object_fit": null,
      "grid_auto_columns": null,
      "margin": null,
      "display": null,
      "left": null
     }
    },
    "6f6a325bee1646d9ad96259ab43e74d0": {
     "model_module": "@jupyter-widgets/controls",
     "model_name": "HTMLModel",
     "model_module_version": "1.5.0",
     "state": {
      "_view_name": "HTMLView",
      "style": "IPY_MODEL_e74bc431adec4c41a1e70f0e1a1444d0",
      "_dom_classes": [],
      "description": "",
      "_model_name": "HTMLModel",
      "placeholder": "​",
      "_view_module": "@jupyter-widgets/controls",
      "_model_module_version": "1.5.0",
      "value": "Downloading: 100%",
      "_view_count": null,
      "_view_module_version": "1.5.0",
      "description_tooltip": null,
      "_model_module": "@jupyter-widgets/controls",
      "layout": "IPY_MODEL_4714d6f206ea41d5a1fe479a7ecfe992"
     }
    },
    "2aa98d0fe827422a99c309a869a64757": {
     "model_module": "@jupyter-widgets/controls",
     "model_name": "FloatProgressModel",
     "model_module_version": "1.5.0",
     "state": {
      "_view_name": "ProgressView",
      "style": "IPY_MODEL_a9f88d1c46a04f8fb8fe82c27532b4e7",
      "_dom_classes": [],
      "description": "",
      "_model_name": "FloatProgressModel",
      "bar_style": "success",
      "max": 440473133,
      "_view_module": "@jupyter-widgets/controls",
      "_model_module_version": "1.5.0",
      "value": 440473133,
      "_view_count": null,
      "_view_module_version": "1.5.0",
      "orientation": "horizontal",
      "min": 0,
      "description_tooltip": null,
      "_model_module": "@jupyter-widgets/controls",
      "layout": "IPY_MODEL_765187d1c80641cda81378c6265c35fc"
     }
    },
    "125e937fad444112a69da38c5a1d4522": {
     "model_module": "@jupyter-widgets/controls",
     "model_name": "HTMLModel",
     "model_module_version": "1.5.0",
     "state": {
      "_view_name": "HTMLView",
      "style": "IPY_MODEL_65385a4d835d41e7a2b2b5cd4737bfab",
      "_dom_classes": [],
      "description": "",
      "_model_name": "HTMLModel",
      "placeholder": "​",
      "_view_module": "@jupyter-widgets/controls",
      "_model_module_version": "1.5.0",
      "value": " 440M/440M [00:08&lt;00:00, 43.6MB/s]",
      "_view_count": null,
      "_view_module_version": "1.5.0",
      "description_tooltip": null,
      "_model_module": "@jupyter-widgets/controls",
      "layout": "IPY_MODEL_4d79f43a197246758b3996ab569c0066"
     }
    },
    "e74bc431adec4c41a1e70f0e1a1444d0": {
     "model_module": "@jupyter-widgets/controls",
     "model_name": "DescriptionStyleModel",
     "model_module_version": "1.5.0",
     "state": {
      "_view_name": "StyleView",
      "_model_name": "DescriptionStyleModel",
      "description_width": "",
      "_view_module": "@jupyter-widgets/base",
      "_model_module_version": "1.5.0",
      "_view_count": null,
      "_view_module_version": "1.2.0",
      "_model_module": "@jupyter-widgets/controls"
     }
    },
    "4714d6f206ea41d5a1fe479a7ecfe992": {
     "model_module": "@jupyter-widgets/base",
     "model_name": "LayoutModel",
     "model_module_version": "1.2.0",
     "state": {
      "_view_name": "LayoutView",
      "grid_template_rows": null,
      "right": null,
      "justify_content": null,
      "_view_module": "@jupyter-widgets/base",
      "overflow": null,
      "_model_module_version": "1.2.0",
      "_view_count": null,
      "flex_flow": null,
      "width": null,
      "min_width": null,
      "border": null,
      "align_items": null,
      "bottom": null,
      "_model_module": "@jupyter-widgets/base",
      "top": null,
      "grid_column": null,
      "overflow_y": null,
      "overflow_x": null,
      "grid_auto_flow": null,
      "grid_area": null,
      "grid_template_columns": null,
      "flex": null,
      "_model_name": "LayoutModel",
      "justify_items": null,
      "grid_row": null,
      "max_height": null,
      "align_content": null,
      "visibility": null,
      "align_self": null,
      "height": null,
      "min_height": null,
      "padding": null,
      "grid_auto_rows": null,
      "grid_gap": null,
      "max_width": null,
      "order": null,
      "_view_module_version": "1.2.0",
      "grid_template_areas": null,
      "object_position": null,
      "object_fit": null,
      "grid_auto_columns": null,
      "margin": null,
      "display": null,
      "left": null
     }
    },
    "a9f88d1c46a04f8fb8fe82c27532b4e7": {
     "model_module": "@jupyter-widgets/controls",
     "model_name": "ProgressStyleModel",
     "model_module_version": "1.5.0",
     "state": {
      "_view_name": "StyleView",
      "_model_name": "ProgressStyleModel",
      "description_width": "",
      "_view_module": "@jupyter-widgets/base",
      "_model_module_version": "1.5.0",
      "_view_count": null,
      "_view_module_version": "1.2.0",
      "bar_color": null,
      "_model_module": "@jupyter-widgets/controls"
     }
    },
    "765187d1c80641cda81378c6265c35fc": {
     "model_module": "@jupyter-widgets/base",
     "model_name": "LayoutModel",
     "model_module_version": "1.2.0",
     "state": {
      "_view_name": "LayoutView",
      "grid_template_rows": null,
      "right": null,
      "justify_content": null,
      "_view_module": "@jupyter-widgets/base",
      "overflow": null,
      "_model_module_version": "1.2.0",
      "_view_count": null,
      "flex_flow": null,
      "width": null,
      "min_width": null,
      "border": null,
      "align_items": null,
      "bottom": null,
      "_model_module": "@jupyter-widgets/base",
      "top": null,
      "grid_column": null,
      "overflow_y": null,
      "overflow_x": null,
      "grid_auto_flow": null,
      "grid_area": null,
      "grid_template_columns": null,
      "flex": null,
      "_model_name": "LayoutModel",
      "justify_items": null,
      "grid_row": null,
      "max_height": null,
      "align_content": null,
      "visibility": null,
      "align_self": null,
      "height": null,
      "min_height": null,
      "padding": null,
      "grid_auto_rows": null,
      "grid_gap": null,
      "max_width": null,
      "order": null,
      "_view_module_version": "1.2.0",
      "grid_template_areas": null,
      "object_position": null,
      "object_fit": null,
      "grid_auto_columns": null,
      "margin": null,
      "display": null,
      "left": null
     }
    },
    "65385a4d835d41e7a2b2b5cd4737bfab": {
     "model_module": "@jupyter-widgets/controls",
     "model_name": "DescriptionStyleModel",
     "model_module_version": "1.5.0",
     "state": {
      "_view_name": "StyleView",
      "_model_name": "DescriptionStyleModel",
      "description_width": "",
      "_view_module": "@jupyter-widgets/base",
      "_model_module_version": "1.5.0",
      "_view_count": null,
      "_view_module_version": "1.2.0",
      "_model_module": "@jupyter-widgets/controls"
     }
    },
    "4d79f43a197246758b3996ab569c0066": {
     "model_module": "@jupyter-widgets/base",
     "model_name": "LayoutModel",
     "model_module_version": "1.2.0",
     "state": {
      "_view_name": "LayoutView",
      "grid_template_rows": null,
      "right": null,
      "justify_content": null,
      "_view_module": "@jupyter-widgets/base",
      "overflow": null,
      "_model_module_version": "1.2.0",
      "_view_count": null,
      "flex_flow": null,
      "width": null,
      "min_width": null,
      "border": null,
      "align_items": null,
      "bottom": null,
      "_model_module": "@jupyter-widgets/base",
      "top": null,
      "grid_column": null,
      "overflow_y": null,
      "overflow_x": null,
      "grid_auto_flow": null,
      "grid_area": null,
      "grid_template_columns": null,
      "flex": null,
      "_model_name": "LayoutModel",
      "justify_items": null,
      "grid_row": null,
      "max_height": null,
      "align_content": null,
      "visibility": null,
      "align_self": null,
      "height": null,
      "min_height": null,
      "padding": null,
      "grid_auto_rows": null,
      "grid_gap": null,
      "max_width": null,
      "order": null,
      "_view_module_version": "1.2.0",
      "grid_template_areas": null,
      "object_position": null,
      "object_fit": null,
      "grid_auto_columns": null,
      "margin": null,
      "display": null,
      "left": null
     }
    }
   }
  }
 },
 "cells": [
  {
   "cell_type": "markdown",
   "metadata": {
    "id": "1k36IqixE4p1"
   },
   "source": [
    "# Sentiment analysis: Research Investigation"
   ]
  },
  {
   "cell_type": "code",
   "metadata": {
    "id": "FrOCbgjnE4p4"
   },
   "source": [
    "__author__ = \"Shubham Chowdhary\"\n",
    "__version__ = \"Original System, XCS224u, Stanford, Spring 2021\""
   ],
   "execution_count": null,
   "outputs": []
  },
  {
   "cell_type": "code",
   "metadata": {
    "colab": {
     "base_uri": "https://localhost:8080/"
    },
    "id": "j_pHmrYNWGbm",
    "executionInfo": {
     "status": "ok",
     "timestamp": 1631460805907,
     "user_tz": -330,
     "elapsed": 111341,
     "user": {
      "displayName": "Shubham Chowdhary",
      "photoUrl": "https://lh3.googleusercontent.com/a-/AOh14GgFkFw1pKwpL_S-zFEuR17zOZk_I_CGJ-d72aCpmg=s64",
      "userId": "09510905510812321280"
     }
    },
    "outputId": "5158a065-041a-4ddd-e477-5b0a676943e5"
   },
   "source": [
    "# Mount colab drive\n",
    "# import os\n",
    "#\n",
    "# if 'IS_GRADESCOPE_ENV' not in os.environ:\n",
    "#     from google.colab import drive\n",
    "#     drive.mount('/content/drive')"
   ],
   "execution_count": 1,
   "outputs": [
    {
     "output_type": "stream",
     "name": "stdout",
     "text": [
      "Mounted at /content/drive\n"
     ]
    }
   ]
  },
  {
   "cell_type": "code",
   "metadata": {
    "colab": {
     "base_uri": "https://localhost:8080/"
    },
    "id": "YB_nsgLKFhUY",
    "executionInfo": {
     "status": "ok",
     "timestamp": 1631460807670,
     "user_tz": -330,
     "elapsed": 1768,
     "user": {
      "displayName": "Shubham Chowdhary",
      "photoUrl": "https://lh3.googleusercontent.com/a-/AOh14GgFkFw1pKwpL_S-zFEuR17zOZk_I_CGJ-d72aCpmg=s64",
      "userId": "09510905510812321280"
     }
    },
    "outputId": "799ab890-718e-4fa4-ddf6-6a59e297e647"
   },
   "source": [
    "# verify python and gpu status\n",
    "# if 'IS_GRADESCOPE_ENV' not in os.environ:\n",
    "#     !pwd\n",
    "#     %cd /content/drive/MyDrive/MLDL/stanfordXCS224U/referenceRepo/cs224u\n",
    "#     !python --version\n",
    "#     !nvidia-smi"
   ],
   "execution_count": 2,
   "outputs": [
    {
     "output_type": "stream",
     "name": "stdout",
     "text": [
      "/content\n",
      "/content/drive/MyDrive/MLDL/stanfordXCS224U/referenceRepo/cs224u\n",
      "Python 3.7.11\n",
      "Sun Sep 12 15:33:26 2021       \n",
      "+-----------------------------------------------------------------------------+\n",
      "| NVIDIA-SMI 470.63.01    Driver Version: 460.32.03    CUDA Version: 11.2     |\n",
      "|-------------------------------+----------------------+----------------------+\n",
      "| GPU  Name        Persistence-M| Bus-Id        Disp.A | Volatile Uncorr. ECC |\n",
      "| Fan  Temp  Perf  Pwr:Usage/Cap|         Memory-Usage | GPU-Util  Compute M. |\n",
      "|                               |                      |               MIG M. |\n",
      "|===============================+======================+======================|\n",
      "|   0  Tesla P100-PCIE...  Off  | 00000000:00:04.0 Off |                    0 |\n",
      "| N/A   44C    P0    29W / 250W |      0MiB / 16280MiB |      0%      Default |\n",
      "|                               |                      |                  N/A |\n",
      "+-------------------------------+----------------------+----------------------+\n",
      "                                                                               \n",
      "+-----------------------------------------------------------------------------+\n",
      "| Processes:                                                                  |\n",
      "|  GPU   GI   CI        PID   Type   Process name                  GPU Memory |\n",
      "|        ID   ID                                                   Usage      |\n",
      "|=============================================================================|\n",
      "|  No running processes found                                                 |\n",
      "+-----------------------------------------------------------------------------+\n"
     ]
    }
   ]
  },
  {
   "cell_type": "code",
   "metadata": {
    "id": "wYRxvY53XOu8",
    "executionInfo": {
     "status": "ok",
     "timestamp": 1631460807671,
     "user_tz": -330,
     "elapsed": 3,
     "user": {
      "displayName": "Shubham Chowdhary",
      "photoUrl": "https://lh3.googleusercontent.com/a-/AOh14GgFkFw1pKwpL_S-zFEuR17zOZk_I_CGJ-d72aCpmg=s64",
      "userId": "09510905510812321280"
     }
    }
   },
   "source": [
    "# install pytorch 1.8-gpu\n",
    "# if 'IS_GRADESCOPE_ENV' not in os.environ:\n",
    "    # !pip install torch==1.8.0+cu111 torchvision==0.9.0+cu111 torchaudio==0.8.0 -f https://download.pytorch.org/whl/torch_stable.html"
   ],
   "execution_count": 4,
   "outputs": []
  },
  {
   "cell_type": "code",
   "metadata": {
    "colab": {
     "base_uri": "https://localhost:8080/"
    },
    "id": "DrVjLXxKa1EO",
    "executionInfo": {
     "status": "ok",
     "timestamp": 1631460813014,
     "user_tz": -330,
     "elapsed": 5345,
     "user": {
      "displayName": "Shubham Chowdhary",
      "photoUrl": "https://lh3.googleusercontent.com/a-/AOh14GgFkFw1pKwpL_S-zFEuR17zOZk_I_CGJ-d72aCpmg=s64",
      "userId": "09510905510812321280"
     }
    },
    "outputId": "20601b21-32e6-4985-e020-44f529519105"
   },
   "source": [
    "# install transformers 4.3.3 (works only after a retart of runtime if the pytorch package is freshly installed)\n",
    "# if 'IS_GRADESCOPE_ENV' not in os.environ:\n",
    "#     !pip install transformers==4.3.3"
   ],
   "execution_count": 5,
   "outputs": [
    {
     "output_type": "stream",
     "name": "stdout",
     "text": [
      "Collecting transformers==4.3.3\n",
      "  Downloading transformers-4.3.3-py3-none-any.whl (1.9 MB)\n",
      "\u001B[K     |████████████████████████████████| 1.9 MB 5.1 MB/s \n",
      "\u001B[?25hRequirement already satisfied: tqdm>=4.27 in /usr/local/lib/python3.7/dist-packages (from transformers==4.3.3) (4.62.0)\n",
      "Requirement already satisfied: importlib-metadata in /usr/local/lib/python3.7/dist-packages (from transformers==4.3.3) (4.6.4)\n",
      "Collecting sacremoses\n",
      "  Downloading sacremoses-0.0.45-py3-none-any.whl (895 kB)\n",
      "\u001B[K     |████████████████████████████████| 895 kB 74.8 MB/s \n",
      "\u001B[?25hRequirement already satisfied: packaging in /usr/local/lib/python3.7/dist-packages (from transformers==4.3.3) (21.0)\n",
      "Requirement already satisfied: requests in /usr/local/lib/python3.7/dist-packages (from transformers==4.3.3) (2.23.0)\n",
      "Requirement already satisfied: numpy>=1.17 in /usr/local/lib/python3.7/dist-packages (from transformers==4.3.3) (1.19.5)\n",
      "Requirement already satisfied: regex!=2019.12.17 in /usr/local/lib/python3.7/dist-packages (from transformers==4.3.3) (2019.12.20)\n",
      "Requirement already satisfied: filelock in /usr/local/lib/python3.7/dist-packages (from transformers==4.3.3) (3.0.12)\n",
      "Collecting tokenizers<0.11,>=0.10.1\n",
      "  Downloading tokenizers-0.10.3-cp37-cp37m-manylinux_2_5_x86_64.manylinux1_x86_64.manylinux_2_12_x86_64.manylinux2010_x86_64.whl (3.3 MB)\n",
      "\u001B[K     |████████████████████████████████| 3.3 MB 34.6 MB/s \n",
      "\u001B[?25hRequirement already satisfied: typing-extensions>=3.6.4 in /usr/local/lib/python3.7/dist-packages (from importlib-metadata->transformers==4.3.3) (3.7.4.3)\n",
      "Requirement already satisfied: zipp>=0.5 in /usr/local/lib/python3.7/dist-packages (from importlib-metadata->transformers==4.3.3) (3.5.0)\n",
      "Requirement already satisfied: pyparsing>=2.0.2 in /usr/local/lib/python3.7/dist-packages (from packaging->transformers==4.3.3) (2.4.7)\n",
      "Requirement already satisfied: certifi>=2017.4.17 in /usr/local/lib/python3.7/dist-packages (from requests->transformers==4.3.3) (2021.5.30)\n",
      "Requirement already satisfied: urllib3!=1.25.0,!=1.25.1,<1.26,>=1.21.1 in /usr/local/lib/python3.7/dist-packages (from requests->transformers==4.3.3) (1.24.3)\n",
      "Requirement already satisfied: idna<3,>=2.5 in /usr/local/lib/python3.7/dist-packages (from requests->transformers==4.3.3) (2.10)\n",
      "Requirement already satisfied: chardet<4,>=3.0.2 in /usr/local/lib/python3.7/dist-packages (from requests->transformers==4.3.3) (3.0.4)\n",
      "Requirement already satisfied: click in /usr/local/lib/python3.7/dist-packages (from sacremoses->transformers==4.3.3) (7.1.2)\n",
      "Requirement already satisfied: joblib in /usr/local/lib/python3.7/dist-packages (from sacremoses->transformers==4.3.3) (1.0.1)\n",
      "Requirement already satisfied: six in /usr/local/lib/python3.7/dist-packages (from sacremoses->transformers==4.3.3) (1.15.0)\n",
      "Installing collected packages: tokenizers, sacremoses, transformers\n",
      "Successfully installed sacremoses-0.0.45 tokenizers-0.10.3 transformers-4.3.3\n"
     ]
    }
   ]
  },
  {
   "cell_type": "code",
   "metadata": {
    "colab": {
     "base_uri": "https://localhost:8080/"
    },
    "id": "gFifsotAkJIe",
    "executionInfo": {
     "status": "ok",
     "timestamp": 1631460819461,
     "user_tz": -330,
     "elapsed": 6457,
     "user": {
      "displayName": "Shubham Chowdhary",
      "photoUrl": "https://lh3.googleusercontent.com/a-/AOh14GgFkFw1pKwpL_S-zFEuR17zOZk_I_CGJ-d72aCpmg=s64",
      "userId": "09510905510812321280"
     }
    },
    "outputId": "354bee18-4997-435c-844d-f68d7ef31063"
   },
   "source": [
    "# verify python, pytorch, and tranformers package version\n",
    "import os\n",
    "if 'IS_GRADESCOPE_ENV' not in os.environ:\n",
    "    !python --version\n",
    "    !pip show torch\n",
    "    print(\"\")\n",
    "    !pip show transformers\n",
    "    print(\"\")\n",
    "    import torch\n",
    "    print(torch.cuda.get_device_name(0))"
   ],
   "execution_count": 6,
   "outputs": [
    {
     "output_type": "stream",
     "name": "stdout",
     "text": [
      "Python 3.7.11\n",
      "Name: torch\n",
      "Version: 1.9.0+cu102\n",
      "Summary: Tensors and Dynamic neural networks in Python with strong GPU acceleration\n",
      "Home-page: https://pytorch.org/\n",
      "Author: PyTorch Team\n",
      "Author-email: packages@pytorch.org\n",
      "License: BSD-3\n",
      "Location: /usr/local/lib/python3.7/dist-packages\n",
      "Requires: typing-extensions\n",
      "Required-by: torchvision, torchtext, fastai\n",
      "\n",
      "Name: transformers\n",
      "Version: 4.3.3\n",
      "Summary: State-of-the-art Natural Language Processing for TensorFlow 2.0 and PyTorch\n",
      "Home-page: https://github.com/huggingface/transformers\n",
      "Author: Thomas Wolf, Lysandre Debut, Victor Sanh, Julien Chaumond, Sam Shleifer, Patrick von Platen, Sylvain Gugger, Google AI Language Team Authors, Open AI team Authors, Facebook AI Authors, Carnegie Mellon University Authors\n",
      "Author-email: thomas@huggingface.co\n",
      "License: Apache\n",
      "Location: /usr/local/lib/python3.7/dist-packages\n",
      "Requires: filelock, requests, regex, tqdm, packaging, sacremoses, numpy, tokenizers, importlib-metadata\n",
      "Required-by: \n",
      "\n",
      "Tesla P100-PCIE-16GB\n"
     ]
    }
   ]
  },
  {
   "cell_type": "code",
   "metadata": {
    "id": "dWbdlUu6E4p8",
    "executionInfo": {
     "status": "ok",
     "timestamp": 1631460821194,
     "user_tz": -330,
     "elapsed": 1741,
     "user": {
      "displayName": "Shubham Chowdhary",
      "photoUrl": "https://lh3.googleusercontent.com/a-/AOh14GgFkFw1pKwpL_S-zFEuR17zOZk_I_CGJ-d72aCpmg=s64",
      "userId": "09510905510812321280"
     }
    }
   },
   "source": [
    "from collections import Counter\n",
    "import numpy as np\n",
    "import os\n",
    "import pandas as pd\n",
    "from sklearn.linear_model import LogisticRegression\n",
    "import torch.nn as nn\n",
    "\n",
    "from torch_rnn_classifier import TorchRNNClassifier\n",
    "from torch_tree_nn import TorchTreeNN\n",
    "import sst\n",
    "import utils"
   ],
   "execution_count": 7,
   "outputs": []
  },
  {
   "cell_type": "code",
   "metadata": {
    "id": "cwn2ygw8E4p9",
    "executionInfo": {
     "status": "ok",
     "timestamp": 1631460821194,
     "user_tz": -330,
     "elapsed": 2,
     "user": {
      "displayName": "Shubham Chowdhary",
      "photoUrl": "https://lh3.googleusercontent.com/a-/AOh14GgFkFw1pKwpL_S-zFEuR17zOZk_I_CGJ-d72aCpmg=s64",
      "userId": "09510905510812321280"
     }
    }
   },
   "source": [
    "SST_HOME = os.path.join('data', 'sentiment')"
   ],
   "execution_count": 8,
   "outputs": []
  },
  {
   "cell_type": "markdown",
   "metadata": {
    "id": "zcnS2g5GE4p-"
   },
   "source": [
    "## Train set"
   ]
  },
  {
   "cell_type": "markdown",
   "metadata": {
    "id": "0shdkxn_E4p-"
   },
   "source": [
    "Our primary train set is the SST-3 train set:"
   ]
  },
  {
   "cell_type": "code",
   "metadata": {
    "id": "kFG0_SnEE4p-",
    "executionInfo": {
     "status": "ok",
     "timestamp": 1631460822056,
     "user_tz": -330,
     "elapsed": 864,
     "user": {
      "displayName": "Shubham Chowdhary",
      "photoUrl": "https://lh3.googleusercontent.com/a-/AOh14GgFkFw1pKwpL_S-zFEuR17zOZk_I_CGJ-d72aCpmg=s64",
      "userId": "09510905510812321280"
     }
    }
   },
   "source": [
    "sst_train = sst.train_reader(SST_HOME)"
   ],
   "execution_count": 9,
   "outputs": []
  },
  {
   "cell_type": "code",
   "metadata": {
    "colab": {
     "base_uri": "https://localhost:8080/"
    },
    "id": "kooo6r6XE4p_",
    "executionInfo": {
     "status": "ok",
     "timestamp": 1631460822057,
     "user_tz": -330,
     "elapsed": 6,
     "user": {
      "displayName": "Shubham Chowdhary",
      "photoUrl": "https://lh3.googleusercontent.com/a-/AOh14GgFkFw1pKwpL_S-zFEuR17zOZk_I_CGJ-d72aCpmg=s64",
      "userId": "09510905510812321280"
     }
    },
    "outputId": "7f454de3-e774-4e51-e811-7ea71f6babfb"
   },
   "source": [
    "sst_train.shape[0]"
   ],
   "execution_count": 10,
   "outputs": [
    {
     "output_type": "execute_result",
     "data": {
      "text/plain": [
       "8544"
      ]
     },
     "metadata": {},
     "execution_count": 10
    }
   ]
  },
  {
   "cell_type": "markdown",
   "metadata": {
    "id": "mXGiUhxnE4qB"
   },
   "source": [
    "## Dev sets"
   ]
  },
  {
   "cell_type": "markdown",
   "metadata": {
    "id": "3uS_E137E4qB"
   },
   "source": [
    "We have two development set. SST3-dev consists of sentences from movie reviews, just like SST-3 train:"
   ]
  },
  {
   "cell_type": "code",
   "metadata": {
    "id": "jeaAnqwIE4qB",
    "executionInfo": {
     "status": "ok",
     "timestamp": 1631460822057,
     "user_tz": -330,
     "elapsed": 5,
     "user": {
      "displayName": "Shubham Chowdhary",
      "photoUrl": "https://lh3.googleusercontent.com/a-/AOh14GgFkFw1pKwpL_S-zFEuR17zOZk_I_CGJ-d72aCpmg=s64",
      "userId": "09510905510812321280"
     }
    }
   },
   "source": [
    "sst_dev = sst.dev_reader(SST_HOME)"
   ],
   "execution_count": 12,
   "outputs": []
  },
  {
   "cell_type": "markdown",
   "source": [
    "The bakeoff dev set consists of sentences from restaurant reviews:"
   ],
   "metadata": {
    "collapsed": false
   }
  },
  {
   "cell_type": "code",
   "metadata": {
    "id": "WBj6n6YQE4qB",
    "executionInfo": {
     "status": "ok",
     "timestamp": 1631460822058,
     "user_tz": -330,
     "elapsed": 6,
     "user": {
      "displayName": "Shubham Chowdhary",
      "photoUrl": "https://lh3.googleusercontent.com/a-/AOh14GgFkFw1pKwpL_S-zFEuR17zOZk_I_CGJ-d72aCpmg=s64",
      "userId": "09510905510812321280"
     }
    }
   },
   "source": [
    "bakeoff_dev = sst.bakeoff_dev_reader(SST_HOME)"
   ],
   "execution_count": 13,
   "outputs": []
  },
  {
   "cell_type": "code",
   "metadata": {
    "colab": {
     "base_uri": "https://localhost:8080/"
    },
    "id": "7x1JPyNLE4qC",
    "executionInfo": {
     "status": "ok",
     "timestamp": 1631460822058,
     "user_tz": -330,
     "elapsed": 5,
     "user": {
      "displayName": "Shubham Chowdhary",
      "photoUrl": "https://lh3.googleusercontent.com/a-/AOh14GgFkFw1pKwpL_S-zFEuR17zOZk_I_CGJ-d72aCpmg=s64",
      "userId": "09510905510812321280"
     }
    },
    "outputId": "e2744543-2eb3-4502-b2a9-84b4a0676780"
   },
   "source": [
    "bakeoff_dev.sample(3, random_state=1).to_dict(orient='records')"
   ],
   "execution_count": 14,
   "outputs": [
    {
     "output_type": "execute_result",
     "data": {
      "text/plain": [
       "[{'example_id': 57,\n",
       "  'is_subtree': 0,\n",
       "  'label': 'neutral',\n",
       "  'sentence': 'I would recommend that you make reservations in advance.'},\n",
       " {'example_id': 590,\n",
       "  'is_subtree': 0,\n",
       "  'label': 'positive',\n",
       "  'sentence': 'We were welcomed warmly.'},\n",
       " {'example_id': 1968,\n",
       "  'is_subtree': 0,\n",
       "  'label': 'neutral',\n",
       "  'sentence': 'We have been to Oceanaire twice in the last 6 weeks.'}]"
      ]
     },
     "metadata": {},
     "execution_count": 14
    }
   ]
  },
  {
   "cell_type": "markdown",
   "metadata": {
    "id": "EHqPk9MgE4qC"
   },
   "source": [
    "Here is the label distribution:"
   ]
  },
  {
   "cell_type": "code",
   "metadata": {
    "colab": {
     "base_uri": "https://localhost:8080/"
    },
    "id": "mmylZTi-E4qC",
    "executionInfo": {
     "status": "ok",
     "timestamp": 1631460822058,
     "user_tz": -330,
     "elapsed": 5,
     "user": {
      "displayName": "Shubham Chowdhary",
      "photoUrl": "https://lh3.googleusercontent.com/a-/AOh14GgFkFw1pKwpL_S-zFEuR17zOZk_I_CGJ-d72aCpmg=s64",
      "userId": "09510905510812321280"
     }
    },
    "outputId": "b6ac1176-12f7-4b4e-cbcb-08f5b1505974"
   },
   "source": [
    "bakeoff_dev.label.value_counts()"
   ],
   "execution_count": 15,
   "outputs": [
    {
     "output_type": "execute_result",
     "data": {
      "text/plain": [
       "neutral     1019\n",
       "positive     777\n",
       "negative     565\n",
       "Name: label, dtype: int64"
      ]
     },
     "metadata": {},
     "execution_count": 15
    }
   ]
  },
  {
   "cell_type": "markdown",
   "metadata": {
    "id": "vtsw5Kh2E4qC"
   },
   "source": [
    "The label distribution for the corresponding test set is similar to this."
   ]
  },
  {
   "cell_type": "markdown",
   "metadata": {
    "id": "41k3pje5E4qD"
   },
   "source": [
    "## A softmax baseline"
   ]
  },
  {
   "cell_type": "code",
   "metadata": {
    "id": "mh5b0WNME4qD"
   },
   "source": [
    "def unigrams_phi(text):\n",
    "    return Counter(text.split())"
   ],
   "execution_count": null,
   "outputs": []
  },
  {
   "cell_type": "markdown",
   "metadata": {
    "id": "iJT3aiJTE4qD"
   },
   "source": [
    "Thin wrapper around `LogisticRegression` for the sake of `sst.experiment`:"
   ]
  },
  {
   "cell_type": "code",
   "metadata": {
    "id": "KL6j1QRuE4qD"
   },
   "source": [
    "def fit_softmax_classifier(X, y):\n",
    "    mod = LogisticRegression(\n",
    "        fit_intercept=True,\n",
    "        solver='liblinear',\n",
    "        multi_class='ovr')\n",
    "    mod.fit(X, y)\n",
    "    return mod"
   ],
   "execution_count": null,
   "outputs": []
  },
  {
   "cell_type": "markdown",
   "metadata": {
    "id": "_mzQkYO9E4qD"
   },
   "source": [
    "The experimental run with some notes:"
   ]
  },
  {
   "cell_type": "code",
   "metadata": {
    "colab": {
     "base_uri": "https://localhost:8080/"
    },
    "id": "B1ZH2NLPE4qE",
    "executionInfo": {
     "status": "ok",
     "timestamp": 1631380718586,
     "user_tz": -330,
     "elapsed": 2729,
     "user": {
      "displayName": "Shubham Chowdhary",
      "photoUrl": "https://lh3.googleusercontent.com/a-/AOh14GgFkFw1pKwpL_S-zFEuR17zOZk_I_CGJ-d72aCpmg=s64",
      "userId": "09510905510812321280"
     }
    },
    "outputId": "906cf4a9-c061-44e6-9764-39b0bd333707"
   },
   "source": [
    "softmax_experiment = sst.experiment(\n",
    "    sst.train_reader(SST_HOME),\n",
    "    unigrams_phi,\n",
    "    fit_softmax_classifier,\n",
    "    assess_dataframes=[sst_dev, bakeoff_dev])"
   ],
   "execution_count": null,
   "outputs": [
    {
     "output_type": "stream",
     "name": "stdout",
     "text": [
      "Assessment dataset 1\n",
      "              precision    recall  f1-score   support\n",
      "\n",
      "    negative      0.628     0.689     0.657       428\n",
      "     neutral      0.343     0.153     0.211       229\n",
      "    positive      0.629     0.750     0.684       444\n",
      "\n",
      "    accuracy                          0.602      1101\n",
      "   macro avg      0.533     0.531     0.518      1101\n",
      "weighted avg      0.569     0.602     0.575      1101\n",
      "\n",
      "Assessment dataset 2\n",
      "              precision    recall  f1-score   support\n",
      "\n",
      "    negative      0.272     0.690     0.390       565\n",
      "     neutral      0.429     0.113     0.179      1019\n",
      "    positive      0.409     0.346     0.375       777\n",
      "\n",
      "    accuracy                          0.328      2361\n",
      "   macro avg      0.370     0.383     0.315      2361\n",
      "weighted avg      0.385     0.328     0.294      2361\n",
      "\n",
      "Mean of macro-F1 scores: 0.416\n"
     ]
    }
   ]
  },
  {
   "cell_type": "markdown",
   "metadata": {
    "id": "W46vEUopcrjX"
   },
   "source": [
    "**_SST dev score: 0.518_**"
   ]
  },
  {
   "cell_type": "markdown",
   "metadata": {
    "id": "Q0gli5RcE4qE"
   },
   "source": [
    "## RNNClassifier wrapper"
   ]
  },
  {
   "cell_type": "markdown",
   "metadata": {
    "id": "7R-Ueld2E4qE"
   },
   "source": [
    "To featurize examples for an RNN, we can just get the words in order, letting the model take care of mapping them into an embedding space."
   ]
  },
  {
   "cell_type": "code",
   "metadata": {
    "id": "0Hdmu7GOE4qE"
   },
   "source": [
    "def rnn_phi(text):\n",
    "    return text.split()"
   ],
   "execution_count": null,
   "outputs": []
  },
  {
   "cell_type": "code",
   "metadata": {
    "id": "7uhiXm4vE4qF"
   },
   "source": [
    "def fit_rnn_classifier(X, y):\n",
    "    sst_glove_vocab = utils.get_vocab(X, mincount=2)\n",
    "    mod = TorchRNNClassifier(\n",
    "        sst_glove_vocab,\n",
    "        early_stopping=True)\n",
    "    mod.fit(X, y)\n",
    "    return mod"
   ],
   "execution_count": null,
   "outputs": []
  },
  {
   "cell_type": "code",
   "metadata": {
    "colab": {
     "base_uri": "https://localhost:8080/"
    },
    "id": "aZXdYTrzE4qF",
    "executionInfo": {
     "status": "ok",
     "timestamp": 1631380737141,
     "user_tz": -330,
     "elapsed": 18557,
     "user": {
      "displayName": "Shubham Chowdhary",
      "photoUrl": "https://lh3.googleusercontent.com/a-/AOh14GgFkFw1pKwpL_S-zFEuR17zOZk_I_CGJ-d72aCpmg=s64",
      "userId": "09510905510812321280"
     }
    },
    "outputId": "76ab5679-6275-45e4-92c0-ac63ffd96ded"
   },
   "source": [
    "rnn_experiment = sst.experiment(\n",
    "    sst.train_reader(SST_HOME),\n",
    "    rnn_phi,\n",
    "    fit_rnn_classifier,\n",
    "    vectorize=False,  # For deep learning, use `vectorize=False`.\n",
    "    assess_dataframes=[sst_dev, bakeoff_dev])"
   ],
   "execution_count": null,
   "outputs": [
    {
     "output_type": "stream",
     "name": "stderr",
     "text": [
      "Stopping after epoch 82. Validation score did not improve by tol=1e-05 for more than 10 epochs. Final error is 0.07533295871689916"
     ]
    },
    {
     "output_type": "stream",
     "name": "stdout",
     "text": [
      "Assessment dataset 1\n",
      "              precision    recall  f1-score   support\n",
      "\n",
      "    negative      0.621     0.577     0.598       428\n",
      "     neutral      0.266     0.336     0.297       229\n",
      "    positive      0.617     0.574     0.595       444\n",
      "\n",
      "    accuracy                          0.526      1101\n",
      "   macro avg      0.501     0.496     0.497      1101\n",
      "weighted avg      0.545     0.526     0.534      1101\n",
      "\n",
      "Assessment dataset 2\n",
      "              precision    recall  f1-score   support\n",
      "\n",
      "    negative      0.279     0.361     0.315       565\n",
      "     neutral      0.476     0.342     0.398      1019\n",
      "    positive      0.410     0.475     0.440       777\n",
      "\n",
      "    accuracy                          0.390      2361\n",
      "   macro avg      0.389     0.392     0.384      2361\n",
      "weighted avg      0.407     0.390     0.392      2361\n",
      "\n",
      "Mean of macro-F1 scores: 0.440\n"
     ]
    }
   ]
  },
  {
   "cell_type": "markdown",
   "metadata": {
    "id": "UH5DmQgrc6EN"
   },
   "source": [
    "**_SST dev score: 0.475_**"
   ]
  },
  {
   "cell_type": "markdown",
   "metadata": {
    "id": "1d4h1Eb6E4qF"
   },
   "source": [
    "## Error analysis\n",
    "\n",
    "This section begins to build an error-analysis framework using the dicts returned by `sst.experiment`. These have the following structure:\n",
    "\n",
    "```\n",
    "'model': trained model\n",
    "'phi': the feature function used\n",
    "'train_dataset':\n",
    "   'X': feature matrix\n",
    "   'y': list of labels\n",
    "   'vectorizer': DictVectorizer,\n",
    "   'raw_examples': list of raw inputs, before featurizing   \n",
    "'assess_datasets': list of datasets, each with the same structure as the value of 'train_dataset'\n",
    "'predictions': list of lists of predictions on the assessment datasets\n",
    "'metric': `score_func.__name__`, where `score_func` is an `sst.experiment` argument\n",
    "'score': the `score_func` score on the each of the assessment dataasets\n",
    "```\n",
    "The following function just finds mistakes, and returns a `pd.DataFrame` for easy subsequent processing:"
   ]
  },
  {
   "cell_type": "code",
   "metadata": {
    "id": "qe1k1To_E4qF",
    "executionInfo": {
     "status": "ok",
     "timestamp": 1631498391185,
     "user_tz": -330,
     "elapsed": 761,
     "user": {
      "displayName": "Shubham Chowdhary",
      "photoUrl": "https://lh3.googleusercontent.com/a-/AOh14GgFkFw1pKwpL_S-zFEuR17zOZk_I_CGJ-d72aCpmg=s64",
      "userId": "09510905510812321280"
     }
    }
   },
   "source": [
    "def find_errors(experiment):\n",
    "    \"\"\"Find mistaken predictions.\n",
    "\n",
    "    Parameters\n",
    "    ----------\n",
    "    experiment : dict\n",
    "        As returned by `sst.experiment`.\n",
    "\n",
    "    Returns\n",
    "    -------\n",
    "    pd.DataFrame\n",
    "\n",
    "    \"\"\"\n",
    "    dfs = []\n",
    "    for i, dataset in enumerate(experiment['assess_datasets']):\n",
    "        df = pd.DataFrame({\n",
    "            'raw_examples': dataset['raw_examples'],\n",
    "            'predicted': experiment['predictions'][i],\n",
    "            'gold': dataset['y']})\n",
    "        df['correct'] = df['predicted'] == df['gold']\n",
    "        df['dataset'] = i\n",
    "        dfs.append(df)\n",
    "    return pd.concat(dfs)"
   ],
   "execution_count": 182,
   "outputs": []
  },
  {
   "cell_type": "code",
   "metadata": {
    "id": "jxchf08zE4qF"
   },
   "source": [
    "softmax_analysis = find_errors(softmax_experiment)"
   ],
   "execution_count": null,
   "outputs": []
  },
  {
   "cell_type": "code",
   "metadata": {
    "id": "vW-b4oT7E4qG"
   },
   "source": [
    "rnn_analysis = find_errors(rnn_experiment)"
   ],
   "execution_count": null,
   "outputs": []
  },
  {
   "cell_type": "markdown",
   "metadata": {
    "id": "bWfYkEzPE4qG"
   },
   "source": [
    "Here we merge the softmax and RNN experiments into a single DataFrame:"
   ]
  },
  {
   "cell_type": "code",
   "metadata": {
    "id": "3q6tAMtBE4qG"
   },
   "source": [
    "analysis = softmax_analysis.merge(\n",
    "    rnn_analysis, left_on='raw_examples', right_on='raw_examples')\n",
    "\n",
    "analysis = analysis.drop('gold_y', axis=1).rename(columns={'gold_x': 'gold'})"
   ],
   "execution_count": null,
   "outputs": []
  },
  {
   "cell_type": "code",
   "metadata": {
    "id": "PP8XIGY9E4qG"
   },
   "source": [
    "# Examples where the softmax model is correct, the RNN is not,\n",
    "# and the gold label is 'positive'\n",
    "\n",
    "error_group = analysis[\n",
    "    (analysis['predicted_x'] == analysis['gold'])\n",
    "    &\n",
    "    (analysis['predicted_y'] != analysis['gold'])\n",
    "    &\n",
    "    (analysis['gold'] == 'positive')\n",
    "]"
   ],
   "execution_count": null,
   "outputs": []
  },
  {
   "cell_type": "code",
   "metadata": {
    "colab": {
     "base_uri": "https://localhost:8080/"
    },
    "id": "XBVRzuHuE4qG",
    "executionInfo": {
     "elapsed": 14,
     "status": "ok",
     "timestamp": 1631246288962,
     "user": {
      "displayName": "Shubham Chowdhary",
      "photoUrl": "https://lh3.googleusercontent.com/a-/AOh14GgFkFw1pKwpL_S-zFEuR17zOZk_I_CGJ-d72aCpmg=s64",
      "userId": "09510905510812321280"
     },
     "user_tz": -330
    },
    "outputId": "c7256ea9-5bf4-499c-9b99-4419e6de227e"
   },
   "source": [
    "error_group.shape[0]"
   ],
   "execution_count": null,
   "outputs": [
    {
     "data": {
      "text/plain": [
       "210"
      ]
     },
     "execution_count": 30,
     "metadata": {},
     "output_type": "execute_result"
    }
   ]
  },
  {
   "cell_type": "code",
   "metadata": {
    "colab": {
     "base_uri": "https://localhost:8080/"
    },
    "id": "qPZLBHKEE4qH",
    "executionInfo": {
     "elapsed": 23,
     "status": "ok",
     "timestamp": 1631246289563,
     "user": {
      "displayName": "Shubham Chowdhary",
      "photoUrl": "https://lh3.googleusercontent.com/a-/AOh14GgFkFw1pKwpL_S-zFEuR17zOZk_I_CGJ-d72aCpmg=s64",
      "userId": "09510905510812321280"
     },
     "user_tz": -330
    },
    "outputId": "b8ee191f-175b-4b5c-f6c0-e9d33914475b"
   },
   "source": [
    "for ex in error_group['raw_examples'].sample(5, random_state=1):\n",
    "    print(\"=\"*70)\n",
    "    print(ex)"
   ],
   "execution_count": null,
   "outputs": [
    {
     "name": "stdout",
     "output_type": "stream",
     "text": [
      "======================================================================\n",
      "That is a compliment to Kuras and Miller .\n",
      "======================================================================\n",
      "We tried a couple of the new items on the menu and the manager even came by to ask us for feedback.\n",
      "======================================================================\n",
      "Martin and Barbara are complex characters -- sometimes tender , sometimes angry -- and the delicate performances by Sven Wollter and Viveka Seldahl make their hopes and frustrations vivid .\n",
      "======================================================================\n",
      "Ok, I love good food and good service wghich was provited at Mortons Sat.\n",
      "======================================================================\n",
      "Thanks to Scott 's charismatic Roger and Eisenberg 's sweet nephew , Roger Dodger is one of the most compelling variations on In the Company of Men .\n"
     ]
    }
   ]
  },
  {
   "cell_type": "markdown",
   "metadata": {
    "id": "PD12-AfbE4qI"
   },
   "source": [
    "### A more powerful vector-averaging baseline"
   ]
  },
  {
   "cell_type": "code",
   "metadata": {
    "id": "E_SiDZ_ZE4qJ",
    "executionInfo": {
     "status": "ok",
     "timestamp": 1631460822744,
     "user_tz": -330,
     "elapsed": 690,
     "user": {
      "displayName": "Shubham Chowdhary",
      "photoUrl": "https://lh3.googleusercontent.com/a-/AOh14GgFkFw1pKwpL_S-zFEuR17zOZk_I_CGJ-d72aCpmg=s64",
      "userId": "09510905510812321280"
     }
    }
   },
   "source": [
    "from torch_shallow_neural_classifier import TorchShallowNeuralClassifier\n",
    "\n",
    "def fit_shallow_neural_classifier_with_hyperparameter_search(X, y):\n",
    "    basemod = TorchShallowNeuralClassifier(\n",
    "        early_stopping=True)\n",
    "    cv = 3\n",
    "    param_grid = {\n",
    "        'hidden_dim': [50, 100, 200],\n",
    "        'hidden_activation': [nn.Tanh(), nn.ReLU()]}\n",
    "    \n",
    "    bestmod = utils.fit_classifier_with_hyperparameter_search(\n",
    "        X, y, basemod, cv, param_grid)\n",
    "    \n",
    "    return bestmod\n"
   ],
   "execution_count": 16,
   "outputs": []
  },
  {
   "cell_type": "code",
   "metadata": {
    "colab": {
     "base_uri": "https://localhost:8080/"
    },
    "id": "wOmxr7dl8QER",
    "executionInfo": {
     "status": "ok",
     "timestamp": 1631380838042,
     "user_tz": -330,
     "elapsed": 100909,
     "user": {
      "displayName": "Shubham Chowdhary",
      "photoUrl": "https://lh3.googleusercontent.com/a-/AOh14GgFkFw1pKwpL_S-zFEuR17zOZk_I_CGJ-d72aCpmg=s64",
      "userId": "09510905510812321280"
     }
    },
    "outputId": "6ef491fe-02dc-4b3d-a1b4-bc1f20aae1a9"
   },
   "source": [
    "# testing the above fit against the logistic regression performance\n",
    "if 'IS_GRADESCOPE_ENV' not in os.environ:\n",
    "    DATA_HOME = 'data'\n",
    "    GLOVE_HOME = os.path.join(DATA_HOME, 'glove.6B')\n",
    "\n",
    "    glove_lookup = utils.glove2dict(\n",
    "        os.path.join(GLOVE_HOME, 'glove.6B.300d.txt'))\n",
    "    \n",
    "    def vsm_phi(text, lookup, np_func=np.mean):\n",
    "        \"\"\"Represent `tree` as a combination of the vector of its words.\n",
    "\n",
    "        Parameters\n",
    "        ----------\n",
    "        text : str\n",
    "\n",
    "        lookup : dict\n",
    "            From words to vectors.\n",
    "\n",
    "        np_func : function (default: np.sum)\n",
    "            A numpy matrix operation that can be applied columnwise,\n",
    "            like `np.mean`, `np.sum`, or `np.prod`. The requirement is that\n",
    "            the function take `axis=0` as one of its arguments (to ensure\n",
    "            columnwise combination) and that it return a vector of a\n",
    "            fixed length, no matter what the size of the tree is.\n",
    "\n",
    "        Returns\n",
    "        -------\n",
    "        np.array, dimension `X.shape[1]`\n",
    "\n",
    "        \"\"\"\n",
    "        allvecs = np.array([lookup[w] for w in text.split() if w in lookup])\n",
    "        if len(allvecs) == 0:\n",
    "            dim = len(next(iter(lookup.values())))\n",
    "            feats = np.zeros(dim)\n",
    "        else:\n",
    "            feats = np_func(allvecs, axis=0)\n",
    "        return feats\n",
    "\n",
    "    def glove_phi(text, np_func=np.mean):\n",
    "        return vsm_phi(text, glove_lookup, np_func=np_func)\n",
    "\n",
    "    shallow_nn_classifier_opt_glv_phi_experiment = sst.experiment(\n",
    "        sst_train,\n",
    "        glove_phi,\n",
    "        fit_shallow_neural_classifier_with_hyperparameter_search,\n",
    "        assess_dataframes=sst_dev,\n",
    "        vectorize=False)"
   ],
   "execution_count": null,
   "outputs": [
    {
     "output_type": "stream",
     "name": "stderr",
     "text": [
      "Stopping after epoch 40. Validation score did not improve by tol=1e-05 for more than 10 epochs. Final error is 5.844003677368164"
     ]
    },
    {
     "output_type": "stream",
     "name": "stdout",
     "text": [
      "Best params: {'hidden_activation': ReLU(), 'hidden_dim': 200}\n",
      "Best score: 0.535\n",
      "              precision    recall  f1-score   support\n",
      "\n",
      "    negative      0.614     0.736     0.670       428\n",
      "     neutral      0.510     0.114     0.186       229\n",
      "    positive      0.637     0.770     0.697       444\n",
      "\n",
      "    accuracy                          0.620      1101\n",
      "   macro avg      0.587     0.540     0.517      1101\n",
      "weighted avg      0.602     0.620     0.580      1101\n",
      "\n"
     ]
    }
   ]
  },
  {
   "cell_type": "markdown",
   "metadata": {
    "id": "fB3u0WcZDv9H"
   },
   "source": [
    "An hyperparameter optimized shallow NN performs better than a Linear Classifier on GloVe mean-aggregated sentence represenations. **Improved from 0.48 macro-f1 score for the later to 0.534 for the former.**"
   ]
  },
  {
   "cell_type": "markdown",
   "metadata": {
    "id": "qxiIeHlzE4qJ"
   },
   "source": [
    "### BERT encoding"
   ]
  },
  {
   "cell_type": "code",
   "metadata": {
    "id": "z48eQVQPE4qJ",
    "colab": {
     "base_uri": "https://localhost:8080/",
     "height": 113,
     "referenced_widgets": [
      "ef4a007d34654e5ca79c41ee9b68a0e7",
      "5a2cb095058141eba555ee09cd54dc37",
      "41d8d04b55cb41ab8bdd29a66ebcfc6c",
      "7e40ae05da1240eaacc15696aee51b4b",
      "6189d115bc424bad888f484a4d202e29",
      "23a84edf2e434170a18fbb7d20b9b0d8",
      "70d076bfceb8438db5114c8f22365372",
      "4ea06e598be84919b76e093853b8d62a",
      "ce557dad1b5e4218827fefef3df55e92",
      "998792a222224ce5aab18724e34bd1a2",
      "652f2f6add42459db51ada269a8c5203",
      "ee842f353f674722abbcc59c98458b9c",
      "d9f69fdba32349b5bf093f31044ab4c4",
      "bfd5358bb23940d9bc5b6897c1c1b303",
      "376e1466d12b4541a0bb2df06741a14a",
      "9c4a0324473d4305a1f54406cbd91c8b",
      "0bde278e2a014c0dab704b8fdee6bd2a",
      "915234df03ae4c9db2b04fd5d6f75a8e",
      "4763ed0be807452f94473ddb98428a21",
      "630b7f7df2234cb98c196f4caf28f281",
      "5abe0b0d066b41d19cb20dafd3b02139",
      "48700b430ab8421aab0ce8c8a8283234",
      "0806d8df1976451ca0873742920b7576",
      "a8d91ebfeda046a6a9eaf9884139cb26",
      "6f6a325bee1646d9ad96259ab43e74d0",
      "2aa98d0fe827422a99c309a869a64757",
      "125e937fad444112a69da38c5a1d4522",
      "e74bc431adec4c41a1e70f0e1a1444d0",
      "4714d6f206ea41d5a1fe479a7ecfe992",
      "a9f88d1c46a04f8fb8fe82c27532b4e7",
      "765187d1c80641cda81378c6265c35fc",
      "65385a4d835d41e7a2b2b5cd4737bfab",
      "4d79f43a197246758b3996ab569c0066"
     ]
    },
    "executionInfo": {
     "status": "ok",
     "timestamp": 1631461388855,
     "user_tz": -330,
     "elapsed": 12185,
     "user": {
      "displayName": "Shubham Chowdhary",
      "photoUrl": "https://lh3.googleusercontent.com/a-/AOh14GgFkFw1pKwpL_S-zFEuR17zOZk_I_CGJ-d72aCpmg=s64",
      "userId": "09510905510812321280"
     }
    },
    "outputId": "9de0b2ee-a9b2-4f0e-c6f4-60154d48fcf0"
   },
   "source": [
    "from transformers import BertModel, BertTokenizer\n",
    "import vsm\n",
    "\n",
    "bert_weights_name = 'bert-base-uncased'\n",
    "bert_tokenizer = BertTokenizer.from_pretrained(bert_weights_name)\n",
    "bert_model = BertModel.from_pretrained(bert_weights_name)\n",
    "\n",
    "def hf_cls_phi(text):\n",
    "    text_bert_ids = vsm.hf_encode(text, bert_tokenizer,\n",
    "                                   add_special_tokens=True)\n",
    "\n",
    "    text_bert_reps = vsm.hf_represent(text_bert_ids, bert_model, layer=-1)\n",
    "\n",
    "    text_aggr_bert_rep = text_bert_reps[0, 0, :]\n",
    "\n",
    "    return text_aggr_bert_rep.cpu().numpy()"
   ],
   "execution_count": 23,
   "outputs": [
    {
     "output_type": "display_data",
     "data": {
      "application/vnd.jupyter.widget-view+json": {
       "model_id": "ef4a007d34654e5ca79c41ee9b68a0e7",
       "version_minor": 0,
       "version_major": 2
      },
      "text/plain": [
       "Downloading:   0%|          | 0.00/232k [00:00<?, ?B/s]"
      ]
     },
     "metadata": {}
    },
    {
     "output_type": "display_data",
     "data": {
      "application/vnd.jupyter.widget-view+json": {
       "model_id": "ee842f353f674722abbcc59c98458b9c",
       "version_minor": 0,
       "version_major": 2
      },
      "text/plain": [
       "Downloading:   0%|          | 0.00/570 [00:00<?, ?B/s]"
      ]
     },
     "metadata": {}
    },
    {
     "output_type": "display_data",
     "data": {
      "application/vnd.jupyter.widget-view+json": {
       "model_id": "0806d8df1976451ca0873742920b7576",
       "version_minor": 0,
       "version_major": 2
      },
      "text/plain": [
       "Downloading:   0%|          | 0.00/440M [00:00<?, ?B/s]"
      ]
     },
     "metadata": {}
    }
   ]
  },
  {
   "cell_type": "code",
   "metadata": {
    "colab": {
     "base_uri": "https://localhost:8080/"
    },
    "id": "AEpcokLaPB4I",
    "executionInfo": {
     "status": "ok",
     "timestamp": 1631381525842,
     "user_tz": -330,
     "elapsed": 678568,
     "user": {
      "displayName": "Shubham Chowdhary",
      "photoUrl": "https://lh3.googleusercontent.com/a-/AOh14GgFkFw1pKwpL_S-zFEuR17zOZk_I_CGJ-d72aCpmg=s64",
      "userId": "09510905510812321280"
     }
    },
    "outputId": "0a01122e-dc48-4351-b79f-cdd6d403dabf"
   },
   "source": [
    "# experimental test to verify if bert repr would perform better than GloVe's\n",
    "if 'IS_GRADESCOPE_ENV' not in os.environ:\n",
    "\n",
    "    def hf_cls_phi_tensor(text):\n",
    "        text_bert_ids = vsm.hf_encode(text, bert_tokenizer, add_special_tokens=True)\n",
    "        text_bert_reps = vsm.hf_represent(text_bert_ids, bert_model, layer=-1)\n",
    "        text_aggr_bert_rep = text_bert_reps[0, 0, :]\n",
    "        return text_aggr_bert_rep.numpy()\n",
    "\n",
    "\n",
    "    shallow_nn_classifier_opt_bert_cls_phi_experiment = sst.experiment(\n",
    "        sst_train,\n",
    "        hf_cls_phi_tensor,\n",
    "        fit_shallow_neural_classifier_with_hyperparameter_search,\n",
    "        assess_dataframes=sst_dev,\n",
    "        vectorize=False)"
   ],
   "execution_count": null,
   "outputs": [
    {
     "output_type": "stream",
     "name": "stderr",
     "text": [
      "Stopping after epoch 33. Validation score did not improve by tol=1e-05 for more than 10 epochs. Final error is 4.920585095882416"
     ]
    },
    {
     "output_type": "stream",
     "name": "stdout",
     "text": [
      "Best params: {'hidden_activation': ReLU(), 'hidden_dim': 100}\n",
      "Best score: 0.604\n",
      "              precision    recall  f1-score   support\n",
      "\n",
      "    negative      0.729     0.752     0.740       428\n",
      "     neutral      0.371     0.170     0.234       229\n",
      "    positive      0.693     0.865     0.770       444\n",
      "\n",
      "    accuracy                          0.677      1101\n",
      "   macro avg      0.598     0.596     0.581      1101\n",
      "weighted avg      0.640     0.677     0.647      1101\n",
      "\n"
     ]
    }
   ]
  },
  {
   "cell_type": "markdown",
   "metadata": {
    "id": "24rknzt1P9ll"
   },
   "source": [
    "The results show that the bert based feature vectors perform better than the GloVe feature vectors, when the fit model (shallow neural network) and the hyper-parameter search space is kept the same. **A gain from 0.50 to 0.609.** "
   ]
  },
  {
   "cell_type": "markdown",
   "metadata": {
    "id": "AwVV-qj2E4qK"
   },
   "source": [
    "### The Original system"
   ]
  },
  {
   "cell_type": "markdown",
   "metadata": {
    "id": "y7I2fGeoNuK0"
   },
   "source": [
    "There are various ways in which we can explore this problem. Exploring all of the ideas/variations in a short span is also not feasible. Hence, we list certain subsections/ideas where we feel an **improvement** is possible. Then we will work on all/many of those depending on time constraints.\n",
    "\n",
    "1. Its almost certain that including a training data set from the restaurant/product review will contribute to the performance on dev/test sets we have. **We will try to include the dynasent dataset.**\n",
    "2. **Training on sub-sentences and their labels** is again an extremely great way to improve on sentiment analysis.\n",
    "3. Various ways in which we can **extract/construct feature vectors** from the sentences.\n",
    "4. Various ways in which we can fit these features for the corresponding sentiment response (various models + various **hyperparameters**). "
   ]
  },
  {
   "cell_type": "markdown",
   "metadata": {
    "id": "EPSxqJvuU7nY"
   },
   "source": [
    "#### 1. Additional Datasets (DynaSent)\n",
    "\n",
    "We try including the dynasent (yelp-based) restaurant/product review dataset"
   ]
  },
  {
   "cell_type": "code",
   "metadata": {
    "id": "sY8GdCQ0Vq2s",
    "colab": {
     "base_uri": "https://localhost:8080/"
    },
    "executionInfo": {
     "status": "ok",
     "timestamp": 1631461113528,
     "user_tz": -330,
     "elapsed": 290785,
     "user": {
      "displayName": "Shubham Chowdhary",
      "photoUrl": "https://lh3.googleusercontent.com/a-/AOh14GgFkFw1pKwpL_S-zFEuR17zOZk_I_CGJ-d72aCpmg=s64",
      "userId": "09510905510812321280"
     }
    },
    "outputId": "c3c3b3a6-6578-4165-8d18-e420fea0137d"
   },
   "source": [
    "# loading dynasent dataset (revision 1).\n",
    "if 'IS_GRADESCOPE_ENV' not in os.environ:\n",
    "    import json\n",
    "\n",
    "    def load_dataset(*src_filenames, labels=None):\n",
    "        data = []\n",
    "        for filename in src_filenames:\n",
    "            with open(filename) as f:\n",
    "                for line in f:\n",
    "                    d = json.loads(line)\n",
    "                    if labels is None or d['gold_label'] in labels:\n",
    "                        data.append(d)\n",
    "        return data\n",
    "    \n",
    "    r1_train_filename = os.path.join(SST_HOME, 'dynasent-v1.1', 'dynasent-v1.1-round01-yelp-train.jsonl')\n",
    "    r2_train_filename = os.path.join(SST_HOME, 'dynasent-v1.1', 'dynasent-v1.1-round02-dynabench-train.jsonl')\n",
    "    ternary_labels = ('positive', 'negative', 'neutral')\n",
    "\n",
    "    r1_train = load_dataset(r1_train_filename, labels=ternary_labels)\n",
    "    r2_train = load_dataset(r2_train_filename, labels=ternary_labels)\n",
    "    # X_train, y_train = zip(*[(d['sentence'], d['gold_label']) for d in r1_train])\n",
    "\n",
    "    dsent_train = pd.DataFrame(columns = [\"sentence\", \"label\"])\n",
    "\n",
    "    for d in r1_train:\n",
    "        if(len(d['sentence']) > 512):\n",
    "            continue\n",
    "        dsent_train = dsent_train.append({'sentence': d['sentence'], 'label': d['gold_label']}, ignore_index = True)\n",
    "        \n",
    "    for d in r2_train:\n",
    "        if(len(d['sentence']) > 512):\n",
    "            continue\n",
    "        dsent_train = dsent_train.append({'sentence': d['sentence'], 'label': d['gold_label']}, ignore_index = True)\n",
    "\n",
    "    print(dsent_train.head())"
   ],
   "execution_count": 17,
   "outputs": [
    {
     "output_type": "stream",
     "name": "stdout",
     "text": [
      "                                            sentence     label\n",
      "0  Roto-Rooter is always good when you need someo...  positive\n",
      "1  It's so worth the price of cox service over he...  positive\n",
      "2  I placed my order of \"sticky ribs\" as an appet...   neutral\n",
      "3  There is mandatory valet parking, so make sure...   neutral\n",
      "4                  My wife and I couldn't finish it.   neutral\n"
     ]
    }
   ]
  },
  {
   "cell_type": "code",
   "metadata": {
    "id": "JP40i2Po4-V5"
   },
   "source": [
    "# running a sample experiment on it to make sure it works with our pipeline\n",
    "# if 'IS_GRADESCOPE_ENV' not in os.environ:\n",
    "#     softmax_classifier_unigram_phi_exp = sst.experiment(\n",
    "#         dsent_train,\n",
    "#         unigrams_phi,\n",
    "#         fit_softmax_classifier,\n",
    "#         assess_dataframes=[sst_dev, bakeoff_dev])"
   ],
   "execution_count": null,
   "outputs": []
  },
  {
   "cell_type": "markdown",
   "source": [
    "As per our expectation, **_the score is good for the dataset 2, but bad on the sst dataset (dataset 1)_**, when using only the dsent_train. This will later be good for both when we train on both type of datasets. So the score can be improved simply by augmenting the dataset too. The other optimisations are a \"plus\" to this."
   ],
   "metadata": {
    "collapsed": false
   }
  },
  {
   "cell_type": "markdown",
   "metadata": {
    "id": "fSQNZqBT7pj8"
   },
   "source": [
    "**_A look on the dynasent dataset_**"
   ]
  },
  {
   "cell_type": "code",
   "metadata": {
    "colab": {
     "base_uri": "https://localhost:8080/",
     "height": 265
    },
    "id": "wgKi7S6V7q7H",
    "executionInfo": {
     "status": "ok",
     "timestamp": 1631482596727,
     "user_tz": -330,
     "elapsed": 469,
     "user": {
      "displayName": "Shubham Chowdhary",
      "photoUrl": "https://lh3.googleusercontent.com/a-/AOh14GgFkFw1pKwpL_S-zFEuR17zOZk_I_CGJ-d72aCpmg=s64",
      "userId": "09510905510812321280"
     }
    },
    "outputId": "efd1c91f-da50-49b6-8c3e-1cc74a81c625"
   },
   "source": [
    "if 'IS_GRADESCOPE_ENV' not in os.environ:\n",
    "    _ = dsent_train.sentence.str.len().hist().set_ylabel(\"Length in characters\")"
   ],
   "execution_count": 112,
   "outputs": [
    {
     "output_type": "display_data",
     "data": {
      "image/png": "[encoded data removed]",
      "text/plain": [
       "<Figure size 432x288 with 1 Axes>"
      ]
     },
     "metadata": {
      "needs_background": "light"
     }
    }
   ]
  },
  {
   "cell_type": "markdown",
   "metadata": {
    "id": "dCYgDXQU8rja"
   },
   "source": [
    "**_Some samples need to be trimmed here as bert does not except sentences beyond 512 characters._**"
   ]
  },
  {
   "cell_type": "code",
   "metadata": {
    "colab": {
     "base_uri": "https://localhost:8080/",
     "height": 267
    },
    "id": "IyQEYRR381Uz",
    "executionInfo": {
     "status": "ok",
     "timestamp": 1631482850323,
     "user_tz": -330,
     "elapsed": 428,
     "user": {
      "displayName": "Shubham Chowdhary",
      "photoUrl": "https://lh3.googleusercontent.com/a-/AOh14GgFkFw1pKwpL_S-zFEuR17zOZk_I_CGJ-d72aCpmg=s64",
      "userId": "09510905510812321280"
     }
    },
    "outputId": "dff7cde1-b007-451e-cc1a-58a2e7fc6783"
   },
   "source": [
    "if 'IS_GRADESCOPE_ENV' not in os.environ:\n",
    "    dsent_train['word_count'] = dsent_train.sentence.str.split().apply(len)\n",
    "\n",
    "    _ = dsent_train['word_count'].hist().set_ylabel(\"Length in words\")"
   ],
   "execution_count": 113,
   "outputs": [
    {
     "output_type": "display_data",
     "data": {
      "image/png": "[encoded data removed]",
      "text/plain": [
       "<Figure size 432x288 with 1 Axes>"
      ]
     },
     "metadata": {
      "needs_background": "light"
     }
    }
   ]
  },
  {
   "cell_type": "code",
   "metadata": {
    "colab": {
     "base_uri": "https://localhost:8080/",
     "height": 356
    },
    "id": "nYSyw8F09QRx",
    "executionInfo": {
     "status": "ok",
     "timestamp": 1631482900522,
     "user_tz": -330,
     "elapsed": 451,
     "user": {
      "displayName": "Shubham Chowdhary",
      "photoUrl": "https://lh3.googleusercontent.com/a-/AOh14GgFkFw1pKwpL_S-zFEuR17zOZk_I_CGJ-d72aCpmg=s64",
      "userId": "09510905510812321280"
     }
    },
    "outputId": "2f611d24-285f-4c95-a67d-0204bc506641"
   },
   "source": [
    "if 'IS_GRADESCOPE_ENV' not in os.environ:\n",
    "    _ = dsent_train.boxplot(\"word_count\", by=\"label\")"
   ],
   "execution_count": 115,
   "outputs": [
    {
     "output_type": "stream",
     "name": "stderr",
     "text": [
      "/usr/local/lib/python3.7/dist-packages/numpy/core/_asarray.py:83: VisibleDeprecationWarning: Creating an ndarray from ragged nested sequences (which is a list-or-tuple of lists-or-tuples-or ndarrays with different lengths or shapes) is deprecated. If you meant to do this, you must specify 'dtype=object' when creating the ndarray\n",
      "  return array(a, dtype, copy=False, order=order)\n"
     ]
    },
    {
     "output_type": "display_data",
     "data": {
      "image/png": "[encoded data removed]",
      "text/plain": [
       "<Figure size 432x288 with 1 Axes>"
      ]
     },
     "metadata": {
      "needs_background": "light"
     }
    }
   ]
  },
  {
   "cell_type": "markdown",
   "metadata": {
    "id": "7qwDOm_L9ayE"
   },
   "source": [
    "**_Many outliers in this dataset_**"
   ]
  },
  {
   "cell_type": "markdown",
   "metadata": {
    "id": "Xg_84nSA4-V5"
   },
   "source": [
    "Since we know that including subtrees from SST dataset almost anyways leads to a performance improvement, we will definitely make this optimization on the dataset. Although, we prefer to do this later, during the research for a good model. This is because any model trained on all the subtrees takes exceptional amount of training time. **_This saves the compute resources during the research_**."
   ]
  },
  {
   "cell_type": "markdown",
   "metadata": {
    "id": "Q5TTnjiJ4-V5"
   },
   "source": [
    "#### 2.1. Tokenizer, Sentiment-based\n",
    "\n",
    "Lets use a sentiment aware tokenizer and see its gains. If possible, lets see if performance improves on negation/parts of speech tagging"
   ]
  },
  {
   "cell_type": "code",
   "metadata": {
    "id": "EJRgi4X34-V5",
    "executionInfo": {
     "status": "ok",
     "timestamp": 1631507993282,
     "user_tz": -330,
     "elapsed": 362,
     "user": {
      "displayName": "Shubham Chowdhary",
      "photoUrl": "https://lh3.googleusercontent.com/a-/AOh14GgFkFw1pKwpL_S-zFEuR17zOZk_I_CGJ-d72aCpmg=s64",
      "userId": "09510905510812321280"
     }
    }
   },
   "source": [
    "if 'IS_GRADESCOPE_ENV' not in os.environ:\n",
    "\n",
    "    from nltk.tokenize import TweetTokenizer\n",
    "    tknzr = TweetTokenizer(preserve_case=False)\n",
    "\n",
    "    def tweet_token_ctr_phi(text):\n",
    "        return Counter(tknzr.tokenize(text))\n",
    "    \n",
    "    def tweet_token_phi(text):\n",
    "        return tknzr.tokenize(text)"
   ],
   "execution_count": 202,
   "outputs": []
  },
  {
   "cell_type": "code",
   "metadata": {
    "colab": {
     "base_uri": "https://localhost:8080/"
    },
    "id": "W94uU6Oc4-V5",
    "executionInfo": {
     "status": "ok",
     "timestamp": 1631381720078,
     "user_tz": -330,
     "elapsed": 193596,
     "user": {
      "displayName": "Shubham Chowdhary",
      "photoUrl": "https://lh3.googleusercontent.com/a-/AOh14GgFkFw1pKwpL_S-zFEuR17zOZk_I_CGJ-d72aCpmg=s64",
      "userId": "09510905510812321280"
     }
    },
    "outputId": "d60334c4-7d0b-4ec3-a4fb-dd4edfe124a2"
   },
   "source": [
    "# Lets see how it performs. This might suggest complex meanings (as it is a sentiment based tokenization), \n",
    "# and hence lets try using a non-linear model's performance as a baseline for it\n",
    "\n",
    "if 'IS_GRADESCOPE_ENV' not in os.environ:\n",
    "    shallow_nn_classifier_opt_tweet_token_ctr_phi_experiment = sst.experiment(\n",
    "            sst_train,\n",
    "            tweet_token_ctr_phi,\n",
    "            fit_shallow_neural_classifier_with_hyperparameter_search,\n",
    "            assess_dataframes=[sst_dev, bakeoff_dev],\n",
    "            vectorize=True)"
   ],
   "execution_count": null,
   "outputs": [
    {
     "output_type": "stream",
     "name": "stderr",
     "text": [
      "Stopping after epoch 26. Validation score did not improve by tol=1e-05 for more than 10 epochs. Final error is 1.1551160365343094"
     ]
    },
    {
     "output_type": "stream",
     "name": "stdout",
     "text": [
      "Best params: {'hidden_activation': ReLU(), 'hidden_dim': 50}\n",
      "Best score: 0.530\n",
      "Assessment dataset 1\n",
      "              precision    recall  f1-score   support\n",
      "\n",
      "    negative      0.633     0.654     0.644       428\n",
      "     neutral      0.252     0.140     0.180       229\n",
      "    positive      0.639     0.766     0.697       444\n",
      "\n",
      "    accuracy                          0.592      1101\n",
      "   macro avg      0.508     0.520     0.507      1101\n",
      "weighted avg      0.556     0.592     0.569      1101\n",
      "\n",
      "Assessment dataset 2\n",
      "              precision    recall  f1-score   support\n",
      "\n",
      "    negative      0.303     0.600     0.403       565\n",
      "     neutral      0.449     0.178     0.255      1019\n",
      "    positive      0.471     0.510     0.489       777\n",
      "\n",
      "    accuracy                          0.388      2361\n",
      "   macro avg      0.408     0.429     0.382      2361\n",
      "weighted avg      0.421     0.388     0.367      2361\n",
      "\n",
      "Mean of macro-F1 scores: 0.445\n"
     ]
    }
   ]
  },
  {
   "cell_type": "markdown",
   "metadata": {
    "id": "Q8sq08lt4-V5"
   },
   "source": [
    "We consider a Shallow Neural Network a preliminary non-linear baseline for any peripheral optimization we do with the experiment. **_We assume that if a simple NN with some non linearity can fit a complex relationship to some extent, then complex models like RNN/LSTM would be capalble of the same, maybe even more._** **_SST dev score: 0.521_**"
   ]
  },
  {
   "cell_type": "markdown",
   "metadata": {
    "id": "47XJkLFv4-V5"
   },
   "source": [
    "#### 2.2. Tokenizer, Negation-based\n",
    "With the use of regex from references [from Chris Potts' work](http://sentiment.christopherpotts.net/lingstruc.html#approach), we are trying to build a negation tokenizer"
   ]
  },
  {
   "cell_type": "code",
   "metadata": {
    "colab": {
     "base_uri": "https://localhost:8080/"
    },
    "id": "HB359AyH4-V5",
    "executionInfo": {
     "status": "ok",
     "timestamp": 1631381720078,
     "user_tz": -330,
     "elapsed": 9,
     "user": {
      "displayName": "Shubham Chowdhary",
      "photoUrl": "https://lh3.googleusercontent.com/a-/AOh14GgFkFw1pKwpL_S-zFEuR17zOZk_I_CGJ-d72aCpmg=s64",
      "userId": "09510905510812321280"
     }
    },
    "outputId": "53e882c9-3284-4eb8-a6d9-7f7802ff248c"
   },
   "source": [
    "if 'IS_GRADESCOPE_ENV' not in os.environ:\n",
    "    import regex as re\n",
    "\n",
    "    # not so perfect regex, but suffices our cause\n",
    "    neg_string = r\"\"\"\n",
    "            \\b(?:never|no|nothing|nowhere|noone|none|not|\n",
    "            havent|hasnt|hadnt|cant|couldnt|shouldnt|\n",
    "            wont|wouldnt|dont|doesnt|didnt|isnt|arent|aint)|n't\n",
    "            \\b[\\w\\s]+[^\\w\\s]\"\"\"\n",
    "    \n",
    "    neg_regex = re.compile(neg_string, re.VERBOSE | re.I | re.UNICODE)\n",
    "\n",
    "    def tweet_token_neg_phi(text):\n",
    "        s = re.sub(neg_regex, \n",
    "                                 lambda match: re.sub(r'(\\s+)(\\w+)', r'\\1\\2_NEG', match.group(0)),\n",
    "                                 text)\n",
    "        return tweet_token_phi(s)\n",
    "\n",
    "    def tweet_token_neg_ctr_phi(text):\n",
    "        s = re.sub(neg_regex, \n",
    "                                 lambda match: re.sub(r'(\\s+)(\\w+)', r'\\1\\2_NEG', match.group(0)),\n",
    "                                 text)\n",
    "        return tweet_token_ctr_phi(s)\n",
    "    \n",
    "    print(tweet_token_neg_phi(\"I mightn't go to school.\"))\n",
    "\n"
   ],
   "execution_count": null,
   "outputs": [
    {
     "output_type": "stream",
     "name": "stdout",
     "text": [
      "['i', \"mightn't\", 'go_neg', 'to_neg', 'school_neg', '.']\n"
     ]
    }
   ]
  },
  {
   "cell_type": "code",
   "metadata": {
    "colab": {
     "base_uri": "https://localhost:8080/"
    },
    "id": "A0vEpWO84-V6",
    "executionInfo": {
     "status": "ok",
     "timestamp": 1631381952853,
     "user_tz": -330,
     "elapsed": 232778,
     "user": {
      "displayName": "Shubham Chowdhary",
      "photoUrl": "https://lh3.googleusercontent.com/a-/AOh14GgFkFw1pKwpL_S-zFEuR17zOZk_I_CGJ-d72aCpmg=s64",
      "userId": "09510905510812321280"
     }
    },
    "outputId": "6d9b9aea-2267-4935-9e29-928f67822dd1"
   },
   "source": [
    "if 'IS_GRADESCOPE_ENV' not in os.environ:\n",
    "    shallow_nn_classifier_opt_tweet_token_neg_ctr_phi_experiment = sst.experiment(\n",
    "            sst_train,\n",
    "            tweet_token_neg_ctr_phi,\n",
    "            fit_shallow_neural_classifier_with_hyperparameter_search,\n",
    "            assess_dataframes=[sst_dev, bakeoff_dev],\n",
    "            vectorize=True)"
   ],
   "execution_count": null,
   "outputs": [
    {
     "output_type": "stream",
     "name": "stderr",
     "text": [
      "Stopping after epoch 26. Validation score did not improve by tol=1e-05 for more than 10 epochs. Final error is 0.3303545117378235"
     ]
    },
    {
     "output_type": "stream",
     "name": "stdout",
     "text": [
      "Best params: {'hidden_activation': Tanh(), 'hidden_dim': 200}\n",
      "Best score: 0.546\n",
      "Assessment dataset 1\n",
      "              precision    recall  f1-score   support\n",
      "\n",
      "    negative      0.629     0.680     0.653       428\n",
      "     neutral      0.306     0.166     0.215       229\n",
      "    positive      0.650     0.752     0.697       444\n",
      "\n",
      "    accuracy                          0.602      1101\n",
      "   macro avg      0.528     0.533     0.522      1101\n",
      "weighted avg      0.570     0.602     0.580      1101\n",
      "\n",
      "Assessment dataset 2\n",
      "              precision    recall  f1-score   support\n",
      "\n",
      "    negative      0.298     0.625     0.404       565\n",
      "     neutral      0.428     0.170     0.243      1019\n",
      "    positive      0.477     0.475     0.476       777\n",
      "\n",
      "    accuracy                          0.379      2361\n",
      "   macro avg      0.401     0.423     0.374      2361\n",
      "weighted avg      0.413     0.379     0.358      2361\n",
      "\n",
      "Mean of macro-F1 scores: 0.448\n"
     ]
    }
   ]
  },
  {
   "cell_type": "markdown",
   "metadata": {
    "id": "aGP4Ea_64-V6"
   },
   "source": [
    "**_NEG tagging + sentiment tokenizer works a tad better than simple sentiment tokenizer_**. Other recurrent/sequence models like RNN/LSTM/BERT will, through context, learn this negation concept anyways. Moreover, **_this regex does not work with multiple nested negations. it also does not work with casual words like \"dont\" instead of \"don't\"._** We might still still proceed with it, but we keep, plain sentiment-token in the pipeline too. **_SST dev score: 0.519_**"
   ]
  },
  {
   "cell_type": "markdown",
   "metadata": {
    "id": "zxrE_LdR4-V7"
   },
   "source": [
    "#### 2.3 Tokenizer, n-gram phi?\n",
    "Lets see if there is an advantage over a unigram phi"
   ]
  },
  {
   "cell_type": "code",
   "metadata": {
    "colab": {
     "base_uri": "https://localhost:8080/"
    },
    "id": "etcf0FUz4-V7",
    "executionInfo": {
     "status": "ok",
     "timestamp": 1631380287621,
     "user_tz": -330,
     "elapsed": 381,
     "user": {
      "displayName": "Shubham Chowdhary",
      "photoUrl": "https://lh3.googleusercontent.com/a-/AOh14GgFkFw1pKwpL_S-zFEuR17zOZk_I_CGJ-d72aCpmg=s64",
      "userId": "09510905510812321280"
     }
    },
    "outputId": "fd48968c-d611-4046-e490-c607d1b5e351"
   },
   "source": [
    "if 'IS_GRADESCOPE_ENV' not in os.environ:\n",
    "    from nltk import ngrams\n",
    "    \n",
    "    def multigram_phi(text):\n",
    "        n_gram_factor = 2\n",
    "        n_grams = ngrams(text.split(), n_gram_factor)\n",
    "        \n",
    "        n_grams_list = [n_gram for n_gram in n_grams]\n",
    "        return n_grams_list\n",
    "    \n",
    "    def multigram_tweet_token_phi(text):\n",
    "        n_gram_factor = 2\n",
    "        n_grams = ngrams(tweet_token_phi(text), n_gram_factor)\n",
    "        n_grams_list = [n_gram for n_gram in n_grams]\n",
    "        return n_grams_list\n",
    "    \n",
    "    def multigram_tweet_token_ctr_phi(text):\n",
    "        return Counter(multigram_tweet_token_phi(text))\n",
    "    \n",
    "    print(multigram_tweet_token_ctr_phi(\"I want to go to school today.\"))"
   ],
   "execution_count": null,
   "outputs": [
    {
     "output_type": "stream",
     "name": "stdout",
     "text": [
      "Counter({('i', 'want'): 1, ('want', 'to'): 1, ('to', 'go'): 1, ('go', 'to'): 1, ('to', 'school'): 1, ('school', 'today'): 1, ('today', '.'): 1})\n"
     ]
    }
   ]
  },
  {
   "cell_type": "code",
   "metadata": {
    "id": "2VbN4Pg14-V7"
   },
   "source": [
    "# trying to guage a bi-gram's performance (***EXTREMELY MEMORY INTENSIVE***)\n",
    "# if 'IS_GRADESCOPE_ENV' not in os.environ:\n",
    "#     shallow_nn_classifier_opt_multigram_tweet_token_ctr_phi_experiment = sst.experiment(\n",
    "#             sst_train,\n",
    "#             multigram_tweet_token_ctr_phi,\n",
    "#             fit_shallow_neural_classifier_with_hyperparameter_search,\n",
    "#             assess_dataframes=[sst_dev, bakeoff_dev],\n",
    "#             vectorize=True)"
   ],
   "execution_count": null,
   "outputs": []
  },
  {
   "cell_type": "markdown",
   "metadata": {
    "id": "caPzSFbwW4Te"
   },
   "source": [
    "Bi-grams and other n > 2 grams seem to be quite promising. But they have a ramped up memory requirement. For example here, for an L length sentence, there will be L-1 bi-grams and while there might be repeated unigrams in a sentence, it is **extremely rare** to find repeated 2-grams. Hence, the size of the feature matrix will almost always remain ~ O(L), which suggests that this works more like **rote-learning**. Sufficient dataset inference from this kind of model should provide **good performance**, but that would never justify the huge memory requirements it has. \n",
    "\n",
    "As a practical example, **the above cell crashes even the ColabPro runtime**. Hence, not proceeding with multi-grams in our setup."
   ]
  },
  {
   "cell_type": "markdown",
   "metadata": {
    "id": "tlPoXVwxkOW6"
   },
   "source": [
    "#### 2.4 VSM from word_relatedness\n",
    "It looks like a good idea to use feature vectors from the VSMs created in the word_relatedness work. Since it performed well, the representations from it can be quite promising."
   ]
  },
  {
   "cell_type": "code",
   "metadata": {
    "colab": {
     "base_uri": "https://localhost:8080/"
    },
    "id": "gtRVLEAylO_c",
    "executionInfo": {
     "status": "ok",
     "timestamp": 1631401172590,
     "user_tz": -330,
     "elapsed": 3495,
     "user": {
      "displayName": "Shubham Chowdhary",
      "photoUrl": "https://lh3.googleusercontent.com/a-/AOh14GgFkFw1pKwpL_S-zFEuR17zOZk_I_CGJ-d72aCpmg=s64",
      "userId": "09510905510812321280"
     }
    },
    "outputId": "135e9e0b-868e-4c0b-d9c6-1e683472b3b1"
   },
   "source": [
    "if 'IS_GRADESCOPE_ENV' not in os.environ:\n",
    "\n",
    "    VSM_HOME = os.path.join('data', 'vsmdata')\n",
    "\n",
    "    def create_df_vsm():\n",
    "        full_matrix_df = pd.read_csv(os.path.join(VSM_HOME, \"best_devset_word_repr_vsm.csv.gz\"), index_col=0)\n",
    "        return full_matrix_df\n",
    "    \n",
    "    custom_vsm = create_df_vsm()\n",
    "\n",
    "    custom_vsm_lookup = {word:custom_vsm.loc[word] for word in custom_vsm.index}\n",
    "    \n",
    "    print(custom_vsm_lookup[\"water\"])\n",
    "    "
   ],
   "execution_count": null,
   "outputs": [
    {
     "output_type": "stream",
     "name": "stdout",
     "text": [
      "0       0.007726\n",
      "1      -0.002936\n",
      "2       0.001923\n",
      "3      -0.002022\n",
      "4       0.029006\n",
      "          ...   \n",
      "1275    0.009053\n",
      "1276   -0.020875\n",
      "1277    0.027672\n",
      "1278    0.033489\n",
      "1279    0.011569\n",
      "Name: water, Length: 1280, dtype: float64\n"
     ]
    }
   ]
  },
  {
   "cell_type": "code",
   "metadata": {
    "colab": {
     "base_uri": "https://localhost:8080/"
    },
    "id": "0dN9LUhmoUlf",
    "executionInfo": {
     "status": "ok",
     "timestamp": 1631344742578,
     "user_tz": -330,
     "elapsed": 393,
     "user": {
      "displayName": "Shubham Chowdhary",
      "photoUrl": "https://lh3.googleusercontent.com/a-/AOh14GgFkFw1pKwpL_S-zFEuR17zOZk_I_CGJ-d72aCpmg=s64",
      "userId": "09510905510812321280"
     }
    },
    "outputId": "3d0d134a-f7d0-4804-92ed-62bdffe5f29b"
   },
   "source": [
    "if 'IS_GRADESCOPE_ENV' not in os.environ:\n",
    "\n",
    "    def custom_vsm_phi(text):\n",
    "        text_list = text.split()\n",
    "        text_repr = []\n",
    "        repr_dim = len(custom_vsm.columns)\n",
    "        \n",
    "        text_repr = [list(custom_vsm.loc[word])  \n",
    "                      for word in text_list if word in custom_vsm.index]\n",
    "        \n",
    "        if len(text_repr) == 0:\n",
    "            text_repr = np.zeros(repr_dim)\n",
    "            return text_repr\n",
    "        \n",
    "        return np.mean(text_repr, axis=0)\n",
    "    \n",
    "    print(custom_vsm_phi(\"water is the new game\"))\n",
    "\n"
   ],
   "execution_count": null,
   "outputs": [
    {
     "output_type": "stream",
     "name": "stdout",
     "text": [
      "[-0.00461155 -0.00676014  0.00023683 ...  0.00576954  0.01061944\n",
      "  0.00043484]\n"
     ]
    }
   ]
  },
  {
   "cell_type": "code",
   "metadata": {
    "colab": {
     "base_uri": "https://localhost:8080/"
    },
    "id": "Y7DmrEM7q0Jo",
    "executionInfo": {
     "status": "ok",
     "timestamp": 1631345082913,
     "user_tz": -330,
     "elapsed": 134130,
     "user": {
      "displayName": "Shubham Chowdhary",
      "photoUrl": "https://lh3.googleusercontent.com/a-/AOh14GgFkFw1pKwpL_S-zFEuR17zOZk_I_CGJ-d72aCpmg=s64",
      "userId": "09510905510812321280"
     }
    },
    "outputId": "e069803e-b953-49af-a208-962cc1863684"
   },
   "source": [
    "if 'IS_GRADESCOPE_ENV' not in os.environ:\n",
    "    shallow_nn_classifier_opt_custom_vsm_phi_experiment = sst.experiment(\n",
    "            sst_train,\n",
    "            custom_vsm_phi,\n",
    "            fit_shallow_neural_classifier_with_hyperparameter_search,\n",
    "            assess_dataframes=[sst_dev, bakeoff_dev],\n",
    "            vectorize=False)"
   ],
   "execution_count": null,
   "outputs": [
    {
     "output_type": "stream",
     "name": "stderr",
     "text": [
      "Stopping after epoch 61. Validation score did not improve by tol=1e-05 for more than 10 epochs. Final error is 6.368035912513733"
     ]
    },
    {
     "output_type": "stream",
     "name": "stdout",
     "text": [
      "Best params: {'hidden_activation': ReLU(), 'hidden_dim': 200}\n",
      "Best score: 0.469\n",
      "Assessment dataset 1\n",
      "              precision    recall  f1-score   support\n",
      "\n",
      "    negative      0.625     0.696     0.659       428\n",
      "     neutral      0.304     0.031     0.056       229\n",
      "    positive      0.592     0.802     0.681       444\n",
      "\n",
      "    accuracy                          0.600      1101\n",
      "   macro avg      0.507     0.510     0.465      1101\n",
      "weighted avg      0.545     0.600     0.542      1101\n",
      "\n",
      "Assessment dataset 2\n",
      "              precision    recall  f1-score   support\n",
      "\n",
      "    negative      0.296     0.761     0.426       565\n",
      "     neutral      0.456     0.091     0.152      1019\n",
      "    positive      0.457     0.414     0.435       777\n",
      "\n",
      "    accuracy                          0.358      2361\n",
      "   macro avg      0.403     0.422     0.338      2361\n",
      "weighted avg      0.418     0.358     0.311      2361\n",
      "\n",
      "Mean of macro-F1 scores: 0.401\n"
     ]
    }
   ]
  },
  {
   "cell_type": "markdown",
   "metadata": {
    "id": "XLagkd2Rvsui"
   },
   "source": [
    "The scores from the *limited vocabulary VSM* we created then, could not very well encode the sentences. This might majorly be because of a lack of vast vocabulary in it. Not proceeding with this in the pipeline further."
   ]
  },
  {
   "cell_type": "markdown",
   "metadata": {
    "id": "LLeM4zw8ccrn"
   },
   "source": [
    "#### **2.5 Pipeline till now**:\n",
    "1. Use **_dsent_train + sst_train (issubtree=True)_**\n",
    "2. Feature vectorization using: **_tweet_token_phi_**, glove_phi, tweet_token_neg_phi, **_bert pretrained embeddings_**, randomly inited embeddings\n",
    "3. Now let us explore various fit models "
   ]
  },
  {
   "cell_type": "markdown",
   "metadata": {
    "id": "ws10NixVe0lg"
   },
   "source": [
    "#### 3. Various models (with hyper-param optimizations)"
   ]
  },
  {
   "cell_type": "markdown",
   "metadata": {
    "id": "2fvF8_t_6HKy"
   },
   "source": [
    "##### 3.1 SGDClassifier"
   ]
  },
  {
   "cell_type": "code",
   "metadata": {
    "id": "4BWjX_YEiNmh"
   },
   "source": [
    "# sklearn's SGD Classifier\n",
    "\n",
    "if 'IS_GRADESCOPE_ENV' not in os.environ:\n",
    "\n",
    "    from sklearn.linear_model import SGDClassifier\n",
    "\n",
    "    def fit_sgdclassifier_with_hyperparameter_search(X, y):\n",
    "        basemod = SGDClassifier(tol=1e-4, n_jobs=-1, \n",
    "            early_stopping=True)\n",
    "        cv = 5\n",
    "        param_grid = {\n",
    "            'loss': ['hinge', 'log', 'modified_huber'],\n",
    "            'penalty': ['l1', 'l2']}\n",
    "        \n",
    "        bestmod = utils.fit_classifier_with_hyperparameter_search(\n",
    "            X, y, basemod, cv, param_grid)\n",
    "        \n",
    "        return bestmod\n"
   ],
   "execution_count": null,
   "outputs": []
  },
  {
   "cell_type": "code",
   "metadata": {
    "colab": {
     "base_uri": "https://localhost:8080/"
    },
    "id": "TiuqXx1bzzbH",
    "executionInfo": {
     "status": "ok",
     "timestamp": 1631357016957,
     "user_tz": -330,
     "elapsed": 230331,
     "user": {
      "displayName": "Shubham Chowdhary",
      "photoUrl": "https://lh3.googleusercontent.com/a-/AOh14GgFkFw1pKwpL_S-zFEuR17zOZk_I_CGJ-d72aCpmg=s64",
      "userId": "09510905510812321280"
     }
    },
    "outputId": "0d958643-fd9b-465c-a38f-4d60a4271610"
   },
   "source": [
    "if 'IS_GRADESCOPE_ENV' not in os.environ:\n",
    "    sgdclassifier_opt_tweet_token_ctr_phi_experiment = sst.experiment(\n",
    "        sst_train,\n",
    "        tweet_token_ctr_phi,\n",
    "        fit_sgdclassifier_with_hyperparameter_search,\n",
    "        assess_dataframes=[sst_dev, bakeoff_dev], \n",
    "        vectorize=True)"
   ],
   "execution_count": null,
   "outputs": [
    {
     "output_type": "stream",
     "name": "stdout",
     "text": [
      "Best params: {'loss': 'log', 'penalty': 'l1'}\n",
      "Best score: 0.517\n",
      "Assessment dataset 1\n",
      "              precision    recall  f1-score   support\n",
      "\n",
      "    negative      0.605     0.540     0.570       428\n",
      "     neutral      0.264     0.262     0.263       229\n",
      "    positive      0.604     0.669     0.635       444\n",
      "\n",
      "    accuracy                          0.534      1101\n",
      "   macro avg      0.491     0.490     0.489      1101\n",
      "weighted avg      0.533     0.534     0.532      1101\n",
      "\n",
      "Assessment dataset 2\n",
      "              precision    recall  f1-score   support\n",
      "\n",
      "    negative      0.322     0.473     0.383       565\n",
      "     neutral      0.470     0.344     0.398      1019\n",
      "    positive      0.457     0.462     0.460       777\n",
      "\n",
      "    accuracy                          0.414      2361\n",
      "   macro avg      0.416     0.426     0.413      2361\n",
      "weighted avg      0.430     0.414     0.415      2361\n",
      "\n",
      "Mean of macro-F1 scores: 0.451\n"
     ]
    }
   ]
  },
  {
   "cell_type": "markdown",
   "metadata": {
    "id": "fZ7zs5E2eg4X"
   },
   "source": [
    "**_SST dev score: 0.489_**"
   ]
  },
  {
   "cell_type": "code",
   "metadata": {
    "colab": {
     "base_uri": "https://localhost:8080/"
    },
    "id": "VA3FtjWq3Hl7",
    "executionInfo": {
     "status": "ok",
     "timestamp": 1631357265789,
     "user_tz": -330,
     "elapsed": 248840,
     "user": {
      "displayName": "Shubham Chowdhary",
      "photoUrl": "https://lh3.googleusercontent.com/a-/AOh14GgFkFw1pKwpL_S-zFEuR17zOZk_I_CGJ-d72aCpmg=s64",
      "userId": "09510905510812321280"
     }
    },
    "outputId": "945c5acb-6e29-4ad0-daea-df5204a7fbf3"
   },
   "source": [
    "if 'IS_GRADESCOPE_ENV' not in os.environ:\n",
    "    sgdclassifier_opt_tweet_token_neg_ctr_phi_experiment = sst.experiment(\n",
    "        sst_train,\n",
    "        tweet_token_neg_ctr_phi,\n",
    "        fit_sgdclassifier_with_hyperparameter_search,\n",
    "        assess_dataframes=[sst_dev, bakeoff_dev], \n",
    "        vectorize=True)"
   ],
   "execution_count": null,
   "outputs": [
    {
     "output_type": "stream",
     "name": "stdout",
     "text": [
      "Best params: {'loss': 'modified_huber', 'penalty': 'l1'}\n",
      "Best score: 0.519\n",
      "Assessment dataset 1\n",
      "              precision    recall  f1-score   support\n",
      "\n",
      "    negative      0.639     0.579     0.608       428\n",
      "     neutral      0.289     0.245     0.265       229\n",
      "    positive      0.601     0.703     0.648       444\n",
      "\n",
      "    accuracy                          0.559      1101\n",
      "   macro avg      0.510     0.509     0.507      1101\n",
      "weighted avg      0.551     0.559     0.553      1101\n",
      "\n",
      "Assessment dataset 2\n",
      "              precision    recall  f1-score   support\n",
      "\n",
      "    negative      0.318     0.467     0.378       565\n",
      "     neutral      0.466     0.309     0.372      1019\n",
      "    positive      0.448     0.493     0.470       777\n",
      "\n",
      "    accuracy                          0.407      2361\n",
      "   macro avg      0.411     0.423     0.407      2361\n",
      "weighted avg      0.425     0.407     0.405      2361\n",
      "\n",
      "Mean of macro-F1 scores: 0.457\n"
     ]
    }
   ]
  },
  {
   "cell_type": "markdown",
   "metadata": {
    "id": "Z-BUkJGIf8HW"
   },
   "source": [
    "**_SST dev score: 0.507_**"
   ]
  },
  {
   "cell_type": "markdown",
   "metadata": {
    "id": "KAh_fA-c5d42"
   },
   "source": [
    "The linear classifiers dont perform extremely well, but **_after some optimization they reach a value around 0.51_**."
   ]
  },
  {
   "cell_type": "markdown",
   "metadata": {
    "id": "iX4-wPZ36CQ9"
   },
   "source": [
    "##### 3.2 Logistic Regression"
   ]
  },
  {
   "cell_type": "code",
   "metadata": {
    "id": "QPeSHzfj68kE"
   },
   "source": [
    "if 'IS_GRADESCOPE_ENV' not in os.environ:\n",
    "\n",
    "    from sklearn.linear_model import LogisticRegression\n",
    "\n",
    "    def fit_logistic_with_hyperparameter_search(X, y):\n",
    "        basemod = LogisticRegression(tol=1e-4)\n",
    "        cv = 5\n",
    "        param_grid = {\n",
    "            # newton-cg, saga are quite slow and should not contribute \n",
    "            # much to the score anyways\n",
    "            'solver': ['liblinear'],\n",
    "            'penalty': ['l1', 'l2'],\n",
    "            'C': [0.5, 1, 2]}\n",
    "        \n",
    "        bestmod = utils.fit_classifier_with_hyperparameter_search(\n",
    "            X, y, basemod, cv, param_grid)\n",
    "        \n",
    "        return bestmod\n",
    "\n",
    "    def fit_logistic_with_hyperparameter_search_2(X, y):\n",
    "        basemod = LogisticRegression(tol=1e-4, max_iter=1000)\n",
    "        cv = 5\n",
    "        param_grid = {\n",
    "            'solver': ['lbfgs'],\n",
    "            'penalty': ['l2'],\n",
    "            'C': [0.5, 1, 2]}\n",
    "        \n",
    "        bestmod = utils.fit_classifier_with_hyperparameter_search(\n",
    "            X, y, basemod, cv, param_grid)\n",
    "        \n",
    "        return bestmod"
   ],
   "execution_count": null,
   "outputs": []
  },
  {
   "cell_type": "code",
   "metadata": {
    "colab": {
     "base_uri": "https://localhost:8080/"
    },
    "id": "7EIJKYRq86fr",
    "executionInfo": {
     "status": "ok",
     "timestamp": 1631381987327,
     "user_tz": -330,
     "elapsed": 34476,
     "user": {
      "displayName": "Shubham Chowdhary",
      "photoUrl": "https://lh3.googleusercontent.com/a-/AOh14GgFkFw1pKwpL_S-zFEuR17zOZk_I_CGJ-d72aCpmg=s64",
      "userId": "09510905510812321280"
     }
    },
    "outputId": "b81d7051-5698-47c1-c4b9-609474ce9820"
   },
   "source": [
    "if 'IS_GRADESCOPE_ENV' not in os.environ:\n",
    "    logistic_opt_tweet_token_ctr_phi_experiment = sst.experiment(\n",
    "        sst_train,\n",
    "        tweet_token_ctr_phi,\n",
    "        fit_logistic_with_hyperparameter_search,\n",
    "        assess_dataframes=[sst_dev, bakeoff_dev], \n",
    "        vectorize=True)"
   ],
   "execution_count": null,
   "outputs": [
    {
     "output_type": "stream",
     "name": "stdout",
     "text": [
      "Best params: {'C': 2, 'penalty': 'l2', 'solver': 'liblinear'}\n",
      "Best score: 0.526\n",
      "Assessment dataset 1\n",
      "              precision    recall  f1-score   support\n",
      "\n",
      "    negative      0.620     0.666     0.642       428\n",
      "     neutral      0.304     0.153     0.203       229\n",
      "    positive      0.631     0.748     0.685       444\n",
      "\n",
      "    accuracy                          0.592      1101\n",
      "   macro avg      0.518     0.522     0.510      1101\n",
      "weighted avg      0.559     0.592     0.568      1101\n",
      "\n",
      "Assessment dataset 2\n",
      "              precision    recall  f1-score   support\n",
      "\n",
      "    negative      0.287     0.611     0.390       565\n",
      "     neutral      0.426     0.146     0.218      1019\n",
      "    positive      0.465     0.484     0.474       777\n",
      "\n",
      "    accuracy                          0.368      2361\n",
      "   macro avg      0.393     0.414     0.361      2361\n",
      "weighted avg      0.405     0.368     0.343      2361\n",
      "\n",
      "Mean of macro-F1 scores: 0.435\n"
     ]
    }
   ]
  },
  {
   "cell_type": "markdown",
   "metadata": {
    "id": "a3GN22yNj_pf"
   },
   "source": [
    "**_SST dev score: 0.510_**"
   ]
  },
  {
   "cell_type": "code",
   "metadata": {
    "colab": {
     "base_uri": "https://localhost:8080/"
    },
    "id": "cliGH21mjPoH",
    "executionInfo": {
     "status": "ok",
     "timestamp": 1631383133983,
     "user_tz": -330,
     "elapsed": 1146664,
     "user": {
      "displayName": "Shubham Chowdhary",
      "photoUrl": "https://lh3.googleusercontent.com/a-/AOh14GgFkFw1pKwpL_S-zFEuR17zOZk_I_CGJ-d72aCpmg=s64",
      "userId": "09510905510812321280"
     }
    },
    "outputId": "01cbb6f0-36e9-4a93-a47e-29e21590bfab"
   },
   "source": [
    "if 'IS_GRADESCOPE_ENV' not in os.environ:\n",
    "    logistic_opt_tweet_token_ctr_phi_experiment_2 = sst.experiment(\n",
    "        sst_train,\n",
    "        tweet_token_ctr_phi,\n",
    "        fit_logistic_with_hyperparameter_search_2,\n",
    "        assess_dataframes=[sst_dev, bakeoff_dev], \n",
    "        vectorize=True)"
   ],
   "execution_count": null,
   "outputs": [
    {
     "output_type": "stream",
     "name": "stdout",
     "text": [
      "Best params: {'C': 1, 'penalty': 'l2', 'solver': 'lbfgs'}\n",
      "Best score: 0.530\n",
      "Assessment dataset 1\n",
      "              precision    recall  f1-score   support\n",
      "\n",
      "    negative      0.620     0.666     0.642       428\n",
      "     neutral      0.289     0.153     0.200       229\n",
      "    positive      0.631     0.739     0.680       444\n",
      "\n",
      "    accuracy                          0.589      1101\n",
      "   macro avg      0.513     0.519     0.507      1101\n",
      "weighted avg      0.555     0.589     0.566      1101\n",
      "\n",
      "Assessment dataset 2\n",
      "              precision    recall  f1-score   support\n",
      "\n",
      "    negative      0.293     0.627     0.399       565\n",
      "     neutral      0.410     0.145     0.214      1019\n",
      "    positive      0.468     0.476     0.472       777\n",
      "\n",
      "    accuracy                          0.369      2361\n",
      "   macro avg      0.390     0.416     0.362      2361\n",
      "weighted avg      0.401     0.369     0.343      2361\n",
      "\n",
      "Mean of macro-F1 scores: 0.435\n"
     ]
    }
   ]
  },
  {
   "cell_type": "markdown",
   "metadata": {
    "id": "-rDGXi5qgINx"
   },
   "source": [
    "SST dev score: 0.507 , **_not much gains with the second-derivate estimates_**"
   ]
  },
  {
   "cell_type": "markdown",
   "metadata": {
    "id": "irwlEMoimmzq"
   },
   "source": [
    "##### 3.3 SVM"
   ]
  },
  {
   "cell_type": "code",
   "metadata": {
    "id": "ws2P6YD_mzNj"
   },
   "source": [
    "if 'IS_GRADESCOPE_ENV' not in os.environ:\n",
    "\n",
    "    from sklearn.svm import SVC\n",
    "\n",
    "    def fit_svm_with_hyperparameter_search(X, y):\n",
    "        basemod = SVC(tol=1e-4, class_weight='balanced', C=1, kernel='rbf',\n",
    "                      probability=False)\n",
    "        basemod.fit(X, y)\n",
    "        return basemod\n",
    "        # cv = 5\n",
    "        # param_grid = {\n",
    "        #     'C': [0.5, 1, 2],\n",
    "        #     'kernel': ['poly', 'rbf'],\n",
    "        #     'probability': [False]}\n",
    "        \n",
    "        # bestmod = utils.fit_classifier_with_hyperparameter_search(\n",
    "        #     X, y, basemod, cv, param_grid)\n",
    "        \n",
    "        # return bestmod"
   ],
   "execution_count": null,
   "outputs": []
  },
  {
   "cell_type": "code",
   "metadata": {
    "colab": {
     "base_uri": "https://localhost:8080/"
    },
    "id": "OijoeiF4qhdJ",
    "executionInfo": {
     "status": "ok",
     "timestamp": 1631379282942,
     "user_tz": -330,
     "elapsed": 2742467,
     "user": {
      "displayName": "Shubham Chowdhary",
      "photoUrl": "https://lh3.googleusercontent.com/a-/AOh14GgFkFw1pKwpL_S-zFEuR17zOZk_I_CGJ-d72aCpmg=s64",
      "userId": "09510905510812321280"
     }
    },
    "outputId": "75ee2eac-ba75-43d6-8829-5d3565abe607"
   },
   "source": [
    "if 'IS_GRADESCOPE_ENV' not in os.environ:\n",
    "    svm_opt_tweet_token_ctr_phi_experiment = sst.experiment(\n",
    "        sst_train,\n",
    "        tweet_token_ctr_phi,\n",
    "        fit_svm_with_hyperparameter_search,\n",
    "        assess_dataframes=[sst_dev, bakeoff_dev], \n",
    "        vectorize=True)"
   ],
   "execution_count": null,
   "outputs": [
    {
     "output_type": "stream",
     "name": "stdout",
     "text": [
      "Assessment dataset 1\n",
      "              precision    recall  f1-score   support\n",
      "\n",
      "    negative      0.633     0.610     0.621       428\n",
      "     neutral      0.296     0.288     0.292       229\n",
      "    positive      0.650     0.682     0.666       444\n",
      "\n",
      "    accuracy                          0.572      1101\n",
      "   macro avg      0.527     0.527     0.526      1101\n",
      "weighted avg      0.570     0.572     0.571      1101\n",
      "\n",
      "Assessment dataset 2\n",
      "              precision    recall  f1-score   support\n",
      "\n",
      "    negative      0.291     0.414     0.342       565\n",
      "     neutral      0.434     0.472     0.452      1019\n",
      "    positive      0.487     0.281     0.356       777\n",
      "\n",
      "    accuracy                          0.395      2361\n",
      "   macro avg      0.404     0.389     0.383      2361\n",
      "weighted avg      0.417     0.395     0.394      2361\n",
      "\n",
      "Mean of macro-F1 scores: 0.455\n"
     ]
    }
   ]
  },
  {
   "cell_type": "markdown",
   "metadata": {
    "id": "tnIXrdtZyix5"
   },
   "source": [
    "This is an extremely costly step. **_It took 45 min just to train 1 variant!!! This must be because of the O(n^2) approach on the data points it takes. Anyways, because the model as some of the top scores, it can be included for further investigation._** But its not possible to optimiza on its hyperparameters for now. **_Since it cannot be trained on a large dataset (SST+dynasent) without incurring a lot of CPU-only compute time, we still need to see if we want to include this model for the final evaluation._**\n",
    "\n",
    "**_SST dev score: 0.526_**"
   ]
  },
  {
   "cell_type": "markdown",
   "metadata": {
    "id": "ck4WfpyQrUgs"
   },
   "source": [
    "##### 3.4 Multinomial NB"
   ]
  },
  {
   "cell_type": "code",
   "metadata": {
    "id": "iuRdrVmZrc-t"
   },
   "source": [
    "if 'IS_GRADESCOPE_ENV' not in os.environ:\n",
    "\n",
    "    from sklearn.naive_bayes import MultinomialNB\n",
    "\n",
    "    # the few hyper-parameters it has are okay in their defaults\n",
    "    def fit_nb(X, y):\n",
    "        mod = MultinomialNB()\n",
    "        mod.fit(X, y)\n",
    "        return mod"
   ],
   "execution_count": null,
   "outputs": []
  },
  {
   "cell_type": "code",
   "metadata": {
    "colab": {
     "base_uri": "https://localhost:8080/"
    },
    "id": "h8WGMu86sSxp",
    "executionInfo": {
     "status": "ok",
     "timestamp": 1631379859091,
     "user_tz": -330,
     "elapsed": 2038,
     "user": {
      "displayName": "Shubham Chowdhary",
      "photoUrl": "https://lh3.googleusercontent.com/a-/AOh14GgFkFw1pKwpL_S-zFEuR17zOZk_I_CGJ-d72aCpmg=s64",
      "userId": "09510905510812321280"
     }
    },
    "outputId": "514cb80b-c786-437a-e6af-04a66ef12d89"
   },
   "source": [
    "if 'IS_GRADESCOPE_ENV' not in os.environ:\n",
    "    nb_tweet_token_ctr_phi_experiment = sst.experiment(\n",
    "        sst_train,\n",
    "        tweet_token_ctr_phi,\n",
    "        fit_nb,\n",
    "        assess_dataframes=[sst_dev, bakeoff_dev], \n",
    "        vectorize=True)"
   ],
   "execution_count": null,
   "outputs": [
    {
     "output_type": "stream",
     "name": "stdout",
     "text": [
      "Assessment dataset 1\n",
      "              precision    recall  f1-score   support\n",
      "\n",
      "    negative      0.632     0.757     0.689       428\n",
      "     neutral      0.357     0.044     0.078       229\n",
      "    positive      0.645     0.813     0.719       444\n",
      "\n",
      "    accuracy                          0.631      1101\n",
      "   macro avg      0.544     0.538     0.495      1101\n",
      "weighted avg      0.580     0.631     0.574      1101\n",
      "\n",
      "Assessment dataset 2\n",
      "              precision    recall  f1-score   support\n",
      "\n",
      "    negative      0.302     0.768     0.433       565\n",
      "     neutral      0.488     0.039     0.073      1019\n",
      "    positive      0.505     0.547     0.525       777\n",
      "\n",
      "    accuracy                          0.381      2361\n",
      "   macro avg      0.432     0.451     0.344      2361\n",
      "weighted avg      0.449     0.381     0.308      2361\n",
      "\n",
      "Mean of macro-F1 scores: 0.419\n"
     ]
    }
   ]
  },
  {
   "cell_type": "markdown",
   "metadata": {
    "id": "jaDaZ9u90VjB"
   },
   "source": [
    "Decent score in almost an instant execution!! This is because of the fixed steps it has to follow to calculate the priors and multiply them accordingly. **_Lets try a new variant on it using the bi-gram phi_**."
   ]
  },
  {
   "cell_type": "code",
   "metadata": {
    "id": "WQOBwJwV034Z"
   },
   "source": [
    "# Huge memory costs even for basic aggregate operations with the Bi-grams in NB\n",
    "# if 'IS_GRADESCOPE_ENV' not in os.environ:\n",
    "#     nb_multigram_tweet_token_ctr_phi_experiment = sst.experiment(\n",
    "#         sst_train,\n",
    "#         multigram_tweet_token_ctr_phi,\n",
    "#         fit_nb,\n",
    "#         assess_dataframes=[sst_dev, bakeoff_dev], \n",
    "#         vectorize=True)"
   ],
   "execution_count": null,
   "outputs": []
  },
  {
   "cell_type": "markdown",
   "metadata": {
    "id": "vygXIBaO2zmU"
   },
   "source": [
    "Looks like using bi-grams simply entails huge memory costs even for simple models. So the best that can be extracted from sane resources now is the performance of a unigram tweet token.\n",
    "\n",
    "**_SST dev score: 0.495_**"
   ]
  },
  {
   "cell_type": "markdown",
   "metadata": {
    "id": "MMUUEslQ-ymc"
   },
   "source": [
    "##### 3.5 A thin NN"
   ]
  },
  {
   "cell_type": "code",
   "metadata": {
    "id": "ISsAfwLz-6Lt"
   },
   "source": [
    "if 'IS_GRADESCOPE_ENV' not in os.environ:\n",
    "\n",
    "    class TorchCustomSoftmaxClassifier(TorchShallowNeuralClassifier):\n",
    "        def build_graph(self):\n",
    "            return nn.Sequential(\n",
    "                nn.Linear(self.input_dim, self.hidden_dim),\n",
    "                self.hidden_activation,\n",
    "                nn.Dropout(p=0.5),\n",
    "                nn.Linear(self.hidden_dim, self.n_classes_),\n",
    "                nn.Softmax())\n",
    "\n",
    "    def fit_torch_custom_nn(X, y):\n",
    "        basemod = TorchCustomSoftmaxClassifier(early_stopping=True, \n",
    "                                               validation_fraction=0.1,\n",
    "                                               tol=1e-5, n_iter_no_change=10,\n",
    "                                               hidden_activation=nn.ReLU())\n",
    "        cv = 3\n",
    "        param_grid = {\n",
    "            'hidden_dim': [512, 1024]}\n",
    "        \n",
    "        bestmod = utils.fit_classifier_with_hyperparameter_search(\n",
    "            X, y, basemod, cv, param_grid)\n",
    "        \n",
    "        return bestmod"
   ],
   "execution_count": null,
   "outputs": []
  },
  {
   "cell_type": "code",
   "metadata": {
    "colab": {
     "base_uri": "https://localhost:8080/"
    },
    "id": "02xBpiW8TfH3",
    "executionInfo": {
     "status": "ok",
     "timestamp": 1631387936689,
     "user_tz": -330,
     "elapsed": 68697,
     "user": {
      "displayName": "Shubham Chowdhary",
      "photoUrl": "https://lh3.googleusercontent.com/a-/AOh14GgFkFw1pKwpL_S-zFEuR17zOZk_I_CGJ-d72aCpmg=s64",
      "userId": "09510905510812321280"
     }
    },
    "outputId": "6346827f-b9c9-4ec3-f32a-8341b9d58396"
   },
   "source": [
    "if 'IS_GRADESCOPE_ENV' not in os.environ:\n",
    "    custom_nn_opt_tweet_token_ctr_phi_experiment = sst.experiment(\n",
    "        sst_train,\n",
    "        tweet_token_ctr_phi,\n",
    "        fit_torch_custom_nn,\n",
    "        assess_dataframes=[sst_dev, bakeoff_dev], \n",
    "        vectorize=True)"
   ],
   "execution_count": null,
   "outputs": [
    {
     "output_type": "stream",
     "name": "stderr",
     "text": [
      "/usr/local/lib/python3.7/dist-packages/torch/nn/modules/container.py:139: UserWarning: Implicit dimension choice for softmax has been deprecated. Change the call to include dim=X as an argument.\n",
      "  input = module(input)\n",
      "Stopping after epoch 25. Validation score did not improve by tol=1e-05 for more than 10 epochs. Final error is 4.526520609855652"
     ]
    },
    {
     "output_type": "stream",
     "name": "stdout",
     "text": [
      "Best params: {'hidden_dim': 1024}\n",
      "Best score: 0.537\n",
      "Assessment dataset 1\n",
      "              precision    recall  f1-score   support\n",
      "\n",
      "    negative      0.654     0.668     0.661       428\n",
      "     neutral      0.316     0.218     0.258       229\n",
      "    positive      0.650     0.741     0.693       444\n",
      "\n",
      "    accuracy                          0.604      1101\n",
      "   macro avg      0.540     0.543     0.537      1101\n",
      "weighted avg      0.582     0.604     0.590      1101\n",
      "\n",
      "Assessment dataset 2\n",
      "              precision    recall  f1-score   support\n",
      "\n",
      "    negative      0.305     0.607     0.406       565\n",
      "     neutral      0.453     0.201     0.279      1019\n",
      "    positive      0.478     0.481     0.480       777\n",
      "\n",
      "    accuracy                          0.391      2361\n",
      "   macro avg      0.412     0.430     0.388      2361\n",
      "weighted avg      0.426     0.391     0.375      2361\n",
      "\n",
      "Mean of macro-F1 scores: 0.463\n"
     ]
    }
   ]
  },
  {
   "cell_type": "markdown",
   "metadata": {
    "id": "cJ6fCQ8CLI7v"
   },
   "source": [
    "This is a better score for us. **_With just an improvement in the simple NN model, we have improved on the baseline._**\n",
    "\n",
    "**_SST dev score: 0.542_** (Relu + hidden dim: 1024) (searched in space (ReLU, tanh, sigmoid) X (128, 256, 512, 1024, 1200, 1500, 2048 hidden_dim)"
   ]
  },
  {
   "cell_type": "markdown",
   "metadata": {
    "id": "xriTTLZWPTBv"
   },
   "source": [
    "Now lets check this setup with glove embedding"
   ]
  },
  {
   "cell_type": "code",
   "metadata": {
    "colab": {
     "base_uri": "https://localhost:8080/"
    },
    "id": "OMeTLV7APfO7",
    "executionInfo": {
     "status": "ok",
     "timestamp": 1631387170156,
     "user_tz": -330,
     "elapsed": 34888,
     "user": {
      "displayName": "Shubham Chowdhary",
      "photoUrl": "https://lh3.googleusercontent.com/a-/AOh14GgFkFw1pKwpL_S-zFEuR17zOZk_I_CGJ-d72aCpmg=s64",
      "userId": "09510905510812321280"
     }
    },
    "outputId": "23a43c84-992b-4cf8-9866-1f612efef521"
   },
   "source": [
    "if 'IS_GRADESCOPE_ENV' not in os.environ:\n",
    "    custom_nn_opt_glove_phi_experiment = sst.experiment(\n",
    "        sst_train,\n",
    "        glove_phi,\n",
    "        fit_torch_custom_nn,\n",
    "        assess_dataframes=[sst_dev, bakeoff_dev], \n",
    "        vectorize=False)"
   ],
   "execution_count": null,
   "outputs": [
    {
     "output_type": "stream",
     "name": "stderr",
     "text": [
      "/usr/local/lib/python3.7/dist-packages/torch/nn/modules/container.py:139: UserWarning: Implicit dimension choice for softmax has been deprecated. Change the call to include dim=X as an argument.\n",
      "  input = module(input)\n",
      "Stopping after epoch 79. Validation score did not improve by tol=1e-05 for more than 10 epochs. Final error is 6.793539583683014"
     ]
    },
    {
     "output_type": "stream",
     "name": "stdout",
     "text": [
      "Best params: {'hidden_dim': 512}\n",
      "Best score: 0.485\n",
      "Assessment dataset 1\n",
      "              precision    recall  f1-score   support\n",
      "\n",
      "    negative      0.609     0.743     0.669       428\n",
      "     neutral      0.476     0.044     0.080       229\n",
      "    positive      0.625     0.786     0.697       444\n",
      "\n",
      "    accuracy                          0.615      1101\n",
      "   macro avg      0.570     0.524     0.482      1101\n",
      "weighted avg      0.588     0.615     0.558      1101\n",
      "\n",
      "Assessment dataset 2\n",
      "              precision    recall  f1-score   support\n",
      "\n",
      "    negative      0.291     0.821     0.430       565\n",
      "     neutral      0.727     0.016     0.031      1019\n",
      "    positive      0.466     0.447     0.456       777\n",
      "\n",
      "    accuracy                          0.350      2361\n",
      "   macro avg      0.495     0.428     0.306      2361\n",
      "weighted avg      0.537     0.350     0.266      2361\n",
      "\n",
      "Mean of macro-F1 scores: 0.394\n"
     ]
    }
   ]
  },
  {
   "cell_type": "markdown",
   "metadata": {
    "id": "3NaBa9ITRVfW"
   },
   "source": [
    "Not that great results when we optimize Simple NN with GloVe embeddings "
   ]
  },
  {
   "cell_type": "markdown",
   "metadata": {
    "id": "DehwZWKrTaWf"
   },
   "source": [
    "##### 3.6 Avg'd Internal Embedding"
   ]
  },
  {
   "cell_type": "code",
   "metadata": {
    "id": "71NzQ5wMTgj6"
   },
   "source": [
    "# Using the RNN module, we try combining the input embeddings in the model itself\n",
    "if 'IS_GRADESCOPE_ENV' not in os.environ:\n",
    "    class TorchVecAvgCustomModel(nn.Module):\n",
    "        def __init__(self, vocab_size, output_dim, device, embed_dim, hidden_dim,\n",
    "                    activation):\n",
    "            super().__init__()\n",
    "            self.vocab_size = vocab_size\n",
    "            self.embed_dim = embed_dim\n",
    "            self.output_dim = output_dim\n",
    "            self.hidden_dim = hidden_dim\n",
    "\n",
    "            self.device = device\n",
    "\n",
    "            self.embedding = nn.Embedding(self.vocab_size, self.embed_dim)\n",
    "            self.linear1 = nn.Linear(self.embed_dim, self.hidden_dim)\n",
    "            self.activation = activation\n",
    "            self.dropout = nn.Dropout(p=0.5)\n",
    "            self.classifier_layer = nn.Linear(self.hidden_dim, self.output_dim)\n",
    "            self.softmax = nn.Softmax()\n",
    "\n",
    "        def forward(self, X, seq_lengths):\n",
    "            embs = self.embedding(X)\n",
    "            # Mask based on the **true** lengths:\n",
    "            mask = [torch.ones(l, self.embed_dim) for l in seq_lengths]\n",
    "            mask = torch.nn.utils.rnn.pad_sequence(mask, batch_first=True)\n",
    "            mask = mask.to(self.device)\n",
    "\n",
    "            # True average:\n",
    "            mu = (embs * mask).sum(axis=1) / seq_lengths.unsqueeze(1)\n",
    "\n",
    "            mu = self.linear1(mu)\n",
    "            mu = self.activation(mu)\n",
    "            mu = self.dropout(mu)\n",
    "            mu = self.classifier_layer(mu)\n",
    "            mu = self.softmax(mu)\n",
    "\n",
    "            return mu\n",
    "\n",
    "    class TorchVecAvgCustomClassifier(TorchRNNClassifier):\n",
    "        def build_graph(self):\n",
    "            return TorchVecAvgCustomModel(\n",
    "                vocab_size=len(self.vocab),\n",
    "                output_dim=self.n_classes_,\n",
    "                device=self.device,\n",
    "                embed_dim=self.embed_dim,\n",
    "                hidden_dim=self.hidden_dim,\n",
    "                activation=self.classifier_activation)\n",
    "            \n",
    "    def fit_vecavg_custom_with_hyperparameter_search(X, y):\n",
    "        sst_train_vocab = utils.get_vocab(X, mincount=2)\n",
    "\n",
    "        basemod = TorchVecAvgCustomClassifier(\n",
    "            sst_train_vocab,\n",
    "            early_stopping=True)\n",
    "\n",
    "        param_grid = {\n",
    "            'hidden_dim': [50],\n",
    "            'embed_dim': [256],\n",
    "            'eta': [0.01]}\n",
    "\n",
    "        bestmod = utils.fit_classifier_with_hyperparameter_search(\n",
    "            X, y, basemod, cv=3, param_grid=param_grid)\n",
    "\n",
    "        return bestmod"
   ],
   "execution_count": null,
   "outputs": []
  },
  {
   "cell_type": "code",
   "metadata": {
    "colab": {
     "base_uri": "https://localhost:8080/"
    },
    "id": "pzNWi1gdiSgo",
    "executionInfo": {
     "status": "ok",
     "timestamp": 1631396926096,
     "user_tz": -330,
     "elapsed": 60053,
     "user": {
      "displayName": "Shubham Chowdhary",
      "photoUrl": "https://lh3.googleusercontent.com/a-/AOh14GgFkFw1pKwpL_S-zFEuR17zOZk_I_CGJ-d72aCpmg=s64",
      "userId": "09510905510812321280"
     }
    },
    "outputId": "4ec9dd0c-55e7-45e8-fd77-7a242409106a"
   },
   "source": [
    "if 'IS_GRADESCOPE_ENV' not in os.environ:\n",
    "    %%time\n",
    "    vecavg_custom_opt_tweet_token_phi_experiment = sst.experiment(\n",
    "        sst_train,\n",
    "        tweet_token_phi,\n",
    "        fit_vecavg_custom_with_hyperparameter_search,\n",
    "        assess_dataframes=[sst_dev, bakeoff_dev],\n",
    "        vectorize=False)"
   ],
   "execution_count": null,
   "outputs": [
    {
     "output_type": "stream",
     "name": "stdout",
     "text": [
      "CPU times: user 2 µs, sys: 1e+03 ns, total: 3 µs\n",
      "Wall time: 5.25 µs\n"
     ]
    },
    {
     "output_type": "stream",
     "name": "stderr",
     "text": [
      "/usr/local/lib/python3.7/dist-packages/ipykernel_launcher.py:35: UserWarning: Implicit dimension choice for softmax has been deprecated. Change the call to include dim=X as an argument.\n",
      "Stopping after epoch 23. Validation score did not improve by tol=1e-05 for more than 10 epochs. Final error is 4.9570775628089905"
     ]
    },
    {
     "output_type": "stream",
     "name": "stdout",
     "text": [
      "Best params: {'embed_dim': 256, 'eta': 0.01, 'hidden_dim': 50}\n",
      "Best score: 0.520\n",
      "Assessment dataset 1\n",
      "              precision    recall  f1-score   support\n",
      "\n",
      "    negative      0.660     0.675     0.667       428\n",
      "     neutral      0.250     0.236     0.243       229\n",
      "    positive      0.669     0.673     0.671       444\n",
      "\n",
      "    accuracy                          0.583      1101\n",
      "   macro avg      0.526     0.528     0.527      1101\n",
      "weighted avg      0.578     0.583     0.581      1101\n",
      "\n",
      "Assessment dataset 2\n",
      "              precision    recall  f1-score   support\n",
      "\n",
      "    negative      0.310     0.644     0.418       565\n",
      "     neutral      0.458     0.285     0.351      1019\n",
      "    positive      0.471     0.335     0.391       777\n",
      "\n",
      "    accuracy                          0.387      2361\n",
      "   macro avg      0.413     0.421     0.387      2361\n",
      "weighted avg      0.427     0.387     0.380      2361\n",
      "\n",
      "Mean of macro-F1 scores: 0.457\n"
     ]
    }
   ]
  },
  {
   "cell_type": "markdown",
   "metadata": {
    "id": "-RqOKCxulxZT"
   },
   "source": [
    "The scores are good.\n",
    "\n",
    "**_SST dev score: 0.540_** (at 0.01 eta, hidden_dim 100, embed_dim 128), 0.532 (at 0.01 eta, hidden_dim 50, embed_dim 256). Both are really close. Checked this across (0.001, 0.01, 0.05 eta) X (50, 100, 200 hidden_dim) X (128, 256, 512 embed_dim)"
   ]
  },
  {
   "cell_type": "markdown",
   "metadata": {
    "id": "HSprTVYrxJUA"
   },
   "source": [
    "##### 3.7 RNN"
   ]
  },
  {
   "cell_type": "code",
   "metadata": {
    "id": "i_MZniTExW19"
   },
   "source": [
    "if 'IS_GRADESCOPE_ENV' not in os.environ:\n",
    "\n",
    "    def fit_rnn_with_hyperparameter_search(X, y):\n",
    "        sst_train_vocab = utils.get_vocab(X, mincount=2)\n",
    "        glove_embedding, sst_glove_vocab = utils.create_pretrained_embedding(\n",
    "            glove_lookup, sst_train_vocab)\n",
    "    \n",
    "        basemod = TorchRNNClassifier(\n",
    "            sst_train_vocab,\n",
    "            embedding=glove_embedding,\n",
    "            batch_size=25,  # Inspired by comments in the paper.\n",
    "            bidirectional=True,\n",
    "            early_stopping=True)\n",
    "\n",
    "        param_grid = {\n",
    "            'embed_dim': [50, 75, 100],\n",
    "            'hidden_dim': [50, 75, 100],\n",
    "            'eta': [0.001, 0.01]}\n",
    "\n",
    "        bestmod = utils.fit_classifier_with_hyperparameter_search(\n",
    "            X, y, basemod, cv=3, param_grid=param_grid)\n",
    "\n",
    "        return bestmod\n",
    "\n",
    "    def fit_rnn_with_hyperparameter_search_2(X, y):\n",
    "        sst_train_vocab = utils.get_vocab(X, mincount=2)\n",
    "        custom_vsm_embedding, sst_custom_vsm_vocab = utils.create_pretrained_embedding(\n",
    "            custom_vsm_lookup, sst_train_vocab)\n",
    "    \n",
    "        basemod = TorchRNNClassifier(\n",
    "            sst_train_vocab,\n",
    "            embedding=custom_vsm_embedding,\n",
    "            batch_size=25,  # Inspired by comments in the paper.\n",
    "            bidirectional=True,\n",
    "            early_stopping=True)\n",
    "\n",
    "        param_grid = {\n",
    "            'embed_dim': [50, 75, 100],\n",
    "            'hidden_dim': [50, 75, 100],\n",
    "            'eta': [0.001, 0.01]}\n",
    "\n",
    "        bestmod = utils.fit_classifier_with_hyperparameter_search(\n",
    "            X, y, basemod, cv=3, param_grid=param_grid)\n",
    "\n",
    "        return bestmod"
   ],
   "execution_count": null,
   "outputs": []
  },
  {
   "cell_type": "code",
   "metadata": {
    "colab": {
     "base_uri": "https://localhost:8080/"
    },
    "id": "uEv3yklA19Tw",
    "executionInfo": {
     "status": "ok",
     "timestamp": 1631399048398,
     "user_tz": -330,
     "elapsed": 1623966,
     "user": {
      "displayName": "Shubham Chowdhary",
      "photoUrl": "https://lh3.googleusercontent.com/a-/AOh14GgFkFw1pKwpL_S-zFEuR17zOZk_I_CGJ-d72aCpmg=s64",
      "userId": "09510905510812321280"
     }
    },
    "outputId": "5d04991e-4fcd-4c4c-be52-36240b844db1"
   },
   "source": [
    "if 'IS_GRADESCOPE_ENV' not in os.environ:\n",
    "    %%time\n",
    "    rnn_opt_glv_tweet_token_phi_experiment = sst.experiment(\n",
    "        sst_train,\n",
    "        tweet_token_phi,\n",
    "        fit_rnn_with_hyperparameter_search,\n",
    "        assess_dataframes=[sst_dev, bakeoff_dev],\n",
    "        vectorize=False)"
   ],
   "execution_count": null,
   "outputs": [
    {
     "output_type": "stream",
     "name": "stdout",
     "text": [
      "CPU times: user 3 µs, sys: 0 ns, total: 3 µs\n",
      "Wall time: 5.72 µs\n"
     ]
    },
    {
     "output_type": "stream",
     "name": "stderr",
     "text": [
      "Stopping after epoch 21. Validation score did not improve by tol=1e-05 for more than 10 epochs. Final error is 1.7301383992622732"
     ]
    },
    {
     "output_type": "stream",
     "name": "stdout",
     "text": [
      "Best params: {'embed_dim': 100, 'eta': 0.001, 'hidden_dim': 100}\n",
      "Best score: 0.557\n",
      "Assessment dataset 1\n",
      "              precision    recall  f1-score   support\n",
      "\n",
      "    negative      0.694     0.640     0.666       428\n",
      "     neutral      0.333     0.314     0.324       229\n",
      "    positive      0.665     0.734     0.698       444\n",
      "\n",
      "    accuracy                          0.610      1101\n",
      "   macro avg      0.564     0.563     0.563      1101\n",
      "weighted avg      0.607     0.610     0.608      1101\n",
      "\n",
      "Assessment dataset 2\n",
      "              precision    recall  f1-score   support\n",
      "\n",
      "    negative      0.326     0.639     0.431       565\n",
      "     neutral      0.486     0.324     0.389      1019\n",
      "    positive      0.539     0.398     0.458       777\n",
      "\n",
      "    accuracy                          0.424      2361\n",
      "   macro avg      0.450     0.453     0.426      2361\n",
      "weighted avg      0.465     0.424     0.422      2361\n",
      "\n",
      "Mean of macro-F1 scores: 0.494\n"
     ]
    }
   ]
  },
  {
   "cell_type": "markdown",
   "metadata": {
    "id": "ZzroipG3DRls"
   },
   "source": [
    "Good improvement. \n",
    "**_SST dev score: 0.563_** (embed_dim 100, eta 0.001, hidden_dim: 100)"
   ]
  },
  {
   "cell_type": "code",
   "metadata": {
    "colab": {
     "base_uri": "https://localhost:8080/"
    },
    "id": "4sjbtUaeC4Y3",
    "executionInfo": {
     "status": "ok",
     "timestamp": 1631403983958,
     "user_tz": -330,
     "elapsed": 2799737,
     "user": {
      "displayName": "Shubham Chowdhary",
      "photoUrl": "https://lh3.googleusercontent.com/a-/AOh14GgFkFw1pKwpL_S-zFEuR17zOZk_I_CGJ-d72aCpmg=s64",
      "userId": "09510905510812321280"
     }
    },
    "outputId": "18f27f67-c852-4e79-9902-f9e391243d58"
   },
   "source": [
    "# trying a lookup with by word relatedness submission\n",
    "if 'IS_GRADESCOPE_ENV' not in os.environ:\n",
    "    %%time\n",
    "    rnn_opt_custom_vsm_tweet_token_phi_experiment = sst.experiment(\n",
    "        sst_train,\n",
    "        tweet_token_phi,\n",
    "        fit_rnn_with_hyperparameter_search_2,\n",
    "        assess_dataframes=[sst_dev, bakeoff_dev],\n",
    "        vectorize=False)"
   ],
   "execution_count": null,
   "outputs": [
    {
     "output_type": "stream",
     "name": "stdout",
     "text": [
      "CPU times: user 3 µs, sys: 0 ns, total: 3 µs\n",
      "Wall time: 8.58 µs\n"
     ]
    },
    {
     "output_type": "stream",
     "name": "stderr",
     "text": [
      "Stopping after epoch 32. Validation score did not improve by tol=1e-05 for more than 10 epochs. Final error is 0.2574434790246869"
     ]
    },
    {
     "output_type": "stream",
     "name": "stdout",
     "text": [
      "Best params: {'embed_dim': 50, 'eta': 0.001, 'hidden_dim': 50}\n",
      "Best score: 0.524\n",
      "Assessment dataset 1\n",
      "              precision    recall  f1-score   support\n",
      "\n",
      "    negative      0.629     0.645     0.637       428\n",
      "     neutral      0.240     0.231     0.236       229\n",
      "    positive      0.673     0.669     0.671       444\n",
      "\n",
      "    accuracy                          0.569      1101\n",
      "   macro avg      0.514     0.515     0.514      1101\n",
      "weighted avg      0.566     0.569     0.567      1101\n",
      "\n",
      "Assessment dataset 2\n",
      "              precision    recall  f1-score   support\n",
      "\n",
      "    negative      0.304     0.584     0.400       565\n",
      "     neutral      0.457     0.311     0.370      1019\n",
      "    positive      0.503     0.376     0.430       777\n",
      "\n",
      "    accuracy                          0.398      2361\n",
      "   macro avg      0.421     0.424     0.400      2361\n",
      "weighted avg      0.435     0.398     0.397      2361\n",
      "\n",
      "Mean of macro-F1 scores: 0.457\n"
     ]
    }
   ]
  },
  {
   "cell_type": "markdown",
   "metadata": {
    "id": "_vol_91F91l9"
   },
   "source": [
    "Great, **_but not as great as the glove embeddings_**"
   ]
  },
  {
   "cell_type": "markdown",
   "metadata": {
    "id": "oALx51xjFrYm"
   },
   "source": [
    "#### 4. Building and combining the best models so far\n",
    "\n",
    "**_Since BERT is already very promising and costly to operate on, we will work on its representations and full datasets right from the start with an aim to achieve the best model so far._** In this process we will try to produce reusable objects for other top-performing models above.\n"
   ]
  },
  {
   "cell_type": "markdown",
   "metadata": {
    "id": "_W575sEC0WhT"
   },
   "source": [
    "##### 4.1 Dumping reusable weights for faster model training/convergence\n",
    "\n",
    "In the below commented code, we try to optimize our workflow. **_We basically \n",
    "try to find the bert static representations for all the sentences in all the\n",
    "datasets, and then we dump them into a persistent disk. This way we will we able\n",
    "to reuse these embeddings without having to wait for the bert model to spit the\n",
    "same embeddings out again and again._**\n",
    "\n",
    "Only post this work we realize that we could have kept the full representation of sentences instead of just their means (for RNN models). **_If time permits (this process takes approximately 4Hs), we will also dump full sequence of representations and use them in our optimized RNN model above._**"
   ]
  },
  {
   "cell_type": "code",
   "metadata": {
    "id": "esLxA7woGPZ8"
   },
   "source": [
    "# if 'IS_GRADESCOPE_ENV' not in os.environ:\n",
    "#     sst_full_train = sst.train_reader(SST_HOME, include_subtrees=True)\n",
    "#     # we should have already loaded the training dynasent dataset by now \n",
    "#     # (dsent_train)\n",
    "#     # Our complete text dataset is [sst_full_train, dsent_train]\n",
    "#     # It is a very big dataset, and hence every computation from now on is \n",
    "#     # costly\n",
    "\n",
    "#     from transformers import BertModel, BertTokenizer\n",
    "#     import vsm\n",
    "\n",
    "#     bert_weights_name = 'bert-base-uncased'\n",
    "#     bert_tokenizer = BertTokenizer.from_pretrained(bert_weights_name)\n",
    "#     bert_model = BertModel.from_pretrained(bert_weights_name)\n",
    "\n",
    "#     train_text_bert_repr = {}\n",
    "#     global ctr\n",
    "#     ctr = 0\n",
    "\n",
    "#     def hf_bert_phi(text):\n",
    "#         text_bert_ids = vsm.hf_encode(text, bert_tokenizer, \n",
    "#                                     add_special_tokens=True)\n",
    "\n",
    "#         text_bert_reps = vsm.hf_represent(text_bert_ids, bert_model, layer=-1)\n",
    "\n",
    "#         # Index into `reps` to get the representation above [CLS].\n",
    "#         # The shape of `reps` should be (1, n, 768), where n is the\n",
    "#         # number of tokens. You need the 0th element of the 2nd dim:\n",
    "#         \n",
    "#         REMOVE THE BELOW LINE FOR UN-AVERAGED REPRESENTATION\n",
    "#         text_aggr_bert_rep = torch.mean(text_bert_reps[0], dim=0)\n",
    "\n",
    "#         # These conversions should ensure that you can work with the\n",
    "#         # representations flexibly. Feel free to change the variable\n",
    "#         # name:\n",
    "#         global ctr\n",
    "#         if ctr%100 == 0:\n",
    "#             print(\"Done for ctr \", ctr)\n",
    "#         ctr+=1\n",
    "#           \n",
    "#         THIS IS FULL REPRESENTATION\n",
    "#         text_bert_reps[0].cpu().numpy()\n",
    "\n",
    "#         return text_aggr_bert_rep.cpu().numpy()\n"
   ],
   "execution_count": null,
   "outputs": []
  },
  {
   "cell_type": "code",
   "metadata": {
    "id": "DOjMdzZgo3p_",
    "executionInfo": {
     "status": "ok",
     "timestamp": 1631438757287,
     "user_tz": -330,
     "elapsed": 409,
     "user": {
      "displayName": "Shubham Chowdhary",
      "photoUrl": "https://lh3.googleusercontent.com/a-/AOh14GgFkFw1pKwpL_S-zFEuR17zOZk_I_CGJ-d72aCpmg=s64",
      "userId": "09510905510812321280"
     }
    }
   },
   "source": [
    "# Load all the datasets so that their representations can be found once and for all\n",
    "# NOTE: WE HAVEN'T USED TEST DATASETS ANYWHERE FOR ANY INFERENCES/TRAINING\n",
    "# The following steps just saves time during the training/predicting.\n",
    "\n",
    "# if 'IS_GRADESCOPE_ENV' not in os.environ:\n",
    "#     sst_full_dedup_train = sst.train_reader(SST_HOME, include_subtrees=True,\n",
    "#                                             dedup=True)\n",
    "#     sst_dev = sst.dev_reader(SST_HOME)\n",
    "#     sst_test = sst.test_reader(SST_HOME)\n",
    "#     bakeoff_dev = sst.bakeoff_dev_reader(SST_HOME)\n",
    "#     bakeoff_test = sst.bakeoff_test_reader(SST_HOME)\n",
    "#     # there is dsent_train already laoded"
   ],
   "execution_count": 50,
   "outputs": []
  },
  {
   "cell_type": "code",
   "metadata": {
    "id": "sVDTZ0g2Nkj6",
    "executionInfo": {
     "status": "ok",
     "timestamp": 1631447674450,
     "user_tz": -330,
     "elapsed": 414,
     "user": {
      "displayName": "Shubham Chowdhary",
      "photoUrl": "https://lh3.googleusercontent.com/a-/AOh14GgFkFw1pKwpL_S-zFEuR17zOZk_I_CGJ-d72aCpmg=s64",
      "userId": "09510905510812321280"
     }
    }
   },
   "source": [
    "# Finding all the mean'd BERT representatiosn we know of for all text in any\n",
    "# dataset we use\n",
    "\n",
    "# if 'IS_GRADESCOPE_ENV' not in os.environ:\n",
    "#     # total_dataset = [sst_full_train, dsent_train, sst_dev, sst_test, bakeoff_dev, bakeoff_test]\n",
    "\n",
    "#     full_text_bert_repr = {}\n",
    "\n",
    "#     dsent_train_text_bert_repr = {dsent_train.loc[ind, \"sentence\"]: hf_bert_phi(dsent_train.loc[ind, \"sentence\"]) for ind in dsent_train.index}\n",
    "#     full_text_bert_repr = {**full_text_bert_repr, **dsent_train_text_bert_repr}\n",
    "\n",
    "#     sst_dev_text_bert_repr = {sst_dev.loc[ind, \"sentence\"]: hf_bert_phi(sst_dev.loc[ind, \"sentence\"]) for ind in sst_dev.index}\n",
    "#     full_text_bert_repr = {**full_text_bert_repr, **sst_dev_text_bert_repr}\n",
    "\n",
    "#     sst_test_text_bert_repr = {sst_test.loc[ind, \"sentence\"]: hf_bert_phi(sst_test.loc[ind, \"sentence\"]) for ind in sst_test.index}\n",
    "#     full_text_bert_repr = {**full_text_bert_repr, **sst_test_text_bert_repr}\n",
    "\n",
    "#     bakeoff_dev_text_bert_repr = {bakeoff_dev.loc[ind, \"sentence\"]: hf_bert_phi(bakeoff_dev.loc[ind, \"sentence\"]) for ind in bakeoff_dev.index}\n",
    "#     full_text_bert_repr = {**full_text_bert_repr, **bakeoff_dev_text_bert_repr}\n",
    "\n",
    "#     bakeoff_test_text_bert_repr = {bakeoff_test.loc[ind, \"sentence\"]: hf_bert_phi(bakeoff_test.loc[ind, \"sentence\"]) for ind in bakeoff_test.index}\n",
    "#     full_text_bert_repr = {**full_text_bert_repr, **bakeoff_test_text_bert_repr}\n",
    "\n",
    "#     full_text_bert_repr = {**full_text_bert_repr, **train_text_bert_repr}"
   ],
   "execution_count": 74,
   "outputs": []
  },
  {
   "cell_type": "code",
   "metadata": {
    "id": "XjrsXXLomRb6",
    "executionInfo": {
     "status": "ok",
     "timestamp": 1631490986858,
     "user_tz": -330,
     "elapsed": 391,
     "user": {
      "displayName": "Shubham Chowdhary",
      "photoUrl": "https://lh3.googleusercontent.com/a-/AOh14GgFkFw1pKwpL_S-zFEuR17zOZk_I_CGJ-d72aCpmg=s64",
      "userId": "09510905510812321280"
     }
    }
   },
   "source": [
    "if 'IS_GRADESCOPE_ENV' not in os.environ:\n",
    "    import pickle\n",
    "\n",
    "    def save_obj(obj, name):\n",
    "        with open(SST_HOME + '/' + name + '.pkl', 'wb') as f:\n",
    "            pickle.dump(obj, f, pickle.HIGHEST_PROTOCOL)\n",
    "\n",
    "    def load_obj(name):\n",
    "        with open(SST_HOME + '/' + name + '.pkl', 'rb') as f:\n",
    "            return pickle.load(f)"
   ],
   "execution_count": 125,
   "outputs": []
  },
  {
   "cell_type": "code",
   "metadata": {
    "id": "fz_iR86rng64",
    "executionInfo": {
     "status": "ok",
     "timestamp": 1631445914258,
     "user_tz": -330,
     "elapsed": 2351,
     "user": {
      "displayName": "Shubham Chowdhary",
      "photoUrl": "https://lh3.googleusercontent.com/a-/AOh14GgFkFw1pKwpL_S-zFEuR17zOZk_I_CGJ-d72aCpmg=s64",
      "userId": "09510905510812321280"
     }
    }
   },
   "source": [
    "# Dumping all the mean'd BERT representatiosn we know of for all text in any\n",
    "# dataset we use\n",
    "\n",
    "# if 'IS_GRADESCOPE_ENV' not in os.environ:\n",
    "#     # sst_full_train bert repr is also saved in a stray cell and then deleted \n",
    "#     # This was done to check memory requirements\n",
    "#     save_obj(train_text_bert_repr, \"sst_full_train_text_bert_repr\")\n",
    "#     save_obj(dsent_train_text_bert_repr, \"dsent_train_text_bert_repr\")\n",
    "#     save_obj(sst_dev_text_bert_repr, \"sst_dev_text_bert_repr\")\n",
    "#     save_obj(sst_test_text_bert_repr, \"sst_test_text_bert_repr\")\n",
    "#     save_obj(bakeoff_dev_text_bert_repr, \"bakeoff_dev_text_bert_repr\")\n",
    "#     save_obj(bakeoff_test_text_bert_repr, \"bakeoff_test_text_bert_repr\")\n",
    "#     save_obj(full_text_bert_repr, \"full_text_bert_repr\")"
   ],
   "execution_count": 52,
   "outputs": []
  },
  {
   "cell_type": "code",
   "metadata": {
    "id": "l8AQgJ2IwTVm",
    "executionInfo": {
     "status": "ok",
     "timestamp": 1631447590988,
     "user_tz": -330,
     "elapsed": 4411,
     "user": {
      "displayName": "Shubham Chowdhary",
      "photoUrl": "https://lh3.googleusercontent.com/a-/AOh14GgFkFw1pKwpL_S-zFEuR17zOZk_I_CGJ-d72aCpmg=s64",
      "userId": "09510905510812321280"
     }
    }
   },
   "source": [
    "# if 'IS_GRADESCOPE_ENV' not in os.environ:\n",
    "#     testing load functions\n",
    "#     test_bakeoff_dev_text_bert_repr = load_obj('bakeoff_dev_text_bert_repr')\n",
    "#     sst_full_train_text_bert_repr = load_obj('sst_full_train_text_bert_repr')"
   ],
   "execution_count": 68,
   "outputs": []
  },
  {
   "cell_type": "code",
   "metadata": {
    "id": "K1OGurlJ12SN",
    "executionInfo": {
     "status": "ok",
     "timestamp": 1631447659274,
     "user_tz": -330,
     "elapsed": 411,
     "user": {
      "displayName": "Shubham Chowdhary",
      "photoUrl": "https://lh3.googleusercontent.com/a-/AOh14GgFkFw1pKwpL_S-zFEuR17zOZk_I_CGJ-d72aCpmg=s64",
      "userId": "09510905510812321280"
     }
    }
   },
   "source": [
    "# if 'IS_GRADESCOPE_ENV' not in os.environ:\n",
    "#     print(len(bakeoff_dev_text_bert_repr)) \n",
    "#     print(len(test_bakeoff_dev_text_bert_repr))\n",
    "#     del test_bakeoff_dev_text_bert_repr\n",
    "#     print(sst_full_train_text_bert_repr[\"cold\"])"
   ],
   "execution_count": 73,
   "outputs": []
  },
  {
   "cell_type": "markdown",
   "metadata": {
    "id": "tzG05UJj3UtG"
   },
   "source": [
    "As we can see this method allowed us 2 things:\n",
    "1. A lot of static word representations from BERT\n",
    "2. A lot of phrase/full sentence/text mean'd representations from BERT"
   ]
  },
  {
   "cell_type": "markdown",
   "metadata": {
    "id": "qLhIahw1XhIb"
   },
   "source": [
    "**_Bert Contextual Word Representation for all the dataset (7 hours, 10 GBs generated)_**\n",
    "\n",
    "Using the similar methods above (except averaging the representations), we encoded the entire available dataset for quick work on RNN + contextual BERT"
   ]
  },
  {
   "cell_type": "markdown",
   "metadata": {
    "id": "ef7Hmtte3upg"
   },
   "source": [
    "##### 4.2 Tweaked BERT finetuning (Chosen)"
   ]
  },
  {
   "cell_type": "code",
   "metadata": {
    "id": "LPShFTHY9ct0",
    "executionInfo": {
     "status": "ok",
     "timestamp": 1631461311109,
     "user_tz": -330,
     "elapsed": 33216,
     "user": {
      "displayName": "Shubham Chowdhary",
      "photoUrl": "https://lh3.googleusercontent.com/a-/AOh14GgFkFw1pKwpL_S-zFEuR17zOZk_I_CGJ-d72aCpmg=s64",
      "userId": "09510905510812321280"
     }
    }
   },
   "source": [
    "if 'IS_GRADESCOPE_ENV' not in os.environ:\n",
    "    sst_full_dedup_train = sst.train_reader(SST_HOME, include_subtrees=True,\n",
    "                                            dedup=True)"
   ],
   "execution_count": 20,
   "outputs": []
  },
  {
   "cell_type": "code",
   "metadata": {
    "id": "juzYfvNh31Uw",
    "executionInfo": {
     "status": "ok",
     "timestamp": 1631495524378,
     "user_tz": -330,
     "elapsed": 402,
     "user": {
      "displayName": "Shubham Chowdhary",
      "photoUrl": "https://lh3.googleusercontent.com/a-/AOh14GgFkFw1pKwpL_S-zFEuR17zOZk_I_CGJ-d72aCpmg=s64",
      "userId": "09510905510812321280"
     }
    }
   },
   "source": [
    "if 'IS_GRADESCOPE_ENV' not in os.environ:\n",
    "\n",
    "    from torch_shallow_neural_classifier import TorchShallowNeuralClassifier\n",
    "    from transformers import BertModel, BertTokenizer\n",
    "    import torch\n",
    "\n",
    "    class BertCustomClassifierModel(nn.Module):\n",
    "        def __init__(self, n_classes, weights_name='bert-base-cased'):\n",
    "            super().__init__()\n",
    "            self.n_classes = n_classes\n",
    "            self.weights_name = weights_name\n",
    "            self.bert = BertModel.from_pretrained(self.weights_name)\n",
    "            self.bert.train()\n",
    "            self.hidden_dim = self.bert.embeddings.word_embeddings.embedding_dim\n",
    "\n",
    "            self.dropout = nn.Dropout(p=0.5)\n",
    "            self.classifier_layer = nn.Linear(\n",
    "                self.hidden_dim, self.n_classes)\n",
    "\n",
    "        def forward(self, indices, mask):\n",
    "            reps = self.bert(\n",
    "                indices, attention_mask=mask)\n",
    "            hidden_bert_out = reps.pooler_output\n",
    "            out = self.dropout(hidden_bert_out)\n",
    "            out = self.classifier_layer(out)\n",
    "            return out\n",
    "\n",
    "    class BertCustomClassifier(TorchShallowNeuralClassifier):\n",
    "        def __init__(self, weights_name, *args, **kwargs):\n",
    "            self.weights_name = weights_name\n",
    "            self.tokenizer = BertTokenizer.from_pretrained(self.weights_name)\n",
    "            super().__init__(*args, **kwargs)\n",
    "            self.params += ['weights_name']\n",
    "\n",
    "        def build_graph(self):\n",
    "            return BertCustomClassifierModel(self.n_classes_, self.weights_name)\n",
    "\n",
    "        def build_dataset(self, X, y=None):\n",
    "            data = self.tokenizer.batch_encode_plus(\n",
    "                X,\n",
    "                max_length=None,\n",
    "                add_special_tokens=True,\n",
    "                padding='longest',\n",
    "                return_attention_mask=True)\n",
    "            indices = torch.tensor(data['input_ids'])\n",
    "            mask = torch.tensor(data['attention_mask'])\n",
    "            if y is None:\n",
    "                dataset = torch.utils.data.TensorDataset(indices, mask)\n",
    "            else:\n",
    "                self.classes_ = sorted(set(y))\n",
    "                self.n_classes_ = len(self.classes_)\n",
    "                class2index = dict(zip(self.classes_, range(self.n_classes_)))\n",
    "                y = [class2index[label] for label in y]\n",
    "                y = torch.tensor(y)\n",
    "                dataset = torch.utils.data.TensorDataset(indices, mask, y)\n",
    "            return dataset\n",
    "    \n",
    "    def bert_noop_phi(text):\n",
    "        return text\n",
    "\n",
    "    # this search takes more than 4 hrs in a GPU, will directly use a ballpark\n",
    "    # hyperparameter value\n",
    "    \n",
    "    def fit_bert_custom_classifier_with_hyperparam(X, y):\n",
    "        mod = BertCustomClassifier(\n",
    "            weights_name='bert-base-cased',\n",
    "            batch_size=32,\n",
    "            max_iter=4, # will train on 8 more if time permits\n",
    "            n_iter_no_change=5,\n",
    "            early_stopping=True, \n",
    "            gradient_accumulation_steps = 8, \n",
    "            eta = 0.0001,\n",
    "            hidden_dim = 300\n",
    "            )\n",
    "\n",
    "        mod.fit(X, y)\n",
    "        return mod"
   ],
   "execution_count": 161,
   "outputs": []
  },
  {
   "cell_type": "code",
   "metadata": {
    "id": "ymi7sC3u86Q6"
   },
   "source": [
    "# if 'IS_GRADESCOPE_ENV' not in os.environ:\n",
    "#     # TOOK 6 hrs on a GPU\n",
    "#     bert_custom_classifier_with_hyperparam_bert_noop_phi_experiment = sst.experiment(\n",
    "#         [sst_full_dedup_train, dsent_train],\n",
    "#         bert_noop_phi,\n",
    "#         fit_bert_custom_classifier_with_hyperparam,\n",
    "#         assess_dataframes=[sst_dev, bakeoff_dev],\n",
    "#         vectorize=False)"
   ],
   "execution_count": null,
   "outputs": []
  },
  {
   "cell_type": "markdown",
   "metadata": {
    "id": "IBRORm6BsOd8"
   },
   "source": [
    "```\n",
    "Finished epoch 4 of 4; error is 290.63841717178Assessment dataset 1\n",
    "              precision    recall  f1-score   support\n",
    "\n",
    "    negative      0.815     0.792     0.803       428\n",
    "     neutral      0.468     0.384     0.422       229\n",
    "    positive      0.777     0.869     0.820       444\n",
    "\n",
    "    accuracy                          0.738      1101\n",
    "   macro avg      0.687     0.682     0.682      1101\n",
    "weighted avg      0.727     0.738     0.731      1101\n",
    "\n",
    "Assessment dataset 2\n",
    "              precision    recall  f1-score   support\n",
    "\n",
    "    negative      0.734     0.786     0.759       565\n",
    "     neutral      0.812     0.805     0.808      1019\n",
    "    positive      0.816     0.784     0.800       777\n",
    "\n",
    "    accuracy                          0.793      2361\n",
    "   macro avg      0.787     0.791     0.789      2361\n",
    "weighted avg      0.795     0.793     0.794      2361\n",
    "\n",
    "Mean of macro-F1 scores: 0.735\n",
    "```\n",
    "**_The best score in the entire investigation so far_**. The model did not converge yet. If time permits then we will train it further for 8-10 more epochs.\n",
    "\n",
    "**_Dev Score: 0.735_**"
   ]
  },
  {
   "cell_type": "code",
   "metadata": {
    "id": "O5o2Cce4swMH"
   },
   "source": [
    "# if 'IS_GRADESCOPE_ENV' not in os.environ:\n",
    "#     # saving the model at 4 epochs\n",
    "#     torch.save(bert_custom_classifier_with_hyperparam_bert_noop_phi_experiment['model'], \n",
    "#             SST_HOME + '/bert_custom_classifier_with_hyperparam_bert_noop_phi_model')"
   ],
   "execution_count": null,
   "outputs": []
  },
  {
   "cell_type": "markdown",
   "metadata": {
    "id": "aBeSF_m3s9hc"
   },
   "source": []
  },
  {
   "cell_type": "code",
   "metadata": {
    "id": "cSXfIPRns_co",
    "executionInfo": {
     "status": "ok",
     "timestamp": 1631507642362,
     "user_tz": -330,
     "elapsed": 2808,
     "user": {
      "displayName": "Shubham Chowdhary",
      "photoUrl": "https://lh3.googleusercontent.com/a-/AOh14GgFkFw1pKwpL_S-zFEuR17zOZk_I_CGJ-d72aCpmg=s64",
      "userId": "09510905510812321280"
     }
    }
   },
   "source": [
    "# loading the optimal model from persistent disk\n",
    "if 'IS_GRADESCOPE_ENV' not in os.environ:\n",
    "    # 4 epoch trained model\n",
    "    optim_bert_classifier = torch.load(SST_HOME + '/' + 'bert_custom_classifier_with_hyperparam_bert_noop_phi_model')\n",
    "\n",
    "    #create minimalistic experiment model as running the entire experiment takes huge time\n",
    "    optim_bert_classifier_experiment = {'model': optim_bert_classifier, 'phi': bert_noop_phi, 'train_dataset': {'vectorizer': None}}"
   ],
   "execution_count": 199,
   "outputs": []
  },
  {
   "cell_type": "markdown",
   "metadata": {
    "id": "uGRmqyLtXUYN"
   },
   "source": [
    "**_We continued with the bert training for a few more epocs and found that it started overfitting on the train-data (and loosing score on dev-data). _**The findings are as follows:\n"
   ]
  },
  {
   "cell_type": "code",
   "metadata": {
    "id": "GtqpFheCX-K-"
   },
   "source": [
    "if 'IS_GRADESCOPE_ENV' not in os.environ:\n",
    "    def fit_optimized_bert_classifier(X, y):\n",
    "        optim_bert_classifier.max_iter = 8\n",
    "        optim_bert_classifier.fit(X, y)\n",
    "        return optim_bert_classifier"
   ],
   "execution_count": null,
   "outputs": []
  },
  {
   "cell_type": "code",
   "metadata": {
    "id": "MR9kojxOYgMH"
   },
   "source": [
    "if 'IS_GRADESCOPE_ENV' not in os.environ:\n",
    "    optimized_bert_classifier_bert_noop_phi_experiment = sst.experiment(\n",
    "        [sst_full_dedup_train, dsent_train],\n",
    "        bert_noop_phi,\n",
    "        fit_optimized_bert_classifier,\n",
    "        assess_dataframes=[sst_dev, bakeoff_dev],\n",
    "        vectorize=False)"
   ],
   "execution_count": null,
   "outputs": []
  },
  {
   "cell_type": "markdown",
   "metadata": {
    "id": "BCvz18ZgY2rU"
   },
   "source": [
    "```\n",
    "Stopping after epoch 8. Validation score did not improve by tol=1e-05 for more than 5 epochs. Final error is 146.14909865811933Assessment dataset 1\n",
    "              precision    recall  f1-score   support\n",
    "\n",
    "    negative      0.772     0.832     0.801       428\n",
    "     neutral      0.515     0.380     0.437       229\n",
    "    positive      0.800     0.849     0.824       444\n",
    "\n",
    "    accuracy                          0.745      1101\n",
    "   macro avg      0.696     0.687     0.687      1101\n",
    "weighted avg      0.730     0.745     0.735      1101\n",
    "\n",
    "Assessment dataset 2\n",
    "              precision    recall  f1-score   support\n",
    "\n",
    "    negative      0.751     0.749     0.750       565\n",
    "     neutral      0.798     0.784     0.791      1019\n",
    "    positive      0.772     0.792     0.781       777\n",
    "\n",
    "    accuracy                          0.778      2361\n",
    "   macro avg      0.774     0.775     0.774      2361\n",
    "weighted avg      0.778     0.778     0.778      2361\n",
    "\n",
    "Mean of macro-F1 scores: 0.731\n",
    "```\n",
    "\n",
    "Needless to say, **_we continue with the old version of 4-epoch optimized BERT Finetuned model._** That was persisted on the disk too. The entire experiment in this subsection took approx 5 Hrs."
   ]
  },
  {
   "cell_type": "markdown",
   "metadata": {
    "id": "ZTIkXiJIElre"
   },
   "source": [
    "##### 4.3 Bert static text embeddings on an NN (Chosen)"
   ]
  },
  {
   "cell_type": "code",
   "metadata": {
    "id": "8PqUyzWeF6rw",
    "executionInfo": {
     "status": "ok",
     "timestamp": 1631507713768,
     "user_tz": -330,
     "elapsed": 11259,
     "user": {
      "displayName": "Shubham Chowdhary",
      "photoUrl": "https://lh3.googleusercontent.com/a-/AOh14GgFkFw1pKwpL_S-zFEuR17zOZk_I_CGJ-d72aCpmg=s64",
      "userId": "09510905510812321280"
     }
    }
   },
   "source": [
    "if 'IS_GRADESCOPE_ENV' not in os.environ:\n",
    "\n",
    "    class TorchCustomBertBasedSoftmaxClassifier(TorchShallowNeuralClassifier):\n",
    "        def build_graph(self):\n",
    "            return nn.Sequential(\n",
    "                nn.Linear(self.input_dim, self.hidden_dim),\n",
    "                self.hidden_activation,\n",
    "                nn.Dropout(p=0.5),\n",
    "                nn.Linear(self.hidden_dim, self.n_classes_))\n",
    "\n",
    "    def fit_torch_custom_nn_bert_based(X, y):\n",
    "        mod = TorchCustomBertBasedSoftmaxClassifier(early_stopping=True, \n",
    "                                               validation_fraction=0.1,\n",
    "                                               tol=1e-5, n_iter_no_change=10,\n",
    "                                               hidden_dim=256,\n",
    "                                               hidden_activation=nn.ReLU())\n",
    "        \n",
    "        mod.fit(X, y)\n",
    "        return mod\n",
    "\n",
    "    full_text_bert_repr = load_obj('full_text_bert_repr')\n",
    "\n",
    "    def bert_repr_phi(text):\n",
    "        return full_text_bert_repr[text]\n",
    "        \n"
   ],
   "execution_count": 200,
   "outputs": []
  },
  {
   "cell_type": "code",
   "metadata": {
    "colab": {
     "base_uri": "https://localhost:8080/"
    },
    "id": "V1QIMjvlIZku",
    "executionInfo": {
     "status": "ok",
     "timestamp": 1631470034793,
     "user_tz": -330,
     "elapsed": 101062,
     "user": {
      "displayName": "Shubham Chowdhary",
      "photoUrl": "https://lh3.googleusercontent.com/a-/AOh14GgFkFw1pKwpL_S-zFEuR17zOZk_I_CGJ-d72aCpmg=s64",
      "userId": "09510905510812321280"
     }
    },
    "outputId": "a4dc2902-b2fa-4eed-9099-def25259d258"
   },
   "source": [
    "if 'IS_GRADESCOPE_ENV' not in os.environ:   \n",
    "    custom_nn_bert_based_bert_repr_phi_experiment = sst.experiment(\n",
    "        [sst_full_dedup_train, dsent_train],\n",
    "        bert_repr_phi,\n",
    "        fit_torch_custom_nn_bert_based,\n",
    "        assess_dataframes=[sst_dev, bakeoff_dev], \n",
    "        vectorize=False)"
   ],
   "execution_count": 39,
   "outputs": [
    {
     "output_type": "stream",
     "name": "stderr",
     "text": [
      "Stopping after epoch 48. Validation score did not improve by tol=1e-05 for more than 10 epochs. Final error is 119.4610555768013"
     ]
    },
    {
     "output_type": "stream",
     "name": "stdout",
     "text": [
      "Assessment dataset 1\n",
      "              precision    recall  f1-score   support\n",
      "\n",
      "    negative      0.755     0.713     0.733       428\n",
      "     neutral      0.412     0.319     0.360       229\n",
      "    positive      0.717     0.840     0.774       444\n",
      "\n",
      "    accuracy                          0.682      1101\n",
      "   macro avg      0.628     0.624     0.622      1101\n",
      "weighted avg      0.669     0.682     0.672      1101\n",
      "\n",
      "Assessment dataset 2\n",
      "              precision    recall  f1-score   support\n",
      "\n",
      "    negative      0.711     0.611     0.657       565\n",
      "     neutral      0.733     0.810     0.770      1019\n",
      "    positive      0.734     0.709     0.721       777\n",
      "\n",
      "    accuracy                          0.729      2361\n",
      "   macro avg      0.726     0.710     0.716      2361\n",
      "weighted avg      0.728     0.729     0.727      2361\n",
      "\n",
      "Mean of macro-F1 scores: 0.669\n"
     ]
    }
   ]
  },
  {
   "cell_type": "markdown",
   "metadata": {
    "id": "XMjHFdxXJu_0"
   },
   "source": [
    "dev scores are: (0.609, 0.724), avg: 0.667 (hidden_dim: 512)\n",
    "\n",
    "**_dev score: (0.622, 0.716), avg: 0.669 (hidden_dim: 256)_**"
   ]
  },
  {
   "cell_type": "code",
   "metadata": {
    "id": "f5bOCZXefisJ",
    "executionInfo": {
     "status": "ok",
     "timestamp": 1631475328006,
     "user_tz": -330,
     "elapsed": 409,
     "user": {
      "displayName": "Shubham Chowdhary",
      "photoUrl": "https://lh3.googleusercontent.com/a-/AOh14GgFkFw1pKwpL_S-zFEuR17zOZk_I_CGJ-d72aCpmg=s64",
      "userId": "09510905510812321280"
     }
    }
   },
   "source": [
    "if 'IS_GRADESCOPE_ENV' not in os.environ: \n",
    "    # saving the model at hidden_dim -256\n",
    "    torch.save(custom_nn_bert_based_bert_repr_phi_experiment['model'], \n",
    "            SST_HOME + '/custom_nn_bert_based_bert_repr_phi_model')\n",
    "    "
   ],
   "execution_count": 47,
   "outputs": []
  },
  {
   "cell_type": "code",
   "metadata": {
    "id": "a83ihENUcRXC",
    "executionInfo": {
     "status": "ok",
     "timestamp": 1631507923028,
     "user_tz": -330,
     "elapsed": 655,
     "user": {
      "displayName": "Shubham Chowdhary",
      "photoUrl": "https://lh3.googleusercontent.com/a-/AOh14GgFkFw1pKwpL_S-zFEuR17zOZk_I_CGJ-d72aCpmg=s64",
      "userId": "09510905510812321280"
     }
    }
   },
   "source": [
    "# loading the optimal model from persistent disk\n",
    "if 'IS_GRADESCOPE_ENV' not in os.environ:\n",
    "    custom_nn_bert_based_bert_repr_phi_model = torch.load(SST_HOME + '/' + 'custom_nn_bert_based_bert_repr_phi_model')\n",
    "\n",
    "    #create minimalistic experiment model\n",
    "    custom_nn_bert_based_bert_repr_phi_experiment = {'model': custom_nn_bert_based_bert_repr_phi_model, 'phi': bert_repr_phi, 'train_dataset': {'vectorizer': None}}"
   ],
   "execution_count": 201,
   "outputs": []
  },
  {
   "cell_type": "markdown",
   "metadata": {
    "id": "mPsEjWbeJt25"
   },
   "source": [
    "##### 4.4 Static bert in Logistic Regression Model"
   ]
  },
  {
   "cell_type": "code",
   "metadata": {
    "id": "grePyNxsM6hi",
    "executionInfo": {
     "status": "ok",
     "timestamp": 1631475756428,
     "user_tz": -330,
     "elapsed": 428,
     "user": {
      "displayName": "Shubham Chowdhary",
      "photoUrl": "https://lh3.googleusercontent.com/a-/AOh14GgFkFw1pKwpL_S-zFEuR17zOZk_I_CGJ-d72aCpmg=s64",
      "userId": "09510905510812321280"
     }
    }
   },
   "source": [
    "if 'IS_GRADESCOPE_ENV' not in os.environ:\n",
    "\n",
    "    from sklearn.linear_model import LogisticRegression\n",
    "\n",
    "    def fit_logistic_bert_based(X, y):\n",
    "        mod = LogisticRegression(tol=1e-5, C=2, penalty='l2',\n",
    "                                     solver='liblinear')\n",
    "\n",
    "        mod.fit(X, y)   \n",
    "        return mod\n",
    "\n",
    "    def bert_repr_phi(text):\n",
    "        return full_text_bert_repr[text]\n",
    "\n"
   ],
   "execution_count": 49,
   "outputs": []
  },
  {
   "cell_type": "code",
   "metadata": {
    "colab": {
     "base_uri": "https://localhost:8080/"
    },
    "id": "_Uea7NT0ND00",
    "executionInfo": {
     "status": "ok",
     "timestamp": 1631476271097,
     "user_tz": -330,
     "elapsed": 513990,
     "user": {
      "displayName": "Shubham Chowdhary",
      "photoUrl": "https://lh3.googleusercontent.com/a-/AOh14GgFkFw1pKwpL_S-zFEuR17zOZk_I_CGJ-d72aCpmg=s64",
      "userId": "09510905510812321280"
     }
    },
    "outputId": "7dab6a4e-8b56-41e6-daea-80bd151db25e"
   },
   "source": [
    "if 'IS_GRADESCOPE_ENV' not in os.environ:\n",
    "    logistic_bert_based_bert_repr_phi_experiment = sst.experiment(\n",
    "        [sst_full_dedup_train, dsent_train],\n",
    "        bert_repr_phi,\n",
    "        fit_logistic_bert_based,\n",
    "        assess_dataframes=[sst_dev, bakeoff_dev], \n",
    "        vectorize=False)"
   ],
   "execution_count": 50,
   "outputs": [
    {
     "output_type": "stream",
     "name": "stdout",
     "text": [
      "Assessment dataset 1\n",
      "              precision    recall  f1-score   support\n",
      "\n",
      "    negative      0.704     0.706     0.705       428\n",
      "     neutral      0.397     0.262     0.316       229\n",
      "    positive      0.710     0.833     0.767       444\n",
      "\n",
      "    accuracy                          0.665      1101\n",
      "   macro avg      0.604     0.600     0.596      1101\n",
      "weighted avg      0.643     0.665     0.649      1101\n",
      "\n",
      "Assessment dataset 2\n",
      "              precision    recall  f1-score   support\n",
      "\n",
      "    negative      0.675     0.533     0.595       565\n",
      "     neutral      0.697     0.803     0.746      1019\n",
      "    positive      0.718     0.686     0.702       777\n",
      "\n",
      "    accuracy                          0.700      2361\n",
      "   macro avg      0.697     0.674     0.681      2361\n",
      "weighted avg      0.699     0.700     0.696      2361\n",
      "\n",
      "Mean of macro-F1 scores: 0.638\n"
     ]
    }
   ]
  },
  {
   "cell_type": "markdown",
   "metadata": {
    "id": "CNvIpW7MqHxy"
   },
   "source": [
    "**_dev score: (0.596, 0.681), avg: 0.638_** for C=2, penalty=l2, solver=liblinear"
   ]
  },
  {
   "cell_type": "markdown",
   "metadata": {
    "id": "fCD5vmp_PzMO"
   },
   "source": [
    "##### 4.5 Word vocab based bert embedding in an RNN (Chosen)"
   ]
  },
  {
   "cell_type": "code",
   "metadata": {
    "id": "YetMeMskP79v",
    "executionInfo": {
     "status": "ok",
     "timestamp": 1631473610150,
     "user_tz": -330,
     "elapsed": 579,
     "user": {
      "displayName": "Shubham Chowdhary",
      "photoUrl": "https://lh3.googleusercontent.com/a-/AOh14GgFkFw1pKwpL_S-zFEuR17zOZk_I_CGJ-d72aCpmg=s64",
      "userId": "09510905510812321280"
     }
    }
   },
   "source": [
    "if 'IS_GRADESCOPE_ENV' not in os.environ:\n",
    "\n",
    "    def fit_rnn_bert_based(X, y):\n",
    "        train_vocab = utils.get_vocab(X, mincount=2)\n",
    "        bert_embedding, bert_vocab = utils.create_pretrained_embedding(\n",
    "            full_text_bert_repr, train_vocab)\n",
    "    \n",
    "        mod = TorchRNNClassifier(\n",
    "            train_vocab,\n",
    "            embedding=bert_embedding,\n",
    "            batch_size=25,  # Inspired by comments in the paper.\n",
    "            bidirectional=True,\n",
    "            early_stopping=True,\n",
    "            hidden_dim=256,\n",
    "            eta=0.001)\n",
    "\n",
    "        mod.fit(X, y)\n",
    "        return mod"
   ],
   "execution_count": 45,
   "outputs": []
  },
  {
   "cell_type": "code",
   "metadata": {
    "colab": {
     "base_uri": "https://localhost:8080/"
    },
    "id": "oJP78-ebQUpb",
    "executionInfo": {
     "status": "ok",
     "timestamp": 1631474736267,
     "user_tz": -330,
     "elapsed": 1125430,
     "user": {
      "displayName": "Shubham Chowdhary",
      "photoUrl": "https://lh3.googleusercontent.com/a-/AOh14GgFkFw1pKwpL_S-zFEuR17zOZk_I_CGJ-d72aCpmg=s64",
      "userId": "09510905510812321280"
     }
    },
    "outputId": "4e54997b-5d3f-4757-c63e-17e81eb9f900"
   },
   "source": [
    "if 'IS_GRADESCOPE_ENV' not in os.environ:\n",
    "    %%time\n",
    "    rnn_bert_based_tweet_token_phi_experiment = sst.experiment(\n",
    "        [sst_full_dedup_train, dsent_train],\n",
    "        tweet_token_phi,\n",
    "        fit_rnn_bert_based,\n",
    "        assess_dataframes=[sst_dev, bakeoff_dev],\n",
    "        vectorize=False)"
   ],
   "execution_count": 46,
   "outputs": [
    {
     "output_type": "stream",
     "name": "stdout",
     "text": [
      "CPU times: user 3 µs, sys: 0 ns, total: 3 µs\n",
      "Wall time: 7.87 µs\n"
     ]
    },
    {
     "output_type": "stream",
     "name": "stderr",
     "text": [
      "Stopping after epoch 13. Validation score did not improve by tol=1e-05 for more than 10 epochs. Final error is 1380.3236185881542"
     ]
    },
    {
     "output_type": "stream",
     "name": "stdout",
     "text": [
      "Assessment dataset 1\n",
      "              precision    recall  f1-score   support\n",
      "\n",
      "    negative      0.711     0.759     0.734       428\n",
      "     neutral      0.485     0.288     0.362       229\n",
      "    positive      0.722     0.827     0.771       444\n",
      "\n",
      "    accuracy                          0.688      1101\n",
      "   macro avg      0.640     0.625     0.622      1101\n",
      "weighted avg      0.669     0.688     0.672      1101\n",
      "\n",
      "Assessment dataset 2\n",
      "              precision    recall  f1-score   support\n",
      "\n",
      "    negative      0.676     0.660     0.668       565\n",
      "     neutral      0.743     0.737     0.740      1019\n",
      "    positive      0.728     0.748     0.738       777\n",
      "\n",
      "    accuracy                          0.722      2361\n",
      "   macro avg      0.716     0.715     0.715      2361\n",
      "weighted avg      0.722     0.722     0.722      2361\n",
      "\n",
      "Mean of macro-F1 scores: 0.669\n"
     ]
    }
   ]
  },
  {
   "cell_type": "markdown",
   "metadata": {
    "id": "oX8rqX3p9-_8"
   },
   "source": [
    "dev score: (0.623, 0.714), avg: 0.668 (eta 0.01, hidden_dim=100, batch:25)\n",
    "\n",
    "**_dev score: (0.622, 0.715), avg: 0.669 (eta: 0.01, hidden_dim=256, batch:25)*_**"
   ]
  },
  {
   "cell_type": "code",
   "metadata": {
    "id": "JCRO-eGm-Ji3"
   },
   "source": [
    "if 'IS_GRADESCOPE_ENV' not in os.environ:\n",
    "    # saving the model at hidden_dim 256\n",
    "    torch.save(rnn_bert_based_tweet_token_phi_experiment['model'], \n",
    "            SST_HOME + '/rnn_bert_based_tweet_token_phi_model')"
   ],
   "execution_count": null,
   "outputs": []
  },
  {
   "cell_type": "code",
   "metadata": {
    "id": "AW0u47cvc25k",
    "executionInfo": {
     "status": "ok",
     "timestamp": 1631508093901,
     "user_tz": -330,
     "elapsed": 5565,
     "user": {
      "displayName": "Shubham Chowdhary",
      "photoUrl": "https://lh3.googleusercontent.com/a-/AOh14GgFkFw1pKwpL_S-zFEuR17zOZk_I_CGJ-d72aCpmg=s64",
      "userId": "09510905510812321280"
     }
    }
   },
   "source": [
    "# loading the optimal model from persistent disk\n",
    "if 'IS_GRADESCOPE_ENV' not in os.environ:\n",
    "    rnn_bert_based_tweet_token_phi_model = torch.load(SST_HOME + '/' + 'rnn_bert_based_tweet_token_phi_model')\n",
    "\n",
    "    #create minimalistic experiment model\n",
    "    rnn_bert_based_tweet_token_phi_experiment = {'model': rnn_bert_based_tweet_token_phi_model, 'phi': tweet_token_phi, 'train_dataset': {'vectorizer': None}}"
   ],
   "execution_count": 203,
   "outputs": []
  },
  {
   "cell_type": "markdown",
   "metadata": {
    "id": "uxzJdE6_9zk_"
   },
   "source": [
    "##### 4.6 RNN with sequence bert embeddings (Incomplete due to large mem-requirements)"
   ]
  },
  {
   "cell_type": "markdown",
   "metadata": {
    "id": "JfgBSUM9k8UB"
   },
   "source": [
    "**_The following commented code is an attempt to laod a 10GB file in segments to colab, so that relevant bert contextual mappings can be loaded into a finite memory_**"
   ]
  },
  {
   "cell_type": "code",
   "metadata": {
    "id": "bwU7zd0camHa",
    "executionInfo": {
     "status": "ok",
     "timestamp": 1631491508757,
     "user_tz": -330,
     "elapsed": 430,
     "user": {
      "displayName": "Shubham Chowdhary",
      "photoUrl": "https://lh3.googleusercontent.com/a-/AOh14GgFkFw1pKwpL_S-zFEuR17zOZk_I_CGJ-d72aCpmg=s64",
      "userId": "09510905510812321280"
     }
    }
   },
   "source": [
    "# if 'IS_GRADESCOPE_ENV' not in os.environ:\n",
    "#     # !pip3 install pickle5\n",
    "#     import pickle5 as pickle"
   ],
   "execution_count": 131,
   "outputs": []
  },
  {
   "cell_type": "code",
   "metadata": {
    "id": "wD_n-0RXbDhB",
    "executionInfo": {
     "status": "ok",
     "timestamp": 1631493185711,
     "user_tz": -330,
     "elapsed": 390,
     "user": {
      "displayName": "Shubham Chowdhary",
      "photoUrl": "https://lh3.googleusercontent.com/a-/AOh14GgFkFw1pKwpL_S-zFEuR17zOZk_I_CGJ-d72aCpmg=s64",
      "userId": "09510905510812321280"
     }
    }
   },
   "source": [
    "# if 'IS_GRADESCOPE_ENV' not in os.environ:\n",
    "#     del bakeoff_test_text_bert_all_repr\n",
    "#     # Overpours the RAM on Colab. LOADING IT BY USING SEGMENTED FILES\n",
    "    # with open(SST_HOME + '/bakeoff_test_text_bert_all_repr.pkl', \"rb\") as fh:\n",
    "    #     bakeoff_test_text_bert_all_repr = pickle.load(fh)"
   ],
   "execution_count": 151,
   "outputs": []
  },
  {
   "cell_type": "code",
   "metadata": {
    "id": "i1Yet5PMelqv",
    "executionInfo": {
     "status": "ok",
     "timestamp": 1631491772038,
     "user_tz": -330,
     "elapsed": 402,
     "user": {
      "displayName": "Shubham Chowdhary",
      "photoUrl": "https://lh3.googleusercontent.com/a-/AOh14GgFkFw1pKwpL_S-zFEuR17zOZk_I_CGJ-d72aCpmg=s64",
      "userId": "09510905510812321280"
     }
    }
   },
   "source": [
    "# if 'IS_GRADESCOPE_ENV' not in os.environ:\n",
    "#     truncated_sst_train_bert_all_repr = {text: sst_full_dedup_train_text_bert_all_repr[text] for text in sst_train[\"sentence\"].values}\n",
    "#     truncated_dsent_train = dsent_train[:8544]\n",
    "#     truncated_dsent_train_bert_all_repr = {text: dsent_train_text_bert_all_repr[text] for text in truncated_dsent_train[\"sentence\"].values}\n",
    "#     truncated_bakeoff_dev_text_bert_all_repr = {text: bakeoff_dev_text_bert_all_repr[text] for text in bakeoff_dev[\"sentence\"].values}\n",
    "#     truncated_sst_dev_text_bert_all_repr = {text: sst_dev_text_bert_all_repr[text] for text in sst_dev[\"sentence\"].values}\n",
    "#     sst_test = sst.test_reader(SST_HOME)\n",
    "#     truncated_sst_test_text_bert_all_repr = {text: sst_test_text_bert_all_repr[text] for text in sst_test[\"sentence\"].values}\n",
    "#     bakeoff_test = sst.bakeoff_test_reader(SST_HOME)\n",
    "#     truncated_bakeoff_test_text_bert_all_repr = {text: bakeoff_test_text_bert_all_repr[text] for text in bakeoff_test[\"sentence\"].values}"
   ],
   "execution_count": 134,
   "outputs": []
  },
  {
   "cell_type": "code",
   "metadata": {
    "id": "H9fdxyS7jXAG",
    "executionInfo": {
     "status": "ok",
     "timestamp": 1631493081080,
     "user_tz": -330,
     "elapsed": 7575,
     "user": {
      "displayName": "Shubham Chowdhary",
      "photoUrl": "https://lh3.googleusercontent.com/a-/AOh14GgFkFw1pKwpL_S-zFEuR17zOZk_I_CGJ-d72aCpmg=s64",
      "userId": "09510905510812321280"
     }
    }
   },
   "source": [
    "# truncated_full_text_bert_all_repr = {}\n",
    "# truncated_full_text_bert_all_repr = {**truncated_full_text_bert_all_repr, **truncated_sst_train_bert_all_repr, **truncated_sst_test_text_bert_all_repr, **truncated_sst_dev_text_bert_all_repr, **truncated_bakeoff_dev_text_bert_all_repr, **truncated_bakeoff_test_text_bert_all_repr, **truncated_dsent_train_bert_all_repr}\n",
    "# save_obj(truncated_full_text_bert_all_repr, 'truncated_full_text_bert_all_repr')"
   ],
   "execution_count": 149,
   "outputs": []
  },
  {
   "cell_type": "code",
   "metadata": {
    "id": "K5lImfqq960J",
    "executionInfo": {
     "status": "ok",
     "timestamp": 1631493507146,
     "user_tz": -330,
     "elapsed": 2370,
     "user": {
      "displayName": "Shubham Chowdhary",
      "photoUrl": "https://lh3.googleusercontent.com/a-/AOh14GgFkFw1pKwpL_S-zFEuR17zOZk_I_CGJ-d72aCpmg=s64",
      "userId": "09510905510812321280"
     }
    }
   },
   "source": [
    "if 'IS_GRADESCOPE_ENV' not in os.environ:\n",
    "    truncated_full_text_bert_all_repr = load_obj('truncated_full_text_bert_all_repr')\n",
    "\n",
    "    def bert_all_phi(text):\n",
    "        truncated_full_text_bert_all_repr[text]\n",
    "\n",
    "    def fit_rnn_bert_based_seq(X, y):\n",
    "        mod = TorchRNNClassifier(\n",
    "            vocab=[],\n",
    "            hidden_dim=256,\n",
    "            early_stopping=True,\n",
    "            bidirectional=True,\n",
    "            use_embedding=False)\n",
    "        mod.fit(X, y)\n",
    "        return mod"
   ],
   "execution_count": 152,
   "outputs": []
  },
  {
   "cell_type": "code",
   "metadata": {
    "id": "ROzxid_2EIQd",
    "executionInfo": {
     "status": "ok",
     "timestamp": 1631494784105,
     "user_tz": -330,
     "elapsed": 375,
     "user": {
      "displayName": "Shubham Chowdhary",
      "photoUrl": "https://lh3.googleusercontent.com/a-/AOh14GgFkFw1pKwpL_S-zFEuR17zOZk_I_CGJ-d72aCpmg=s64",
      "userId": "09510905510812321280"
     }
    }
   },
   "source": [
    "# TODO(schowdhary): Complete sequential BERT embedding based RNN model\n",
    "# if 'IS_GRADESCOPE_ENV' not in os.environ:   \n",
    "#     %%time\n",
    "#     rnn_bert_based_seq_bert_all_phi_experiment = sst.experiment(\n",
    "#         [sst_train, truncated_dsent_train],\n",
    "#         bert_all_phi,\n",
    "#         fit_rnn_bert_based_seq,\n",
    "#         assess_dataframes=[sst_dev, bakeoff_dev],\n",
    "#         vectorize=False)"
   ],
   "execution_count": 160,
   "outputs": []
  },
  {
   "cell_type": "markdown",
   "metadata": {
    "id": "2F1bmie5hZeB"
   },
   "source": [
    "#### 5. Combining the best models till now through an ensemble\n"
   ]
  },
  {
   "cell_type": "markdown",
   "metadata": {
    "id": "PLMuhgev8qCO"
   },
   "source": [
    "**_We define a Hybrid-Custom Model that weighted-averages on the probability matrix of the chosen top performing models from the above._** This object tries to\n",
    "include as few interfaces as possible to just make it work with the user code."
   ]
  },
  {
   "cell_type": "code",
   "metadata": {
    "id": "Z5o0GElshgUa",
    "executionInfo": {
     "status": "ok",
     "timestamp": 1631508099825,
     "user_tz": -330,
     "elapsed": 366,
     "user": {
      "displayName": "Shubham Chowdhary",
      "photoUrl": "https://lh3.googleusercontent.com/a-/AOh14GgFkFw1pKwpL_S-zFEuR17zOZk_I_CGJ-d72aCpmg=s64",
      "userId": "09510905510812321280"
     }
    }
   },
   "source": [
    "if 'IS_GRADESCOPE_ENV' not in os.environ: \n",
    "    from sklearn.metrics import classification_report\n",
    "    class CustomClassifier:\n",
    "        def __init__(self, exp_list, model_weights):\n",
    "            self.exp_list = exp_list\n",
    "            self.model_weights = model_weights\n",
    "            self.aggr_proba = [0.] * 3\n",
    "            # WARNING: Dont change the order here, as the base class of the models\n",
    "            # number the classes internally this way only\n",
    "            self.label = [\"negative\", \"neutral\", \"positive\"]\n",
    "\n",
    "            assert np.sum(model_weights) == 1\n",
    "            assert len(exp_list) == len(model_weights)\n",
    "\n",
    "        def predict_one(self, text):\n",
    "            exp_idx = 0\n",
    "            self.aggr_proba = [0.] *3\n",
    "            for exp in self.exp_list:\n",
    "                if exp['train_dataset']['vectorizer'] is not None:\n",
    "\n",
    "                    # print(\"EXP: \", str(exp_idx) , \" is vectorizer based\")\n",
    "                    feats = [exp['phi'](text)]\n",
    "                    X = exp['train_dataset']['vectorizer'].transform(feats)\n",
    "\n",
    "                else:\n",
    "                    # print(\"EXP: \", str(exp_idx), \" is NOT vectorizer based\")\n",
    "\n",
    "                    X = [exp['phi'](text)]\n",
    "\n",
    "                pred_proba = exp['model'].predict_proba(X)[0]\n",
    "\n",
    "                pred_proba_red = pred_proba * self.model_weights[exp_idx]\n",
    "\n",
    "                # print(\"EXP: \", str(exp_idx), \" is predicting \", pred_proba)\n",
    "                # print(\"EXP: \", str(exp_idx), \" is predicting nord \", pred_proba_red)\n",
    "\n",
    "                self.aggr_proba = [sum(x) for x in zip(self.aggr_proba, pred_proba_red)]\n",
    "\n",
    "                # print(\"EXP: \", str(exp_idx), \" is predicting aggr \", self.aggr_proba)\n",
    "\n",
    "                exp_idx+=1\n",
    "\n",
    "            aggr_proba_arr = np.array(self.aggr_proba)\n",
    "            test_pred = [self.label[aggr_proba_arr.argmax(axis=0)]]\n",
    "\n",
    "            return test_pred[0]\n",
    "    \n",
    "    def confusion_result(custom_classifier):\n",
    "        sst_dev = sst.dev_reader(SST_HOME)\n",
    "        bakeoff_dev = sst.bakeoff_dev_reader(SST_HOME)\n",
    "        dev_sets = [sst_dev, bakeoff_dev]\n",
    "\n",
    "        for dev_set in dev_sets:\n",
    "            dev_set_y_dev = dev_set['label'].values\n",
    "            dev_set_y_pred = [custom_classifier.predict_one(text) for text in dev_set['sentence'].values]\n",
    "            print(classification_report(dev_set_y_dev, dev_set_y_pred, digits=3))\n",
    "\n",
    "\n",
    "\n",
    "\n",
    "\n",
    "\n"
   ],
   "execution_count": 204,
   "outputs": []
  },
  {
   "cell_type": "code",
   "metadata": {
    "colab": {
     "base_uri": "https://localhost:8080/"
    },
    "id": "B7WZTiyJsHeg",
    "executionInfo": {
     "status": "ok",
     "timestamp": 1631508189432,
     "user_tz": -330,
     "elapsed": 62853,
     "user": {
      "displayName": "Shubham Chowdhary",
      "photoUrl": "https://lh3.googleusercontent.com/a-/AOh14GgFkFw1pKwpL_S-zFEuR17zOZk_I_CGJ-d72aCpmg=s64",
      "userId": "09510905510812321280"
     }
    },
    "outputId": "76a55c15-f657-4717-b593-6e9a41db6916"
   },
   "source": [
    "if 'IS_GRADESCOPE_ENV' not in os.environ: \n",
    "    custom_classifier = CustomClassifier([optim_bert_classifier_experiment, custom_nn_bert_based_bert_repr_phi_experiment, rnn_bert_based_tweet_token_phi_experiment], [0.6, 0.2, 0.2])\n",
    "    confusion_result(custom_classifier)"
   ],
   "execution_count": 206,
   "outputs": [
    {
     "output_type": "stream",
     "name": "stdout",
     "text": [
      "              precision    recall  f1-score   support\n",
      "\n",
      "    negative      0.809     0.811     0.810       428\n",
      "     neutral      0.509     0.354     0.418       229\n",
      "    positive      0.772     0.892     0.828       444\n",
      "\n",
      "    accuracy                          0.748      1101\n",
      "   macro avg      0.697     0.685     0.685      1101\n",
      "weighted avg      0.732     0.748     0.735      1101\n",
      "\n",
      "              precision    recall  f1-score   support\n",
      "\n",
      "    negative      0.747     0.766     0.756       565\n",
      "     neutral      0.807     0.822     0.815      1019\n",
      "    positive      0.828     0.792     0.809       777\n",
      "\n",
      "    accuracy                          0.799      2361\n",
      "   macro avg      0.794     0.793     0.793      2361\n",
      "weighted avg      0.799     0.799     0.799      2361\n",
      "\n"
     ]
    }
   ]
  },
  {
   "cell_type": "markdown",
   "metadata": {
    "id": "_RTnAKOd3tJe"
   },
   "source": [
    "Maximum records:\n",
    "(nn_bert, rnn_bert) -> (0.5, 0.5) -> 0.683\n",
    "\n",
    "-> (0.4, 0.6) -> 0.6825\n",
    "\n",
    "-> (0.6, 0.4) -> 0.683\n",
    "\n",
    "-> (0.7, 0.3) -> 0.6815\n",
    "\n",
    "So for this combination, the best combination is (0.5, 0.5)\n",
    "\n",
    "(optim_bert, nn_bert, rnn_bert) -> (1, 0, 0) -> 0.7355\n",
    "\n",
    "**_->(0.6, 0.2, 0.2) -> 0.739_**\n",
    "\n"
   ]
  },
  {
   "cell_type": "code",
   "metadata": {
    "id": "yOM1mB6JyZcr",
    "executionInfo": {
     "status": "ok",
     "timestamp": 1631481283351,
     "user_tz": -330,
     "elapsed": 377,
     "user": {
      "displayName": "Shubham Chowdhary",
      "photoUrl": "https://lh3.googleusercontent.com/a-/AOh14GgFkFw1pKwpL_S-zFEuR17zOZk_I_CGJ-d72aCpmg=s64",
      "userId": "09510905510812321280"
     }
    }
   },
   "source": [
    "# # TESTER CALL on predict_one to check if it matches original answers\n",
    "# if 'IS_GRADESCOPE_ENV' not in os.environ: \n",
    "#     def predict_one(text):\n",
    "#         # Singleton list of feature dicts:\n",
    "#         X = [custom_nn_bert_based_bert_repr_phi_experiment['phi'](text)]\n",
    "\n",
    "#         # Standard sklearn `predict` step:\n",
    "#         preds = custom_nn_bert_based_bert_repr_phi_experiment['model'].predict(X)\n",
    "#         # Be sure to return the only member of the predictions,\n",
    "#         # rather than the singleton list:\n",
    "#         return preds[0]\n",
    "\n",
    "#     dev_sets = [sst_dev, bakeoff_dev]\n",
    "\n",
    "#     for dev_set in dev_sets:\n",
    "#         dev_set_y_dev = dev_set['label'].values\n",
    "#         dev_set_y_pred = [predict_one(text) for text in dev_set['sentence'].values]\n",
    "\n",
    "#         # print(dev_set_y_dev[0:10])\n",
    "#         # print(dev_set_y_pred[0:10])\n",
    "#         print(classification_report(dev_set_y_dev, dev_set_y_pred, digits=3))\n",
    "    "
   ],
   "execution_count": 100,
   "outputs": []
  },
  {
   "cell_type": "markdown",
   "metadata": {
    "id": "ZDUU9BLy-aat"
   },
   "source": [
    "#### 6. Error Analysis on weaker of the chosen models"
   ]
  },
  {
   "cell_type": "code",
   "metadata": {
    "colab": {
     "base_uri": "https://localhost:8080/"
    },
    "id": "wQwPBVRw-epL",
    "executionInfo": {
     "status": "ok",
     "timestamp": 1631500332295,
     "user_tz": -330,
     "elapsed": 452,
     "user": {
      "displayName": "Shubham Chowdhary",
      "photoUrl": "https://lh3.googleusercontent.com/a-/AOh14GgFkFw1pKwpL_S-zFEuR17zOZk_I_CGJ-d72aCpmg=s64",
      "userId": "09510905510812321280"
     }
    },
    "outputId": "a58a6adf-8aa2-4993-80aa-9116b6e44c24"
   },
   "source": [
    "# between experiments custom_nn_bert_based_bert_repr_phi_experiment & rnn_bert_based_tweet_token_phi_experiment\n",
    "if 'IS_GRADESCOPE_ENV' not in os.environ:\n",
    "    analysis_custom_nn_bert_based_bert_repr_phi_experiment = \\\n",
    "    find_errors(custom_nn_bert_based_bert_repr_phi_experiment)\n",
    "    analysis_rnn_bert_based_tweet_token_phi_experiment = \\\n",
    "    find_errors(rnn_bert_based_tweet_token_phi_experiment)\n",
    "\n",
    "    analysis = analysis_custom_nn_bert_based_bert_repr_phi_experiment.merge(\n",
    "    analysis_rnn_bert_based_tweet_token_phi_experiment, left_on='raw_examples',\n",
    "     right_on='raw_examples')\n",
    "\n",
    "    analysis = analysis.drop('gold_y', axis=1).rename(columns={'gold_x': 'gold'})\n",
    "\n",
    "    # Examples where the 1st is correct, 2nd is not,\n",
    "    # and the gold label is 'neutral'\n",
    "\n",
    "    error_group = analysis[\n",
    "        (analysis['predicted_x'] == analysis['gold'])\n",
    "        &\n",
    "        (analysis['predicted_y'] != analysis['gold'])\n",
    "        &\n",
    "        (analysis['gold'] == 'positive')\n",
    "    ]\n",
    "\n",
    "    print(\"Error group shape: \\n\", error_group.shape[0])\n",
    "\n",
    "    for ex in error_group['raw_examples'].sample(5, random_state=1):\n",
    "        print(\"=\"*70)\n",
    "        print(ex)"
   ],
   "execution_count": 187,
   "outputs": [
    {
     "output_type": "stream",
     "name": "stdout",
     "text": [
      "Error group shape: \n",
      " 99\n",
      "======================================================================\n",
      "I ordered medium and it actually came out medium.\n",
      "======================================================================\n",
      "It's going to take quite a few visits to try everything that called out to me on the menu.\n",
      "======================================================================\n",
      "` De Niro ... is a veritable source of sincere passion that this Hollywood contrivance orbits around . '\n",
      "======================================================================\n",
      "It was like a choreographied dance...haven't seen that kind of service since I was in Europe!\n",
      "======================================================================\n",
      "My mom and I wanted to try this restaurant out, so I decided it would be a great place to go to celebrate Mother's Day.\n"
     ]
    }
   ]
  },
  {
   "cell_type": "markdown",
   "metadata": {
    "id": "FK9bPSFP_7EL"
   },
   "source": [
    "**_Neutral classifications for both these models are poor. So it is good to see where would the two models differ in their idea for \"neutral\" even when both of them are bad at it._**"
   ]
  },
  {
   "cell_type": "code",
   "metadata": {
    "colab": {
     "base_uri": "https://localhost:8080/"
    },
    "id": "twMNEWE5A4JJ",
    "executionInfo": {
     "status": "ok",
     "timestamp": 1631500779550,
     "user_tz": -330,
     "elapsed": 372,
     "user": {
      "displayName": "Shubham Chowdhary",
      "photoUrl": "https://lh3.googleusercontent.com/a-/AOh14GgFkFw1pKwpL_S-zFEuR17zOZk_I_CGJ-d72aCpmg=s64",
      "userId": "09510905510812321280"
     }
    },
    "outputId": "3a51354c-2acc-4f9c-9b16-77e1e565638e"
   },
   "source": [
    "# McNemar's Test\n",
    "if 'IS_GRADESCOPE_ENV' not in os.environ:\n",
    "    m = utils.mcnemar(\n",
    "        custom_nn_bert_based_bert_repr_phi_experiment['assess_datasets'][0]['y'],\n",
    "        custom_nn_bert_based_bert_repr_phi_experiment['predictions'][0],\n",
    "        rnn_bert_based_tweet_token_phi_experiment['predictions'][0])\n",
    "    \n",
    "    p = \"p < 0.0001\" if m[1] < 0.0001 else m[1]\n",
    "\n",
    "    print(\"McNemar's test: {0:0.02f} ({1:})\".format(m[0], p))"
   ],
   "execution_count": 188,
   "outputs": [
    {
     "output_type": "stream",
     "name": "stdout",
     "text": [
      "McNemar's test: 0.15 (0.6967274236606604)\n"
     ]
    }
   ]
  },
  {
   "cell_type": "markdown",
   "metadata": {
    "id": "XKTgPnSlE4qL",
    "pycharm": {
     "name": "#%% md\n"
    }
   },
   "source": [
    "#### 7. Test Set Score ~0.72"
   ]
  },
  {
   "cell_type": "markdown",
   "source": [
    "### Future Work/Limitations\n",
    "1. Extend the above original system for 5-class data-labels\n",
    "2. The SST3 dataset used in this experiment has somewhat unbalanced examples across the 3 labels. To be precise, some examples that are just simple facts, are labelled \"positive\"/\"negative\" based on prevalent human-emotions making \"neutral\" label extremely under-represented. Hence the \"neutral\" sentiment detection performance was relatively poor.\n",
    "3. Moreover, the 3-class datasets we used are a direct translation from 5-star/class review corpora, where (1,2) are \"negative\", 3 is neutral, and (4,5) are \"positive\". But in reality, a product/service/movie rated 3 \"stars\" might not always be regarded \"neutral\" and might still reflect some positive sentiment/degree of happiness on the part of the review maker. This kind of subjectivity is not modelled here.\n",
    "4. Future work can try to improve on a cross-dataset sentiment perception. If a model is trained to detect sentiments from only a movie review dataset, it should still be able to detect sentiments \"well-enough\" for a product review, for example, by capturing basic hidden representations of \"positive\"/\"negative\"/\"neutral\" feelings.\n",
    "5. Since the \"neutral\" labels had poor performance on test set, we might look into a system that first tries to classify reviews as facts/non-facts. This classification might help augmenting a correct classification between \"neutral\" and other extreme classes.\n",
    " "
   ],
   "metadata": {
    "collapsed": false,
    "pycharm": {
     "name": "#%% md\n"
    }
   }
  },
  {
   "cell_type": "markdown",
   "source": [
    "### References\n",
    "\n",
    "1. [Prof. Chris Potts' Implementation on Negative Tokenizing](http://sentiment.christopherpotts.net/code-data/happyfuntokenizing.py)\n",
    "2. [Prof. Chris Potts' NLP Research Architecture](https://github.com/cgpotts/cs224u)\n",
    "3. [DynaSent DataSet](https://github.com/cgpotts/dynasent)"
   ],
   "metadata": {
    "collapsed": false,
    "pycharm": {
     "name": "#%% md\n"
    }
   }
  }
 ]
}